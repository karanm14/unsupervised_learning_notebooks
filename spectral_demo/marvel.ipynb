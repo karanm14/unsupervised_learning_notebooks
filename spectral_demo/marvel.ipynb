{
 "cells": [
  {
   "cell_type": "code",
   "execution_count": 1,
   "metadata": {},
   "outputs": [
    {
     "data": {
      "text/html": [
       "        <script type=\"text/javascript\">\n",
       "        window.PlotlyConfig = {MathJaxConfig: 'local'};\n",
       "        if (window.MathJax) {MathJax.Hub.Config({SVG: {font: \"STIX-Web\"}});}\n",
       "        if (typeof require !== 'undefined') {\n",
       "        require.undef(\"plotly\");\n",
       "        requirejs.config({\n",
       "            paths: {\n",
       "                'plotly': ['https://cdn.plot.ly/plotly-latest.min']\n",
       "            }\n",
       "        });\n",
       "        require(['plotly'], function(Plotly) {\n",
       "            window._Plotly = Plotly;\n",
       "        });\n",
       "        }\n",
       "        </script>\n",
       "        "
      ]
     },
     "metadata": {},
     "output_type": "display_data"
    }
   ],
   "source": [
    "import numpy as np\n",
    "import pandas as pd\n",
    "from scipy.sparse.linalg import eigs \n",
    "import scipy.linalg as lin\n",
    "\n",
    "df_edges = pd.read_csv('./marvel_edges.csv') \n",
    "df_nodes = pd.read_csv('./marvel_nodes.csv') \n",
    "\n",
    "\n",
    "from plotly.offline import download_plotlyjs, init_notebook_mode, plot, iplot\n",
    "import plotly.graph_objs as go\n",
    "\n",
    "init_notebook_mode(connected=True)\n"
   ]
  },
  {
   "cell_type": "code",
   "execution_count": 2,
   "metadata": {},
   "outputs": [
    {
     "data": {
      "text/html": [
       "<div>\n",
       "<style scoped>\n",
       "    .dataframe tbody tr th:only-of-type {\n",
       "        vertical-align: middle;\n",
       "    }\n",
       "\n",
       "    .dataframe tbody tr th {\n",
       "        vertical-align: top;\n",
       "    }\n",
       "\n",
       "    .dataframe thead th {\n",
       "        text-align: right;\n",
       "    }\n",
       "</style>\n",
       "<table border=\"1\" class=\"dataframe\">\n",
       "  <thead>\n",
       "    <tr style=\"text-align: right;\">\n",
       "      <th></th>\n",
       "      <th>Source</th>\n",
       "      <th>Target</th>\n",
       "      <th>Weight</th>\n",
       "    </tr>\n",
       "  </thead>\n",
       "  <tbody>\n",
       "    <tr>\n",
       "      <td>0</td>\n",
       "      <td>Black Panther / T'chal</td>\n",
       "      <td>Loki [asgardian]</td>\n",
       "      <td>10</td>\n",
       "    </tr>\n",
       "    <tr>\n",
       "      <td>1</td>\n",
       "      <td>Black Panther / T'chal</td>\n",
       "      <td>Mantis / ? Brandt</td>\n",
       "      <td>23</td>\n",
       "    </tr>\n",
       "    <tr>\n",
       "      <td>2</td>\n",
       "      <td>Black Panther / T'chal</td>\n",
       "      <td>Iceman / Robert Bobby</td>\n",
       "      <td>12</td>\n",
       "    </tr>\n",
       "    <tr>\n",
       "      <td>3</td>\n",
       "      <td>Black Panther / T'chal</td>\n",
       "      <td>Marvel Girl / Jean Grey</td>\n",
       "      <td>10</td>\n",
       "    </tr>\n",
       "    <tr>\n",
       "      <td>4</td>\n",
       "      <td>Black Panther / T'chal</td>\n",
       "      <td>Cyclops / Scott Summer</td>\n",
       "      <td>14</td>\n",
       "    </tr>\n",
       "    <tr>\n",
       "      <td>...</td>\n",
       "      <td>...</td>\n",
       "      <td>...</td>\n",
       "      <td>...</td>\n",
       "    </tr>\n",
       "    <tr>\n",
       "      <td>9886</td>\n",
       "      <td>Mr. Fantastic Doppel</td>\n",
       "      <td>Iron Man Doppelgange</td>\n",
       "      <td>7</td>\n",
       "    </tr>\n",
       "    <tr>\n",
       "      <td>9887</td>\n",
       "      <td>Maddicks, Arthur Art</td>\n",
       "      <td>Hodge, Cameron</td>\n",
       "      <td>18</td>\n",
       "    </tr>\n",
       "    <tr>\n",
       "      <td>9888</td>\n",
       "      <td>Maddicks, Arthur Art</td>\n",
       "      <td>Leech</td>\n",
       "      <td>55</td>\n",
       "    </tr>\n",
       "    <tr>\n",
       "      <td>9889</td>\n",
       "      <td>Leech</td>\n",
       "      <td>Hodge, Cameron</td>\n",
       "      <td>11</td>\n",
       "    </tr>\n",
       "    <tr>\n",
       "      <td>9890</td>\n",
       "      <td>Mam'selle Hepzibah</td>\n",
       "      <td>Raza Longknife</td>\n",
       "      <td>34</td>\n",
       "    </tr>\n",
       "  </tbody>\n",
       "</table>\n",
       "<p>9891 rows × 3 columns</p>\n",
       "</div>"
      ],
      "text/plain": [
       "                      Source                   Target  Weight\n",
       "0     Black Panther / T'chal         Loki [asgardian]      10\n",
       "1     Black Panther / T'chal        Mantis / ? Brandt      23\n",
       "2     Black Panther / T'chal    Iceman / Robert Bobby      12\n",
       "3     Black Panther / T'chal  Marvel Girl / Jean Grey      10\n",
       "4     Black Panther / T'chal   Cyclops / Scott Summer      14\n",
       "...                      ...                      ...     ...\n",
       "9886    Mr. Fantastic Doppel     Iron Man Doppelgange       7\n",
       "9887    Maddicks, Arthur Art           Hodge, Cameron      18\n",
       "9888    Maddicks, Arthur Art                    Leech      55\n",
       "9889                   Leech           Hodge, Cameron      11\n",
       "9890      Mam'selle Hepzibah           Raza Longknife      34\n",
       "\n",
       "[9891 rows x 3 columns]"
      ]
     },
     "execution_count": 2,
     "metadata": {},
     "output_type": "execute_result"
    }
   ],
   "source": [
    "df_edges"
   ]
  },
  {
   "cell_type": "code",
   "execution_count": 3,
   "metadata": {},
   "outputs": [
    {
     "data": {
      "text/html": [
       "<div>\n",
       "<style scoped>\n",
       "    .dataframe tbody tr th:only-of-type {\n",
       "        vertical-align: middle;\n",
       "    }\n",
       "\n",
       "    .dataframe tbody tr th {\n",
       "        vertical-align: top;\n",
       "    }\n",
       "\n",
       "    .dataframe thead th {\n",
       "        text-align: right;\n",
       "    }\n",
       "</style>\n",
       "<table border=\"1\" class=\"dataframe\">\n",
       "  <thead>\n",
       "    <tr style=\"text-align: right;\">\n",
       "      <th></th>\n",
       "      <th>Id</th>\n",
       "      <th>Label</th>\n",
       "    </tr>\n",
       "  </thead>\n",
       "  <tbody>\n",
       "    <tr>\n",
       "      <td>0</td>\n",
       "      <td>Black Panther / T'chal</td>\n",
       "      <td>Black Panther / T'chal</td>\n",
       "    </tr>\n",
       "    <tr>\n",
       "      <td>1</td>\n",
       "      <td>Loki [asgardian]</td>\n",
       "      <td>Loki [asgardian]</td>\n",
       "    </tr>\n",
       "    <tr>\n",
       "      <td>2</td>\n",
       "      <td>Mantis / ? Brandt</td>\n",
       "      <td>Mantis / ? Brandt</td>\n",
       "    </tr>\n",
       "    <tr>\n",
       "      <td>3</td>\n",
       "      <td>Iceman / Robert Bobby</td>\n",
       "      <td>Iceman / Robert Bobby</td>\n",
       "    </tr>\n",
       "    <tr>\n",
       "      <td>4</td>\n",
       "      <td>Marvel Girl / Jean Grey</td>\n",
       "      <td>Marvel Girl / Jean Grey</td>\n",
       "    </tr>\n",
       "    <tr>\n",
       "      <td>...</td>\n",
       "      <td>...</td>\n",
       "      <td>...</td>\n",
       "    </tr>\n",
       "    <tr>\n",
       "      <td>322</td>\n",
       "      <td>Makkari / Mike Khary / I</td>\n",
       "      <td>Makkari / Mike Khary / I</td>\n",
       "    </tr>\n",
       "    <tr>\n",
       "      <td>323</td>\n",
       "      <td>Hodge, Cameron</td>\n",
       "      <td>Hodge, Cameron</td>\n",
       "    </tr>\n",
       "    <tr>\n",
       "      <td>324</td>\n",
       "      <td>Skin / Angelo Espinosa</td>\n",
       "      <td>Skin / Angelo Espinosa</td>\n",
       "    </tr>\n",
       "    <tr>\n",
       "      <td>325</td>\n",
       "      <td>Husk / Paige Guthrie</td>\n",
       "      <td>Husk / Paige Guthrie</td>\n",
       "    </tr>\n",
       "    <tr>\n",
       "      <td>326</td>\n",
       "      <td>Deadpool / Jack / Wade W</td>\n",
       "      <td>Deadpool / Jack / Wade W</td>\n",
       "    </tr>\n",
       "  </tbody>\n",
       "</table>\n",
       "<p>327 rows × 2 columns</p>\n",
       "</div>"
      ],
      "text/plain": [
       "                           Id                     Label\n",
       "0      Black Panther / T'chal    Black Panther / T'chal\n",
       "1            Loki [asgardian]          Loki [asgardian]\n",
       "2           Mantis / ? Brandt         Mantis / ? Brandt\n",
       "3       Iceman / Robert Bobby     Iceman / Robert Bobby\n",
       "4     Marvel Girl / Jean Grey   Marvel Girl / Jean Grey\n",
       "..                        ...                       ...\n",
       "322  Makkari / Mike Khary / I  Makkari / Mike Khary / I\n",
       "323            Hodge, Cameron            Hodge, Cameron\n",
       "324    Skin / Angelo Espinosa    Skin / Angelo Espinosa\n",
       "325      Husk / Paige Guthrie      Husk / Paige Guthrie\n",
       "326  Deadpool / Jack / Wade W  Deadpool / Jack / Wade W\n",
       "\n",
       "[327 rows x 2 columns]"
      ]
     },
     "execution_count": 3,
     "metadata": {},
     "output_type": "execute_result"
    }
   ],
   "source": [
    "df_nodes"
   ]
  },
  {
   "cell_type": "code",
   "execution_count": 10,
   "metadata": {},
   "outputs": [],
   "source": [
    "# Load graph from csv file A is adjacency matrix and D is degree matrix\n",
    "\n",
    "m = df_nodes.shape[0]\n",
    "n = df_edges.shape[0]\n",
    "\n",
    "A = np.zeros((m,m))\n",
    "D = np.zeros((m,m))\n",
    "\n",
    "for i in range(n):\n",
    "    U = df_edges.values[i,0]\n",
    "    V = df_edges.values[i,1]\n",
    "    w = df_edges.values[i,2]\n",
    "    id_U = np.where((df_nodes.values[:,0] == U))\n",
    "    id_V = np.where((df_nodes.values[:,0] == V))\n",
    "    a = id_U[0]\n",
    "    b = id_V[0]\n",
    "    A[a,b] = w\n",
    "    A[b,a] = w\n",
    "    \n",
    "for i in range(m):\n",
    "    D[i,i] = np.sum(A[:,i])\n",
    "    \n",
    "# Compute Unnormalized Laplacian 'L'\n",
    "\n",
    "\n",
    "L = D - A\n",
    "I = np.identity(m);\n",
    "\n",
    "# Compute Normalized Laplacian 'Lt' \n",
    "Dh = lin.sqrtm(D)\n",
    "Dh = lin.inv(Dh)\n",
    "\n",
    "Lt = I - Dh.dot(A.dot(Dh))\n",
    "\n",
    "\n",
    "\n",
    "\n",
    "DI = lin.inv(D)\n",
    "\n",
    "LI = DI@L@DI\n",
    "\n",
    "\n"
   ]
  },
  {
   "cell_type": "code",
   "execution_count": 5,
   "metadata": {},
   "outputs": [],
   "source": [
    "# Perform unnormalized spectral clustering\n",
    "E, V = eigs(L,3,which='SR')\n",
    "E = np.real(E)\n",
    "V = np.real(V)\n",
    "\n",
    "Y = V[:,1:3]*100"
   ]
  },
  {
   "cell_type": "code",
   "execution_count": 6,
   "metadata": {},
   "outputs": [
    {
     "data": {
      "application/vnd.plotly.v1+json": {
       "config": {
        "linkText": "Export to plot.ly",
        "plotlyServerURL": "https://plot.ly",
        "showLink": false
       },
       "data": [
        {
         "marker": {
          "opacity": 0.5,
          "size": 5,
          "symbol": "circle"
         },
         "mode": "markers+text",
         "text": [
          "Black Panther / T'chal",
          "Loki [asgardian]",
          "Mantis / ? Brandt",
          "Iceman / Robert Bobby",
          "Marvel Girl / Jean Grey",
          "Cyclops / Scott Summer",
          "Klaw / Ulysses Klaw",
          "Human Torch / Johnny S",
          "Richards, Franklin B",
          "Wolverine / Logan",
          "Firebird / Bonita Juar",
          "Mr. Fantastic / Reed R",
          "Medusa / Medusalith Am",
          "Dr. Strange / Stephen",
          "Jack Of Hearts / Jack",
          "Mephisto",
          "Thanos",
          "Swordsman / Jacques Du",
          "Collector / Taneleer T",
          "Lockjaw [inhuman]",
          "Sub-mariner / Namor Ma",
          "Pharaoh Rama-tut",
          "Ant-man Ii / Scott Har",
          "Lyja Lazerfist [skru",
          "Gorgon [inhuman]",
          "Nighthawk Ii / Kyle Ri",
          "Cage, Luke / Carl Luca",
          "Colossus Ii / Peter Ra",
          "Hellcat / Patsy Walker",
          "Karnak [inhuman]",
          "Death",
          "Redwing",
          "Daredevil / Matt Murdo",
          "Norriss, Sister Barb",
          "Rage / Elvin Daryl Hal",
          "Starfox / Eros",
          "Demolition Man / Denni",
          "Sersi / Sylvia",
          "Spider-man / Peter Parker",
          "Vision",
          "Uatu",
          "Binary / Carol Danvers",
          "Gyrich, Henry Peter",
          "Nightcrawler / Kurt Wa",
          "Angel / Warren Kenneth",
          "Silver Surfer / Norrin",
          "She-hulk / Jennifer Wa",
          "Ghaur [deviant]",
          "Dr. Doom / Victor Von",
          "Storm / Ororo Munroe S",
          "Scarlet Witch / Wanda",
          "Toad / Mortimer Toynbe",
          "Hulk / Dr. Robert Bruce Banner",
          "Firestar / Angelica Jo",
          "Wonder Man / Simon Wil",
          "Drax / Arthur Douglas",
          "Dugan, Timothy Aloyi",
          "Carter, Sharon",
          "Black Knight V / Dane",
          "Sunfire / Shiro Yoshid",
          "Triton",
          "Ultron",
          "Jones, Richard Milho",
          "Iron Man / Tony Stark",
          "Nelson, Franklin Fog",
          "Captain America",
          "Jarvis, Edwin",
          "Quasar Iii / Wendell V",
          "Jameson, J. Jonah",
          "Masters, Alicia Reis",
          "Magneto / Magnus / Eric",
          "Invisible Woman / Sue",
          "Professor X / Charles",
          "Iron Fist / Daniel Ran",
          "Black Bolt / Blackanto",
          "Hawk",
          "Sandman / William Bake",
          "Falcon / Sam Wilson",
          "Stingray / Dr. Walter",
          "Justice Ii / Vance Ast",
          "Hercules [greek God]",
          "Usagent / Captain John",
          "Captain Marvel Ii / Mo",
          "Crystal [inhuman]",
          "Tigra / Greer Nelson",
          "Spider-woman Ii / Juli",
          "Machine Man / X-51",
          "Mockingbird / Dr. Barb",
          "Captain Marvel / Capta",
          "Wasp / Janet Van Dyne",
          "Fury, Col. Nicholas",
          "Thor / Dr. Donald Blak",
          "Quicksilver / Pietro M",
          "Captain Britain / Bria",
          "Shadowcat / Katherine",
          "Black Widow / Natasha",
          "Ant-man / Dr. Henry J.",
          "Moon Knight / Marc Spe",
          "Jocasta",
          "Moondragon / Heather D",
          "Thing / Benjamin J. Gr",
          "Beast / Henry &hank& P",
          "Nova / Richard Rider",
          "Wrecker Iii / Dirk Gar",
          "Warlock Ii / Adam Warl",
          "Piledriver Ii / Brian",
          "Thunderball / Dr. Elio",
          "Dr. Octopus / Otto Oct",
          "Banner, Betty Ross T",
          "Avalanche / Dominic Pe",
          "Attuma",
          "Hela [asgardian]",
          "Doc Samson / Dr. Leona",
          "Guardian / James Macdo",
          "Northstar / Jean-paul",
          "Dr. Druid / Anthony Lu",
          "Watson-parker, Mary",
          "Mystique / Raven Darkh",
          "Pyro / Allerdyce Johnn",
          "Destiny Ii / Irene Adl",
          "Mister Hyde / Calvin Z",
          "Ghost Rider Ii / Johnn",
          "Mole Man / Harvey Rupe",
          "Firelord / Pyreus Kril",
          "Leader / Sam Sterns",
          "Le Fey, Morgan",
          "Bulldozer / Henry Camp",
          "Forgotten One / Gilgam",
          "Balder [asgardian]",
          "Hogun [asgardian]",
          "Hellstorm / Daimon Hel",
          "Aurora / Jeanne-marie",
          "O'brien, Michael",
          "Stankowicz, Fabian",
          "Screaming Mimi / Melis",
          "Moonstone Ii / Karla S",
          "Fixer Ii / Paul Norber",
          "Darkstar / Laynia Serg",
          "Vanguard / Nicolai Kry",
          "Gamora",
          "Psylocke / Elisabeth B",
          "Rogue  / ",
          "Sasquatch / Walter Lan",
          "Luna / Luna Maximoff [",
          "Whizzer Ii / Stanley S",
          "Dr. Spectrum / Joseph",
          "Kingpin / Wilson Fisk",
          "Clea",
          "Polaris / Lorna Dane",
          "De La Fontaine, Cont",
          "Heimdall [asgardian]",
          "Red Skull / Johann Sch",
          "Thompson, Eugene Fla",
          "Wong",
          "Parker, May",
          "Green Goblin / Norman",
          "Night Thrasher / Duane",
          "Eternity / Adam Qadmon",
          "Galactus / Galan",
          "Triathlon / Delroy Gar",
          "Beetle / Abner Ronald",
          "Lilandra Neramani [s",
          "Odin [asgardian]",
          "Hogan, Virginia Pepp",
          "Mad Dog / Colonel Buzz",
          "Kincaid, Dr. Jane Fo",
          "Wizard / Bentley Wittm",
          "Charcoal / Charlie Bur",
          "Blob / Fred J. Dukes",
          "Cloak / Tyrone Johnson",
          "Thunderstrike / Eric K",
          "Power Man / Erik Joste",
          "Human Torch Android / ",
          "Juggernaut / Cain Mark",
          "Absorbing Man / Carl C",
          "Volstagg",
          "Shaman / Michael Twoyo",
          "Snowbird / Narya / Anne",
          "Dagger / Tandy Bowen",
          "Phoenix Iii / Rachel S",
          "Mandarin",
          "Fandral [asgardian]",
          "Ms. Marvel Ii / Sharon",
          "Pip / Prince Gofern",
          "Enchantress / Amora / He",
          "Jameson, Col. John",
          "Cooper, Dr. Valerie",
          "Nova Ii / Frankie Raye",
          "Darkhawk / Chris Powel",
          "Nomad Iii / Jack Monro",
          "Robertson, Joe",
          "Gargoyle Ii / Isaac Ch",
          "Namorita / Nita Prenti",
          "Iron Man Iv / James R.",
          "Ross, Gen. Thaddeus",
          "Harkness, Agatha",
          "Carter, Peggy",
          "Hyperion",
          "Living Lightning / Mig",
          "Jones, Gabe",
          "Osborn, Liz Allan",
          "Leeds, Betty Brant",
          "Sif",
          "Dazzler Ii / Allison B",
          "Molecule Man / Owen Re",
          "Speedball / Robbie Bal",
          "Lizard / Dr. Curtis Co",
          "Volcana / Marsha Rosen",
          "Lockheed",
          "Titania Ii / Mary Skee",
          "Boomer / Tabitha Smith",
          "Summers, Nathan Chri",
          "Summers, Madelyne Ma",
          "Mactaggert, Moira Ki",
          "Cannonball Ii / Sam Gu",
          "Tilby, Trish / Patrici",
          "Skids / Sally Blevins",
          "Wolfsbane / Rahne Sinc",
          "Leech",
          "Mirage Ii / Danielle M",
          "Gambit / Remy Lebeau",
          "Jubilee / Jubilation L",
          "Strong Guy / Guido Car",
          "Spiral",
          "Banshee / Sean Cassidy",
          "Legion Ii / David Hall",
          "Havok / Alex Summers",
          "Longshot",
          "Forge",
          "Sabretooth / Victor Cr",
          "Maddicks, Arthur Art",
          "Warlock Iii",
          "Rictor / Julio Esteban",
          "Sunspot / Roberto Daco",
          "Firefist / Rusty Colli",
          "Bishop  / ",
          "Daytripper / Amanda Se",
          "Wild Child / Kyle Gibn",
          "Thunderbird Ii / James",
          "Sauron / Dr. Karl Lyko",
          "Siryn / Theresa Rourke",
          "Shatterstar Ii / Gavee",
          "Marrow / Sarah",
          "Feral / Maria Callasan",
          "Callisto",
          "Mr. Sinister / Nathan",
          "Raza Longknife",
          "Spider-woman / Jessica",
          "Cypher / Doug Ramsey",
          "Deathbird [shi'ar]",
          "Hudson, Heather",
          "Stryfe",
          "Iron Man Doppelgange",
          "Puck / Eugene Milton J",
          "Silhouette",
          "Cortez, Fabian",
          "Black King / Sebastian",
          "Magik / Illyana Rasput",
          "Zabu",
          "Domino Iii / Beatrice / ",
          "Caliban / ",
          "Apocalypse / En Sabah",
          "Hunter, Stevie",
          "Corsair",
          "Ch'od",
          "Mam'selle Hepzibah",
          "Zero",
          "X-man / Nathan Grey",
          "Karma / Xi'an Coy Manh",
          "Mr. Fantastic Doppel",
          "Beyonder",
          "Multiple Man / James A",
          "Colossus Ii Doppelga",
          "Scanner Ii",
          "Ka-zar / Kevin Plunder",
          "White Queen / Emma Fro",
          "Magma / Amara Aquilla / ",
          "Thanos Doppelganger",
          "Magus",
          "Knight, Misty",
          "Wing, Colleen",
          "Puppet Master / Philli",
          "Maximus [inhuman]",
          "Punisher Ii / Frank Ca",
          "Zeus",
          "Box Iv / Madison Jeffr",
          "Thena",
          "Black Cat / Felicia Ha",
          "Gee / Alex Power",
          "Spider-man Clone / Ben",
          "Ulik",
          "Citizen V Ii / Helmut",
          "High Evolutionary / He",
          "Hobgoblin V / Jason Ph",
          "Ghost Rider Iii / Dan",
          "Cushing, Kate",
          "Katzenberg, Nick",
          "Vizier",
          "Tombstone / Lonnie Tho",
          "Mercado, Joy",
          "Hammerhead",
          "Arranger / ",
          "Osborn, Harry",
          "Cobra / Klaus Vorhees",
          "Leeds, Ned",
          "Watson, Anna",
          "Urich, Ben",
          "Robertson, Randy",
          "Page, Karen",
          "Grant, Gloria Glory",
          "Lubenski, Nate",
          "Ikaris / Ike Harris [e",
          "Rosenthal, Bernie",
          "Gladiator Ii",
          "Beta Ray Bill",
          "Bridge, George Washi",
          "Diamond Lil / Lillian",
          "Asp Ii / Cleo",
          "Black Mamba / Tanya Se",
          "Meggan",
          "Austin, Susan",
          "Diamondback Ii / Rache",
          "Makkari / Mike Khary / I",
          "Hodge, Cameron",
          "Skin / Angelo Espinosa",
          "Husk / Paige Guthrie",
          "Deadpool / Jack / Wade W"
         ],
         "textfont": {
          "color": "#000000",
          "family": "sans serif",
          "size": 10
         },
         "textposition": "bottom center",
         "type": "scatter",
         "x": [
          -0.40957882796704176,
          -0.5251231417666403,
          -0.4950328602044511,
          -0.6882786862935442,
          -0.7179662161647841,
          -0.7051271003674923,
          -0.5656101630716398,
          -0.5073644110603048,
          -0.5380491389608358,
          -0.6993338272017469,
          -0.4843010531004945,
          -0.502290785714854,
          -0.5359726814586712,
          -0.5405575299391624,
          -0.5583234042421786,
          -0.6135703147381172,
          -0.5853598579016189,
          -0.45839805095146613,
          -0.594377529428046,
          -0.5361349050633851,
          -0.4659469530952676,
          -0.48068722387986695,
          -0.5010677876416925,
          -0.5695029051681699,
          -0.5437674410814074,
          -0.5813181072429116,
          -0.5640436418650532,
          -0.7202329128701709,
          -0.5419279188254944,
          -0.5447397034107159,
          -0.6715855115684871,
          0.8564102637826119,
          -0.2548528836476397,
          -0.5611843681135045,
          -0.3719644604920269,
          -0.3627148901537258,
          0.6650744289607367,
          -0.3731902643818357,
          -0.3771328551480992,
          -0.3935310591649318,
          -0.5461826723481149,
          -0.4992004557087957,
          -0.4684382772652142,
          -0.7487752431287701,
          -0.6928951792174237,
          -0.5336170609908635,
          -0.450140940389758,
          -1.1770448404010636,
          -0.500679723309501,
          -0.7216330292032751,
          -0.4362162808723475,
          -0.8159742195061783,
          -0.5236592367468327,
          -0.5079283007993759,
          -0.4342034293760199,
          -0.5877041630332737,
          -0.14098322519445855,
          0.7788564136180345,
          -0.4394467157281804,
          -0.7602858642212887,
          -0.5552676885500888,
          -0.4919331462119655,
          -0.468064808427221,
          -0.38502875502418465,
          0.06934463504966912,
          0.13958066160782173,
          0.1705324479711576,
          -0.40906152951415964,
          -0.3308744245660793,
          -0.5337295210061477,
          -0.7087470070571005,
          -0.5061407065085457,
          -0.7107251043372544,
          -0.6133113336411126,
          -0.5396759068786963,
          -0.38205689788279473,
          -0.4552361717075789,
          0.31801203036690284,
          -0.5761476807048265,
          -0.46632036724825604,
          -0.3899915556390676,
          -0.3852342121401592,
          -0.40584941959112014,
          -0.4793518463089593,
          -0.4448383076226986,
          -0.49425023706661925,
          -0.5607296130495062,
          -0.3999969153627239,
          -0.46119133945068885,
          -0.37664437355897723,
          -0.25123187847632694,
          -0.4121014122731877,
          -0.4701893022509203,
          -0.7816271183742816,
          -0.7794835273140108,
          -0.30689131669706343,
          -0.3603613358337111,
          -0.5353218849732523,
          -0.42422836408587256,
          -0.5280269178396062,
          -0.5083474662823654,
          -0.6229132579382478,
          -0.5634999422787709,
          -0.4721358716293725,
          -0.6054635558886962,
          -0.4683027101576362,
          -0.47747602966246105,
          -0.49344313950235613,
          -0.5423446057190762,
          -1.0093303603696953,
          -0.7849513583611446,
          -0.7078428506778063,
          -0.5583257860454289,
          -0.7680520958873427,
          -0.6818040603648057,
          -0.5296666068312134,
          -0.3429882045160749,
          -0.8895453481241297,
          -0.9851803602578082,
          -1.0538008680134248,
          5.4495876173190805,
          -0.7199385197509474,
          -0.6394807233213007,
          -0.597658313289293,
          -0.6639651185118292,
          -1.4557233901325435,
          -0.46481461068885577,
          -0.6019452316008742,
          -0.5658592874420897,
          -0.5741747938027433,
          -0.6652010889573686,
          -0.698047194214547,
          1.1340577919846544,
          2.4855502722539757,
          -0.2670153241907557,
          -0.2196596499362511,
          -0.15998529223905075,
          -0.6727277062284037,
          -0.6952176283188508,
          -0.6462572694579399,
          -0.7254847968119376,
          -0.7163734208811467,
          -0.6393505835793938,
          -0.5383868721657104,
          -1.0362860748868763,
          -1.0323551959603403,
          -0.1430710368745883,
          -0.6384466272189461,
          -0.7487737595904681,
          -0.03670809733438583,
          -0.5890400338648581,
          1.036039918241019,
          -0.3279175028207294,
          -0.5972963070976175,
          -0.33469827101981964,
          -0.36741493108005485,
          -0.5977436444526452,
          -0.6428801679342786,
          -0.562020129424905,
          -0.4809205427844966,
          -0.284645710196918,
          -0.8152035304481468,
          -0.547222390747181,
          -0.43028574558185767,
          -0.8835573913345638,
          -0.2641860192577706,
          -0.5297540818039567,
          -0.31917489998238296,
          -0.8712871262173248,
          -0.8155403873010512,
          -0.5128816603451993,
          -0.24076723057892763,
          -0.436356331386477,
          -1.0374212496434976,
          -0.5580466841771364,
          -0.576464525036228,
          -0.6580555035548586,
          -0.7742185654367356,
          -0.7772426176772512,
          -0.8479247005156093,
          -0.4653604088697004,
          -0.5759997918938105,
          -0.5892744481766273,
          -0.6372814063997086,
          -0.542597232007066,
          3.434077351564202,
          -0.7488452012656466,
          -0.6109304540267553,
          -0.5911697974715133,
          0.8489113082388964,
          -0.34089949597912284,
          -0.6322276379298049,
          -0.5595386784518365,
          -0.47860726037992585,
          -0.5416507457485809,
          -0.5466528815979093,
          5.011128863805312,
          -0.947713607244496,
          -0.5380647019326025,
          -0.0045376380723646526,
          -0.35568836762507056,
          -0.3268154301796466,
          -0.5685614477577327,
          -0.7937109886505358,
          -0.6196015526590204,
          -0.5745662303630183,
          -0.5350989457136426,
          -0.670856656571155,
          -0.8377302109737812,
          -0.5111342436626125,
          -0.949621286994314,
          -0.8732425618637956,
          -0.9126557834849018,
          -0.8389013278344537,
          -0.869551445984147,
          -0.9395282987366825,
          -1.0237842779646724,
          -0.8251756206015818,
          -1.1001317846497163,
          -0.9205604992745302,
          -0.7442162662571203,
          -0.8980442912626057,
          -0.7076815419205738,
          -1.1604866361558122,
          -0.8657795689551735,
          -1.1463087421007891,
          -0.7297358148323542,
          -0.8868177896104392,
          -0.799469297848308,
          -0.9463780437564008,
          -1.067916809452873,
          -0.9045162876240569,
          -0.961170734938153,
          -0.9083991440099813,
          -1.0135333696199078,
          -0.8024651855881726,
          -1.0169697302042968,
          -0.7575160210484921,
          -0.9994380312889598,
          -1.2396485850860697,
          -1.0167553740185873,
          -1.0600359187528285,
          -0.8663589103432913,
          -1.1677416265650573,
          -1.0302304791176913,
          -1.0009890245775932,
          -1.0251037161686694,
          -0.8301305513100136,
          -0.9196497752995424,
          -1.0465817674466646,
          -0.6695609396040936,
          -1.090327476523174,
          -0.7702690455158355,
          -0.670643881024085,
          -0.6702672561608332,
          -1.4898243774080575,
          -1.0024366437662173,
          -0.9005436812631178,
          -0.8698151597145938,
          -1.1262849078825101,
          -0.9768934905425467,
          -0.8674112009027963,
          -1.0243881730290223,
          -0.9470077667975239,
          -1.0185912957877896,
          -1.0157948676913047,
          -1.294521780210236,
          -0.9894648007763426,
          -1.0339888206451497,
          -0.7502056367770669,
          -0.8140947607586806,
          -0.7612379288464681,
          -1.3171867680994622,
          -1.661965450401089,
          -0.8152252224891899,
          -1.0190205104264316,
          -0.9724717696039019,
          -0.6939688115970257,
          -0.6512151440472067,
          -0.7595747360284243,
          -0.8730280327275504,
          -0.7225984682201253,
          -0.6279357362526589,
          -0.5101033282985827,
          -0.662063082515484,
          -0.7762800875083743,
          -0.8232409288211971,
          -0.4542725573275534,
          -0.7370207089829037,
          -0.286999644340496,
          -0.777667180230338,
          0.854710254066241,
          -0.7415813674946922,
          -0.5442347361412332,
          -1.0446011172275738,
          -0.49311420907433967,
          -0.5844225859861685,
          -0.6073329336605711,
          -0.6577257026112708,
          -0.5128058162221655,
          -0.6030439334413125,
          -0.5621669528463629,
          -0.34091965540966157,
          25.747459603314564,
          -0.3625354134981889,
          -0.31060242311935865,
          -0.3798061784431562,
          -0.4711083501334932,
          -0.08571344204695773,
          -0.4326729169888509,
          -0.489790148166639,
          -0.8972499117371132,
          8.692777242039641,
          -1.1722628249140161,
          -0.6958933551699755,
          -1.107887089156054,
          -0.8542823837291311,
          69.3430306070205,
          62.6529504391716,
          -0.8844688509453795,
          -0.9222101389003461,
          16.887767357583762,
          -0.8221976978490377,
          -1.029031098207699,
          -1.269355635394461,
          -1.2763534401406917,
          -2.7932376300513897
         ],
         "y": [
          -0.0491064926336789,
          -0.0805070769668945,
          -0.03626760910009748,
          -0.30178888682151633,
          -0.33067145229067996,
          -0.3134343598786777,
          -0.16982649691027152,
          -0.10491791323164376,
          -0.11589358502393572,
          -0.2683187550619061,
          0.005349845326285093,
          -0.09856547792338627,
          0.004585175288137404,
          -0.10830227088556924,
          -0.08690037057808925,
          -0.13266394654203215,
          -0.15928925801053795,
          -0.03163052474034776,
          -0.1030683059499413,
          0.015120791869966337,
          0.20503103193527666,
          -0.08745494634048816,
          -0.05463592469878943,
          -0.07869599722242666,
          0.023586051410943012,
          -0.11347850540508275,
          -0.1745871645643635,
          -0.2995826149274273,
          -0.10721520382504701,
          0.025135206483227604,
          -0.3525829864880506,
          -0.11176465744570097,
          -0.22835979072712362,
          -0.11790407978114958,
          -0.10204334745232825,
          0.4525458745753087,
          -0.05445454296008654,
          -0.06302589480046798,
          -0.34385033168514695,
          0.005216029964482766,
          -0.12182661188236772,
          -0.13164482295565116,
          -0.15186962249613092,
          -0.31999169674268524,
          -0.2951932581140489,
          -0.10128910819425194,
          0.039240888538456205,
          -0.30797330953662005,
          -0.11546486363685632,
          -0.30778558739969436,
          0.02010431147971288,
          -0.43463447921833964,
          -0.1151614929309951,
          -0.15106254469311875,
          -0.05625847105706827,
          -0.15370532045319632,
          -0.1332406544762161,
          -0.09318685750725214,
          0.20869457644766362,
          -0.29440913027632104,
          0.6532001274085932,
          -0.0907261881532961,
          -0.06607040079805247,
          -0.002976031668800643,
          -0.35107525725151784,
          -0.02738633824406,
          -0.02940350870952922,
          -0.09570816957083807,
          -0.4494084969341514,
          -0.038977898644247125,
          -0.3189239870704473,
          -0.03148337851514529,
          -0.30597651348404487,
          -0.20008509387608944,
          0.023879630190651282,
          0.03230281173711776,
          -0.144947150441335,
          -0.07668415374254513,
          0.006982564425399071,
          -0.12603735510849132,
          -0.08671805447143632,
          -0.07652385888500055,
          0.2054060132557458,
          -0.047126513512584366,
          0.4001238265554015,
          -0.04899338046773472,
          -0.04337191429435957,
          -0.006367964968614837,
          -0.06125903653790165,
          0.042036610924352444,
          -0.11182371312755293,
          0.038385604533504016,
          -0.10911075770686361,
          -0.368746835637579,
          -0.3299908656206974,
          -0.090144903230031,
          0.036790410289540845,
          -0.14203659072772198,
          -0.049380971302508014,
          -0.11696827958709059,
          -0.03778934571906399,
          -0.2474297697395593,
          -0.19076254242812973,
          -0.16563789965737227,
          -0.16955844530974729,
          -0.17334247116835472,
          -0.1787368947640093,
          -0.35740983859434555,
          -0.09919133251387341,
          -0.5725315618670022,
          -0.10522355003362806,
          -0.20080783455768136,
          -0.09647773531072487,
          -0.2726590486785942,
          -0.22673466599679118,
          -0.10261388964201987,
          -0.5227936197522774,
          -0.4683962360410531,
          -0.565468794706545,
          -0.6021691676948254,
          -0.329565281948307,
          -0.3788600875012388,
          -0.16528779887618908,
          -0.08745039552755479,
          -0.1333298242051537,
          98.68900859688569,
          -0.17216925921630402,
          -0.06968716215188601,
          -0.07625840644691705,
          -0.079459182490876,
          -0.13591359724358254,
          -0.23164084670396273,
          -0.08296724526474347,
          -0.10464295488675729,
          -0.21627206211241506,
          -0.17969091794975656,
          -0.23589970534648722,
          -0.23373068592588242,
          -0.24644450893328748,
          -0.20480110658755704,
          -0.32150178514898864,
          -0.3029465135310743,
          -0.20452187179308437,
          0.006880744527231098,
          -0.34930739297611135,
          -0.34665817467285104,
          -0.5084926547489771,
          -0.13314821951791753,
          -0.34913840997180245,
          -0.20400620847973874,
          -0.07988195725316541,
          -0.11006323391315657,
          -0.5391855459662446,
          -0.1294345177866817,
          -0.520852129665785,
          -0.5969717176509557,
          -0.21759502653326354,
          -0.18710628791246942,
          -0.14814091571499205,
          -0.03312932949890681,
          -0.20789835931078046,
          -0.36813849910107427,
          -0.07200332643334781,
          -0.0344146608134023,
          -0.42820731402969553,
          -0.06966835380398365,
          -0.13453780904455834,
          -0.27282141627373535,
          -0.4709625645214391,
          -0.6538347724564693,
          -0.12479515606645764,
          -0.1569293356065747,
          -0.02303584575504119,
          -0.9066455536891007,
          -0.1543046891628712,
          -0.08001289410175069,
          -0.20728620099108577,
          -0.2612650921759214,
          -0.593934978123466,
          -0.4197688266389352,
          -0.11513259643028476,
          -0.08125487993279173,
          -0.11474324073889122,
          -0.1888656970922094,
          -0.10821113439498675,
          -0.3442160534305489,
          -0.39441569770026835,
          -0.17325692538858833,
          -0.1996390387706386,
          -0.1958233542226953,
          -0.531942384586627,
          -0.1605058770163097,
          -0.15489282455688244,
          -0.08741044916226128,
          -0.10156906802116344,
          -0.11475848472049062,
          -0.06955639303117717,
          -0.28660888434878684,
          -0.11780716877711943,
          -0.15879445275905957,
          -0.5613974006987371,
          -0.5387859459459339,
          -0.07295967537842292,
          -0.36153164669801274,
          -0.19777826655477748,
          -0.1875172019153724,
          -0.3219332490731519,
          -0.233197355830485,
          -0.4024678281552746,
          -0.18819885682737575,
          -0.6831941158393405,
          -0.5813446823234213,
          -0.4653897635694845,
          -0.4302313186084361,
          -0.5247509356478449,
          -0.5221460027213645,
          -0.6317801878685434,
          -0.4292396427751738,
          -0.6922371416457129,
          -0.5425329597317997,
          -0.3486758098591283,
          -0.4887620201699333,
          -0.30340192908133584,
          -0.6904277870619349,
          -0.4533074102159492,
          -0.7139332618864898,
          -0.3278130968608925,
          -0.43027831982309206,
          -0.3913549789238708,
          -0.516308480207411,
          -0.6599864635609516,
          -0.5100423417736277,
          -0.6643857388514378,
          -0.582536684949626,
          -0.6167616948043247,
          -0.40442485093321445,
          -0.5409177012313354,
          -0.29018052130597366,
          -0.8063492538746914,
          -0.8910525745537886,
          -0.8950532250479892,
          -0.9206954576157272,
          -0.43169743492043317,
          -1.1189475358701568,
          -0.5589829621429028,
          -0.5418418593549874,
          -0.5380971211537123,
          9.598948558722917,
          -0.4947294009130146,
          -0.5775395909489502,
          -0.22061645949631434,
          -0.7347528682591381,
          -0.28379905321723514,
          -0.22045174683095856,
          -0.2530699466793924,
          -1.238550646629458,
          -0.5747928730105618,
          -0.48424612300053493,
          -0.5152736361778565,
          -1.0109778004894598,
          -0.6124861945925765,
          -0.4660887173983358,
          -0.5880489712721763,
          -0.4766269258141913,
          -0.5333833763536591,
          -0.5305352992105712,
          -0.9936634165076395,
          -0.5675084769595634,
          -0.44984090604438126,
          -0.2665117408583646,
          -0.35694842534232174,
          -0.36215471830774776,
          -0.961382369263897,
          -1.5614038797669565,
          -0.44954151782218166,
          -0.6051307168419788,
          -0.5606094032683475,
          -0.23907454782546284,
          -0.21137200945034085,
          -0.2866123176714447,
          -0.3274652270966019,
          -0.17124847022597794,
          0.0684736238484354,
          -0.5853295096325508,
          -0.025604583208961276,
          -0.2673501839464393,
          -0.1553456096043681,
          -0.6406725270344624,
          -0.3837369715580382,
          -0.6266015916715411,
          -0.1448281588226758,
          -0.2572034001544931,
          -0.242103502990055,
          -0.8147970437009489,
          -0.7885495241855762,
          -0.8614298610582416,
          -1.1662335240094353,
          -0.09268244672380156,
          -1.3349882797962267,
          -0.9124884394525379,
          -1.3377238081234966,
          -1.1031347411979702,
          -0.5835800746628526,
          -0.1430372073364042,
          -0.689832925601616,
          -0.5762833776328279,
          -0.5928217771740772,
          -0.7910226807395202,
          -0.4071137343809169,
          -0.6903114266613095,
          -0.8339369247175276,
          -0.18824652701825145,
          -0.058828001942209385,
          -0.6413209958302567,
          -0.08880782627607478,
          -1.7650936948088773,
          -0.3190237767820249,
          0.45990828057284516,
          0.3619920972464866,
          -0.4337312249108215,
          -0.23438091300437344,
          -0.054170858010368146,
          -0.1882459165933502,
          -0.6170688232870993,
          -0.8467959183652803,
          -0.8764622689690635,
          -10.425062251324098
         ]
        }
       ],
       "layout": {
        "template": {
         "data": {
          "bar": [
           {
            "error_x": {
             "color": "#2a3f5f"
            },
            "error_y": {
             "color": "#2a3f5f"
            },
            "marker": {
             "line": {
              "color": "#E5ECF6",
              "width": 0.5
             }
            },
            "type": "bar"
           }
          ],
          "barpolar": [
           {
            "marker": {
             "line": {
              "color": "#E5ECF6",
              "width": 0.5
             }
            },
            "type": "barpolar"
           }
          ],
          "carpet": [
           {
            "aaxis": {
             "endlinecolor": "#2a3f5f",
             "gridcolor": "white",
             "linecolor": "white",
             "minorgridcolor": "white",
             "startlinecolor": "#2a3f5f"
            },
            "baxis": {
             "endlinecolor": "#2a3f5f",
             "gridcolor": "white",
             "linecolor": "white",
             "minorgridcolor": "white",
             "startlinecolor": "#2a3f5f"
            },
            "type": "carpet"
           }
          ],
          "choropleth": [
           {
            "colorbar": {
             "outlinewidth": 0,
             "ticks": ""
            },
            "type": "choropleth"
           }
          ],
          "contour": [
           {
            "colorbar": {
             "outlinewidth": 0,
             "ticks": ""
            },
            "colorscale": [
             [
              0,
              "#0d0887"
             ],
             [
              0.1111111111111111,
              "#46039f"
             ],
             [
              0.2222222222222222,
              "#7201a8"
             ],
             [
              0.3333333333333333,
              "#9c179e"
             ],
             [
              0.4444444444444444,
              "#bd3786"
             ],
             [
              0.5555555555555556,
              "#d8576b"
             ],
             [
              0.6666666666666666,
              "#ed7953"
             ],
             [
              0.7777777777777778,
              "#fb9f3a"
             ],
             [
              0.8888888888888888,
              "#fdca26"
             ],
             [
              1,
              "#f0f921"
             ]
            ],
            "type": "contour"
           }
          ],
          "contourcarpet": [
           {
            "colorbar": {
             "outlinewidth": 0,
             "ticks": ""
            },
            "type": "contourcarpet"
           }
          ],
          "heatmap": [
           {
            "colorbar": {
             "outlinewidth": 0,
             "ticks": ""
            },
            "colorscale": [
             [
              0,
              "#0d0887"
             ],
             [
              0.1111111111111111,
              "#46039f"
             ],
             [
              0.2222222222222222,
              "#7201a8"
             ],
             [
              0.3333333333333333,
              "#9c179e"
             ],
             [
              0.4444444444444444,
              "#bd3786"
             ],
             [
              0.5555555555555556,
              "#d8576b"
             ],
             [
              0.6666666666666666,
              "#ed7953"
             ],
             [
              0.7777777777777778,
              "#fb9f3a"
             ],
             [
              0.8888888888888888,
              "#fdca26"
             ],
             [
              1,
              "#f0f921"
             ]
            ],
            "type": "heatmap"
           }
          ],
          "heatmapgl": [
           {
            "colorbar": {
             "outlinewidth": 0,
             "ticks": ""
            },
            "colorscale": [
             [
              0,
              "#0d0887"
             ],
             [
              0.1111111111111111,
              "#46039f"
             ],
             [
              0.2222222222222222,
              "#7201a8"
             ],
             [
              0.3333333333333333,
              "#9c179e"
             ],
             [
              0.4444444444444444,
              "#bd3786"
             ],
             [
              0.5555555555555556,
              "#d8576b"
             ],
             [
              0.6666666666666666,
              "#ed7953"
             ],
             [
              0.7777777777777778,
              "#fb9f3a"
             ],
             [
              0.8888888888888888,
              "#fdca26"
             ],
             [
              1,
              "#f0f921"
             ]
            ],
            "type": "heatmapgl"
           }
          ],
          "histogram": [
           {
            "marker": {
             "colorbar": {
              "outlinewidth": 0,
              "ticks": ""
             }
            },
            "type": "histogram"
           }
          ],
          "histogram2d": [
           {
            "colorbar": {
             "outlinewidth": 0,
             "ticks": ""
            },
            "colorscale": [
             [
              0,
              "#0d0887"
             ],
             [
              0.1111111111111111,
              "#46039f"
             ],
             [
              0.2222222222222222,
              "#7201a8"
             ],
             [
              0.3333333333333333,
              "#9c179e"
             ],
             [
              0.4444444444444444,
              "#bd3786"
             ],
             [
              0.5555555555555556,
              "#d8576b"
             ],
             [
              0.6666666666666666,
              "#ed7953"
             ],
             [
              0.7777777777777778,
              "#fb9f3a"
             ],
             [
              0.8888888888888888,
              "#fdca26"
             ],
             [
              1,
              "#f0f921"
             ]
            ],
            "type": "histogram2d"
           }
          ],
          "histogram2dcontour": [
           {
            "colorbar": {
             "outlinewidth": 0,
             "ticks": ""
            },
            "colorscale": [
             [
              0,
              "#0d0887"
             ],
             [
              0.1111111111111111,
              "#46039f"
             ],
             [
              0.2222222222222222,
              "#7201a8"
             ],
             [
              0.3333333333333333,
              "#9c179e"
             ],
             [
              0.4444444444444444,
              "#bd3786"
             ],
             [
              0.5555555555555556,
              "#d8576b"
             ],
             [
              0.6666666666666666,
              "#ed7953"
             ],
             [
              0.7777777777777778,
              "#fb9f3a"
             ],
             [
              0.8888888888888888,
              "#fdca26"
             ],
             [
              1,
              "#f0f921"
             ]
            ],
            "type": "histogram2dcontour"
           }
          ],
          "mesh3d": [
           {
            "colorbar": {
             "outlinewidth": 0,
             "ticks": ""
            },
            "type": "mesh3d"
           }
          ],
          "parcoords": [
           {
            "line": {
             "colorbar": {
              "outlinewidth": 0,
              "ticks": ""
             }
            },
            "type": "parcoords"
           }
          ],
          "pie": [
           {
            "automargin": true,
            "type": "pie"
           }
          ],
          "scatter": [
           {
            "marker": {
             "colorbar": {
              "outlinewidth": 0,
              "ticks": ""
             }
            },
            "type": "scatter"
           }
          ],
          "scatter3d": [
           {
            "line": {
             "colorbar": {
              "outlinewidth": 0,
              "ticks": ""
             }
            },
            "marker": {
             "colorbar": {
              "outlinewidth": 0,
              "ticks": ""
             }
            },
            "type": "scatter3d"
           }
          ],
          "scattercarpet": [
           {
            "marker": {
             "colorbar": {
              "outlinewidth": 0,
              "ticks": ""
             }
            },
            "type": "scattercarpet"
           }
          ],
          "scattergeo": [
           {
            "marker": {
             "colorbar": {
              "outlinewidth": 0,
              "ticks": ""
             }
            },
            "type": "scattergeo"
           }
          ],
          "scattergl": [
           {
            "marker": {
             "colorbar": {
              "outlinewidth": 0,
              "ticks": ""
             }
            },
            "type": "scattergl"
           }
          ],
          "scattermapbox": [
           {
            "marker": {
             "colorbar": {
              "outlinewidth": 0,
              "ticks": ""
             }
            },
            "type": "scattermapbox"
           }
          ],
          "scatterpolar": [
           {
            "marker": {
             "colorbar": {
              "outlinewidth": 0,
              "ticks": ""
             }
            },
            "type": "scatterpolar"
           }
          ],
          "scatterpolargl": [
           {
            "marker": {
             "colorbar": {
              "outlinewidth": 0,
              "ticks": ""
             }
            },
            "type": "scatterpolargl"
           }
          ],
          "scatterternary": [
           {
            "marker": {
             "colorbar": {
              "outlinewidth": 0,
              "ticks": ""
             }
            },
            "type": "scatterternary"
           }
          ],
          "surface": [
           {
            "colorbar": {
             "outlinewidth": 0,
             "ticks": ""
            },
            "colorscale": [
             [
              0,
              "#0d0887"
             ],
             [
              0.1111111111111111,
              "#46039f"
             ],
             [
              0.2222222222222222,
              "#7201a8"
             ],
             [
              0.3333333333333333,
              "#9c179e"
             ],
             [
              0.4444444444444444,
              "#bd3786"
             ],
             [
              0.5555555555555556,
              "#d8576b"
             ],
             [
              0.6666666666666666,
              "#ed7953"
             ],
             [
              0.7777777777777778,
              "#fb9f3a"
             ],
             [
              0.8888888888888888,
              "#fdca26"
             ],
             [
              1,
              "#f0f921"
             ]
            ],
            "type": "surface"
           }
          ],
          "table": [
           {
            "cells": {
             "fill": {
              "color": "#EBF0F8"
             },
             "line": {
              "color": "white"
             }
            },
            "header": {
             "fill": {
              "color": "#C8D4E3"
             },
             "line": {
              "color": "white"
             }
            },
            "type": "table"
           }
          ]
         },
         "layout": {
          "annotationdefaults": {
           "arrowcolor": "#2a3f5f",
           "arrowhead": 0,
           "arrowwidth": 1
          },
          "coloraxis": {
           "colorbar": {
            "outlinewidth": 0,
            "ticks": ""
           }
          },
          "colorscale": {
           "diverging": [
            [
             0,
             "#8e0152"
            ],
            [
             0.1,
             "#c51b7d"
            ],
            [
             0.2,
             "#de77ae"
            ],
            [
             0.3,
             "#f1b6da"
            ],
            [
             0.4,
             "#fde0ef"
            ],
            [
             0.5,
             "#f7f7f7"
            ],
            [
             0.6,
             "#e6f5d0"
            ],
            [
             0.7,
             "#b8e186"
            ],
            [
             0.8,
             "#7fbc41"
            ],
            [
             0.9,
             "#4d9221"
            ],
            [
             1,
             "#276419"
            ]
           ],
           "sequential": [
            [
             0,
             "#0d0887"
            ],
            [
             0.1111111111111111,
             "#46039f"
            ],
            [
             0.2222222222222222,
             "#7201a8"
            ],
            [
             0.3333333333333333,
             "#9c179e"
            ],
            [
             0.4444444444444444,
             "#bd3786"
            ],
            [
             0.5555555555555556,
             "#d8576b"
            ],
            [
             0.6666666666666666,
             "#ed7953"
            ],
            [
             0.7777777777777778,
             "#fb9f3a"
            ],
            [
             0.8888888888888888,
             "#fdca26"
            ],
            [
             1,
             "#f0f921"
            ]
           ],
           "sequentialminus": [
            [
             0,
             "#0d0887"
            ],
            [
             0.1111111111111111,
             "#46039f"
            ],
            [
             0.2222222222222222,
             "#7201a8"
            ],
            [
             0.3333333333333333,
             "#9c179e"
            ],
            [
             0.4444444444444444,
             "#bd3786"
            ],
            [
             0.5555555555555556,
             "#d8576b"
            ],
            [
             0.6666666666666666,
             "#ed7953"
            ],
            [
             0.7777777777777778,
             "#fb9f3a"
            ],
            [
             0.8888888888888888,
             "#fdca26"
            ],
            [
             1,
             "#f0f921"
            ]
           ]
          },
          "colorway": [
           "#636efa",
           "#EF553B",
           "#00cc96",
           "#ab63fa",
           "#FFA15A",
           "#19d3f3",
           "#FF6692",
           "#B6E880",
           "#FF97FF",
           "#FECB52"
          ],
          "font": {
           "color": "#2a3f5f"
          },
          "geo": {
           "bgcolor": "white",
           "lakecolor": "white",
           "landcolor": "#E5ECF6",
           "showlakes": true,
           "showland": true,
           "subunitcolor": "white"
          },
          "hoverlabel": {
           "align": "left"
          },
          "hovermode": "closest",
          "mapbox": {
           "style": "light"
          },
          "paper_bgcolor": "white",
          "plot_bgcolor": "#E5ECF6",
          "polar": {
           "angularaxis": {
            "gridcolor": "white",
            "linecolor": "white",
            "ticks": ""
           },
           "bgcolor": "#E5ECF6",
           "radialaxis": {
            "gridcolor": "white",
            "linecolor": "white",
            "ticks": ""
           }
          },
          "scene": {
           "xaxis": {
            "backgroundcolor": "#E5ECF6",
            "gridcolor": "white",
            "gridwidth": 2,
            "linecolor": "white",
            "showbackground": true,
            "ticks": "",
            "zerolinecolor": "white"
           },
           "yaxis": {
            "backgroundcolor": "#E5ECF6",
            "gridcolor": "white",
            "gridwidth": 2,
            "linecolor": "white",
            "showbackground": true,
            "ticks": "",
            "zerolinecolor": "white"
           },
           "zaxis": {
            "backgroundcolor": "#E5ECF6",
            "gridcolor": "white",
            "gridwidth": 2,
            "linecolor": "white",
            "showbackground": true,
            "ticks": "",
            "zerolinecolor": "white"
           }
          },
          "shapedefaults": {
           "line": {
            "color": "#2a3f5f"
           }
          },
          "ternary": {
           "aaxis": {
            "gridcolor": "white",
            "linecolor": "white",
            "ticks": ""
           },
           "baxis": {
            "gridcolor": "white",
            "linecolor": "white",
            "ticks": ""
           },
           "bgcolor": "#E5ECF6",
           "caxis": {
            "gridcolor": "white",
            "linecolor": "white",
            "ticks": ""
           }
          },
          "title": {
           "x": 0.05
          },
          "xaxis": {
           "automargin": true,
           "gridcolor": "white",
           "linecolor": "white",
           "ticks": "",
           "title": {
            "standoff": 15
           },
           "zerolinecolor": "white",
           "zerolinewidth": 2
          },
          "yaxis": {
           "automargin": true,
           "gridcolor": "white",
           "linecolor": "white",
           "ticks": "",
           "title": {
            "standoff": 15
           },
           "zerolinecolor": "white",
           "zerolinewidth": 2
          }
         }
        }
       }
      },
      "text/html": [
       "<div>\n",
       "        \n",
       "        \n",
       "            <div id=\"60acc383-97d7-41e3-b4de-93dad91de0e6\" class=\"plotly-graph-div\" style=\"height:525px; width:100%;\"></div>\n",
       "            <script type=\"text/javascript\">\n",
       "                require([\"plotly\"], function(Plotly) {\n",
       "                    window.PLOTLYENV=window.PLOTLYENV || {};\n",
       "                    \n",
       "                if (document.getElementById(\"60acc383-97d7-41e3-b4de-93dad91de0e6\")) {\n",
       "                    Plotly.newPlot(\n",
       "                        '60acc383-97d7-41e3-b4de-93dad91de0e6',\n",
       "                        [{\"marker\": {\"opacity\": 0.5, \"size\": 5, \"symbol\": \"circle\"}, \"mode\": \"markers+text\", \"text\": [\"Black Panther / T'chal\", \"Loki [asgardian]\", \"Mantis / ? Brandt\", \"Iceman / Robert Bobby\", \"Marvel Girl / Jean Grey\", \"Cyclops / Scott Summer\", \"Klaw / Ulysses Klaw\", \"Human Torch / Johnny S\", \"Richards, Franklin B\", \"Wolverine / Logan\", \"Firebird / Bonita Juar\", \"Mr. Fantastic / Reed R\", \"Medusa / Medusalith Am\", \"Dr. Strange / Stephen\", \"Jack Of Hearts / Jack\", \"Mephisto\", \"Thanos\", \"Swordsman / Jacques Du\", \"Collector / Taneleer T\", \"Lockjaw [inhuman]\", \"Sub-mariner / Namor Ma\", \"Pharaoh Rama-tut\", \"Ant-man Ii / Scott Har\", \"Lyja Lazerfist [skru\", \"Gorgon [inhuman]\", \"Nighthawk Ii / Kyle Ri\", \"Cage, Luke / Carl Luca\", \"Colossus Ii / Peter Ra\", \"Hellcat / Patsy Walker\", \"Karnak [inhuman]\", \"Death\", \"Redwing\", \"Daredevil / Matt Murdo\", \"Norriss, Sister Barb\", \"Rage / Elvin Daryl Hal\", \"Starfox / Eros\", \"Demolition Man / Denni\", \"Sersi / Sylvia\", \"Spider-man / Peter Parker\", \"Vision\", \"Uatu\", \"Binary / Carol Danvers\", \"Gyrich, Henry Peter\", \"Nightcrawler / Kurt Wa\", \"Angel / Warren Kenneth\", \"Silver Surfer / Norrin\", \"She-hulk / Jennifer Wa\", \"Ghaur [deviant]\", \"Dr. Doom / Victor Von\", \"Storm / Ororo Munroe S\", \"Scarlet Witch / Wanda\", \"Toad / Mortimer Toynbe\", \"Hulk / Dr. Robert Bruce Banner\", \"Firestar / Angelica Jo\", \"Wonder Man / Simon Wil\", \"Drax / Arthur Douglas\", \"Dugan, Timothy Aloyi\", \"Carter, Sharon\", \"Black Knight V / Dane\", \"Sunfire / Shiro Yoshid\", \"Triton\", \"Ultron\", \"Jones, Richard Milho\", \"Iron Man / Tony Stark\", \"Nelson, Franklin Fog\", \"Captain America\", \"Jarvis, Edwin\", \"Quasar Iii / Wendell V\", \"Jameson, J. Jonah\", \"Masters, Alicia Reis\", \"Magneto / Magnus / Eric\", \"Invisible Woman / Sue\", \"Professor X / Charles\", \"Iron Fist / Daniel Ran\", \"Black Bolt / Blackanto\", \"Hawk\", \"Sandman / William Bake\", \"Falcon / Sam Wilson\", \"Stingray / Dr. Walter\", \"Justice Ii / Vance Ast\", \"Hercules [greek God]\", \"Usagent / Captain John\", \"Captain Marvel Ii / Mo\", \"Crystal [inhuman]\", \"Tigra / Greer Nelson\", \"Spider-woman Ii / Juli\", \"Machine Man / X-51\", \"Mockingbird / Dr. Barb\", \"Captain Marvel / Capta\", \"Wasp / Janet Van Dyne\", \"Fury, Col. Nicholas\", \"Thor / Dr. Donald Blak\", \"Quicksilver / Pietro M\", \"Captain Britain / Bria\", \"Shadowcat / Katherine\", \"Black Widow / Natasha\", \"Ant-man / Dr. Henry J.\", \"Moon Knight / Marc Spe\", \"Jocasta\", \"Moondragon / Heather D\", \"Thing / Benjamin J. Gr\", \"Beast / Henry &hank& P\", \"Nova / Richard Rider\", \"Wrecker Iii / Dirk Gar\", \"Warlock Ii / Adam Warl\", \"Piledriver Ii / Brian\", \"Thunderball / Dr. Elio\", \"Dr. Octopus / Otto Oct\", \"Banner, Betty Ross T\", \"Avalanche / Dominic Pe\", \"Attuma\", \"Hela [asgardian]\", \"Doc Samson / Dr. Leona\", \"Guardian / James Macdo\", \"Northstar / Jean-paul\", \"Dr. Druid / Anthony Lu\", \"Watson-parker, Mary\", \"Mystique / Raven Darkh\", \"Pyro / Allerdyce Johnn\", \"Destiny Ii / Irene Adl\", \"Mister Hyde / Calvin Z\", \"Ghost Rider Ii / Johnn\", \"Mole Man / Harvey Rupe\", \"Firelord / Pyreus Kril\", \"Leader / Sam Sterns\", \"Le Fey, Morgan\", \"Bulldozer / Henry Camp\", \"Forgotten One / Gilgam\", \"Balder [asgardian]\", \"Hogun [asgardian]\", \"Hellstorm / Daimon Hel\", \"Aurora / Jeanne-marie\", \"O'brien, Michael\", \"Stankowicz, Fabian\", \"Screaming Mimi / Melis\", \"Moonstone Ii / Karla S\", \"Fixer Ii / Paul Norber\", \"Darkstar / Laynia Serg\", \"Vanguard / Nicolai Kry\", \"Gamora\", \"Psylocke / Elisabeth B\", \"Rogue  / \", \"Sasquatch / Walter Lan\", \"Luna / Luna Maximoff [\", \"Whizzer Ii / Stanley S\", \"Dr. Spectrum / Joseph\", \"Kingpin / Wilson Fisk\", \"Clea\", \"Polaris / Lorna Dane\", \"De La Fontaine, Cont\", \"Heimdall [asgardian]\", \"Red Skull / Johann Sch\", \"Thompson, Eugene Fla\", \"Wong\", \"Parker, May\", \"Green Goblin / Norman\", \"Night Thrasher / Duane\", \"Eternity / Adam Qadmon\", \"Galactus / Galan\", \"Triathlon / Delroy Gar\", \"Beetle / Abner Ronald\", \"Lilandra Neramani [s\", \"Odin [asgardian]\", \"Hogan, Virginia Pepp\", \"Mad Dog / Colonel Buzz\", \"Kincaid, Dr. Jane Fo\", \"Wizard / Bentley Wittm\", \"Charcoal / Charlie Bur\", \"Blob / Fred J. Dukes\", \"Cloak / Tyrone Johnson\", \"Thunderstrike / Eric K\", \"Power Man / Erik Joste\", \"Human Torch Android / \", \"Juggernaut / Cain Mark\", \"Absorbing Man / Carl C\", \"Volstagg\", \"Shaman / Michael Twoyo\", \"Snowbird / Narya / Anne\", \"Dagger / Tandy Bowen\", \"Phoenix Iii / Rachel S\", \"Mandarin\", \"Fandral [asgardian]\", \"Ms. Marvel Ii / Sharon\", \"Pip / Prince Gofern\", \"Enchantress / Amora / He\", \"Jameson, Col. John\", \"Cooper, Dr. Valerie\", \"Nova Ii / Frankie Raye\", \"Darkhawk / Chris Powel\", \"Nomad Iii / Jack Monro\", \"Robertson, Joe\", \"Gargoyle Ii / Isaac Ch\", \"Namorita / Nita Prenti\", \"Iron Man Iv / James R.\", \"Ross, Gen. Thaddeus\", \"Harkness, Agatha\", \"Carter, Peggy\", \"Hyperion\", \"Living Lightning / Mig\", \"Jones, Gabe\", \"Osborn, Liz Allan\", \"Leeds, Betty Brant\", \"Sif\", \"Dazzler Ii / Allison B\", \"Molecule Man / Owen Re\", \"Speedball / Robbie Bal\", \"Lizard / Dr. Curtis Co\", \"Volcana / Marsha Rosen\", \"Lockheed\", \"Titania Ii / Mary Skee\", \"Boomer / Tabitha Smith\", \"Summers, Nathan Chri\", \"Summers, Madelyne Ma\", \"Mactaggert, Moira Ki\", \"Cannonball Ii / Sam Gu\", \"Tilby, Trish / Patrici\", \"Skids / Sally Blevins\", \"Wolfsbane / Rahne Sinc\", \"Leech\", \"Mirage Ii / Danielle M\", \"Gambit / Remy Lebeau\", \"Jubilee / Jubilation L\", \"Strong Guy / Guido Car\", \"Spiral\", \"Banshee / Sean Cassidy\", \"Legion Ii / David Hall\", \"Havok / Alex Summers\", \"Longshot\", \"Forge\", \"Sabretooth / Victor Cr\", \"Maddicks, Arthur Art\", \"Warlock Iii\", \"Rictor / Julio Esteban\", \"Sunspot / Roberto Daco\", \"Firefist / Rusty Colli\", \"Bishop  / \", \"Daytripper / Amanda Se\", \"Wild Child / Kyle Gibn\", \"Thunderbird Ii / James\", \"Sauron / Dr. Karl Lyko\", \"Siryn / Theresa Rourke\", \"Shatterstar Ii / Gavee\", \"Marrow / Sarah\", \"Feral / Maria Callasan\", \"Callisto\", \"Mr. Sinister / Nathan\", \"Raza Longknife\", \"Spider-woman / Jessica\", \"Cypher / Doug Ramsey\", \"Deathbird [shi'ar]\", \"Hudson, Heather\", \"Stryfe\", \"Iron Man Doppelgange\", \"Puck / Eugene Milton J\", \"Silhouette\", \"Cortez, Fabian\", \"Black King / Sebastian\", \"Magik / Illyana Rasput\", \"Zabu\", \"Domino Iii / Beatrice / \", \"Caliban / \", \"Apocalypse / En Sabah\", \"Hunter, Stevie\", \"Corsair\", \"Ch'od\", \"Mam'selle Hepzibah\", \"Zero\", \"X-man / Nathan Grey\", \"Karma / Xi'an Coy Manh\", \"Mr. Fantastic Doppel\", \"Beyonder\", \"Multiple Man / James A\", \"Colossus Ii Doppelga\", \"Scanner Ii\", \"Ka-zar / Kevin Plunder\", \"White Queen / Emma Fro\", \"Magma / Amara Aquilla / \", \"Thanos Doppelganger\", \"Magus\", \"Knight, Misty\", \"Wing, Colleen\", \"Puppet Master / Philli\", \"Maximus [inhuman]\", \"Punisher Ii / Frank Ca\", \"Zeus\", \"Box Iv / Madison Jeffr\", \"Thena\", \"Black Cat / Felicia Ha\", \"Gee / Alex Power\", \"Spider-man Clone / Ben\", \"Ulik\", \"Citizen V Ii / Helmut\", \"High Evolutionary / He\", \"Hobgoblin V / Jason Ph\", \"Ghost Rider Iii / Dan\", \"Cushing, Kate\", \"Katzenberg, Nick\", \"Vizier\", \"Tombstone / Lonnie Tho\", \"Mercado, Joy\", \"Hammerhead\", \"Arranger / \", \"Osborn, Harry\", \"Cobra / Klaus Vorhees\", \"Leeds, Ned\", \"Watson, Anna\", \"Urich, Ben\", \"Robertson, Randy\", \"Page, Karen\", \"Grant, Gloria Glory\", \"Lubenski, Nate\", \"Ikaris / Ike Harris [e\", \"Rosenthal, Bernie\", \"Gladiator Ii\", \"Beta Ray Bill\", \"Bridge, George Washi\", \"Diamond Lil / Lillian\", \"Asp Ii / Cleo\", \"Black Mamba / Tanya Se\", \"Meggan\", \"Austin, Susan\", \"Diamondback Ii / Rache\", \"Makkari / Mike Khary / I\", \"Hodge, Cameron\", \"Skin / Angelo Espinosa\", \"Husk / Paige Guthrie\", \"Deadpool / Jack / Wade W\"], \"textfont\": {\"color\": \"#000000\", \"family\": \"sans serif\", \"size\": 10}, \"textposition\": \"bottom center\", \"type\": \"scatter\", \"x\": [-0.40957882796704176, -0.5251231417666403, -0.4950328602044511, -0.6882786862935442, -0.7179662161647841, -0.7051271003674923, -0.5656101630716398, -0.5073644110603048, -0.5380491389608358, -0.6993338272017469, -0.4843010531004945, -0.502290785714854, -0.5359726814586712, -0.5405575299391624, -0.5583234042421786, -0.6135703147381172, -0.5853598579016189, -0.45839805095146613, -0.594377529428046, -0.5361349050633851, -0.4659469530952676, -0.48068722387986695, -0.5010677876416925, -0.5695029051681699, -0.5437674410814074, -0.5813181072429116, -0.5640436418650532, -0.7202329128701709, -0.5419279188254944, -0.5447397034107159, -0.6715855115684871, 0.8564102637826119, -0.2548528836476397, -0.5611843681135045, -0.3719644604920269, -0.3627148901537258, 0.6650744289607367, -0.3731902643818357, -0.3771328551480992, -0.3935310591649318, -0.5461826723481149, -0.4992004557087957, -0.4684382772652142, -0.7487752431287701, -0.6928951792174237, -0.5336170609908635, -0.450140940389758, -1.1770448404010636, -0.500679723309501, -0.7216330292032751, -0.4362162808723475, -0.8159742195061783, -0.5236592367468327, -0.5079283007993759, -0.4342034293760199, -0.5877041630332737, -0.14098322519445855, 0.7788564136180345, -0.4394467157281804, -0.7602858642212887, -0.5552676885500888, -0.4919331462119655, -0.468064808427221, -0.38502875502418465, 0.06934463504966912, 0.13958066160782173, 0.1705324479711576, -0.40906152951415964, -0.3308744245660793, -0.5337295210061477, -0.7087470070571005, -0.5061407065085457, -0.7107251043372544, -0.6133113336411126, -0.5396759068786963, -0.38205689788279473, -0.4552361717075789, 0.31801203036690284, -0.5761476807048265, -0.46632036724825604, -0.3899915556390676, -0.3852342121401592, -0.40584941959112014, -0.4793518463089593, -0.4448383076226986, -0.49425023706661925, -0.5607296130495062, -0.3999969153627239, -0.46119133945068885, -0.37664437355897723, -0.25123187847632694, -0.4121014122731877, -0.4701893022509203, -0.7816271183742816, -0.7794835273140108, -0.30689131669706343, -0.3603613358337111, -0.5353218849732523, -0.42422836408587256, -0.5280269178396062, -0.5083474662823654, -0.6229132579382478, -0.5634999422787709, -0.4721358716293725, -0.6054635558886962, -0.4683027101576362, -0.47747602966246105, -0.49344313950235613, -0.5423446057190762, -1.0093303603696953, -0.7849513583611446, -0.7078428506778063, -0.5583257860454289, -0.7680520958873427, -0.6818040603648057, -0.5296666068312134, -0.3429882045160749, -0.8895453481241297, -0.9851803602578082, -1.0538008680134248, 5.4495876173190805, -0.7199385197509474, -0.6394807233213007, -0.597658313289293, -0.6639651185118292, -1.4557233901325435, -0.46481461068885577, -0.6019452316008742, -0.5658592874420897, -0.5741747938027433, -0.6652010889573686, -0.698047194214547, 1.1340577919846544, 2.4855502722539757, -0.2670153241907557, -0.2196596499362511, -0.15998529223905075, -0.6727277062284037, -0.6952176283188508, -0.6462572694579399, -0.7254847968119376, -0.7163734208811467, -0.6393505835793938, -0.5383868721657104, -1.0362860748868763, -1.0323551959603403, -0.1430710368745883, -0.6384466272189461, -0.7487737595904681, -0.03670809733438583, -0.5890400338648581, 1.036039918241019, -0.3279175028207294, -0.5972963070976175, -0.33469827101981964, -0.36741493108005485, -0.5977436444526452, -0.6428801679342786, -0.562020129424905, -0.4809205427844966, -0.284645710196918, -0.8152035304481468, -0.547222390747181, -0.43028574558185767, -0.8835573913345638, -0.2641860192577706, -0.5297540818039567, -0.31917489998238296, -0.8712871262173248, -0.8155403873010512, -0.5128816603451993, -0.24076723057892763, -0.436356331386477, -1.0374212496434976, -0.5580466841771364, -0.576464525036228, -0.6580555035548586, -0.7742185654367356, -0.7772426176772512, -0.8479247005156093, -0.4653604088697004, -0.5759997918938105, -0.5892744481766273, -0.6372814063997086, -0.542597232007066, 3.434077351564202, -0.7488452012656466, -0.6109304540267553, -0.5911697974715133, 0.8489113082388964, -0.34089949597912284, -0.6322276379298049, -0.5595386784518365, -0.47860726037992585, -0.5416507457485809, -0.5466528815979093, 5.011128863805312, -0.947713607244496, -0.5380647019326025, -0.0045376380723646526, -0.35568836762507056, -0.3268154301796466, -0.5685614477577327, -0.7937109886505358, -0.6196015526590204, -0.5745662303630183, -0.5350989457136426, -0.670856656571155, -0.8377302109737812, -0.5111342436626125, -0.949621286994314, -0.8732425618637956, -0.9126557834849018, -0.8389013278344537, -0.869551445984147, -0.9395282987366825, -1.0237842779646724, -0.8251756206015818, -1.1001317846497163, -0.9205604992745302, -0.7442162662571203, -0.8980442912626057, -0.7076815419205738, -1.1604866361558122, -0.8657795689551735, -1.1463087421007891, -0.7297358148323542, -0.8868177896104392, -0.799469297848308, -0.9463780437564008, -1.067916809452873, -0.9045162876240569, -0.961170734938153, -0.9083991440099813, -1.0135333696199078, -0.8024651855881726, -1.0169697302042968, -0.7575160210484921, -0.9994380312889598, -1.2396485850860697, -1.0167553740185873, -1.0600359187528285, -0.8663589103432913, -1.1677416265650573, -1.0302304791176913, -1.0009890245775932, -1.0251037161686694, -0.8301305513100136, -0.9196497752995424, -1.0465817674466646, -0.6695609396040936, -1.090327476523174, -0.7702690455158355, -0.670643881024085, -0.6702672561608332, -1.4898243774080575, -1.0024366437662173, -0.9005436812631178, -0.8698151597145938, -1.1262849078825101, -0.9768934905425467, -0.8674112009027963, -1.0243881730290223, -0.9470077667975239, -1.0185912957877896, -1.0157948676913047, -1.294521780210236, -0.9894648007763426, -1.0339888206451497, -0.7502056367770669, -0.8140947607586806, -0.7612379288464681, -1.3171867680994622, -1.661965450401089, -0.8152252224891899, -1.0190205104264316, -0.9724717696039019, -0.6939688115970257, -0.6512151440472067, -0.7595747360284243, -0.8730280327275504, -0.7225984682201253, -0.6279357362526589, -0.5101033282985827, -0.662063082515484, -0.7762800875083743, -0.8232409288211971, -0.4542725573275534, -0.7370207089829037, -0.286999644340496, -0.777667180230338, 0.854710254066241, -0.7415813674946922, -0.5442347361412332, -1.0446011172275738, -0.49311420907433967, -0.5844225859861685, -0.6073329336605711, -0.6577257026112708, -0.5128058162221655, -0.6030439334413125, -0.5621669528463629, -0.34091965540966157, 25.747459603314564, -0.3625354134981889, -0.31060242311935865, -0.3798061784431562, -0.4711083501334932, -0.08571344204695773, -0.4326729169888509, -0.489790148166639, -0.8972499117371132, 8.692777242039641, -1.1722628249140161, -0.6958933551699755, -1.107887089156054, -0.8542823837291311, 69.3430306070205, 62.6529504391716, -0.8844688509453795, -0.9222101389003461, 16.887767357583762, -0.8221976978490377, -1.029031098207699, -1.269355635394461, -1.2763534401406917, -2.7932376300513897], \"y\": [-0.0491064926336789, -0.0805070769668945, -0.03626760910009748, -0.30178888682151633, -0.33067145229067996, -0.3134343598786777, -0.16982649691027152, -0.10491791323164376, -0.11589358502393572, -0.2683187550619061, 0.005349845326285093, -0.09856547792338627, 0.004585175288137404, -0.10830227088556924, -0.08690037057808925, -0.13266394654203215, -0.15928925801053795, -0.03163052474034776, -0.1030683059499413, 0.015120791869966337, 0.20503103193527666, -0.08745494634048816, -0.05463592469878943, -0.07869599722242666, 0.023586051410943012, -0.11347850540508275, -0.1745871645643635, -0.2995826149274273, -0.10721520382504701, 0.025135206483227604, -0.3525829864880506, -0.11176465744570097, -0.22835979072712362, -0.11790407978114958, -0.10204334745232825, 0.4525458745753087, -0.05445454296008654, -0.06302589480046798, -0.34385033168514695, 0.005216029964482766, -0.12182661188236772, -0.13164482295565116, -0.15186962249613092, -0.31999169674268524, -0.2951932581140489, -0.10128910819425194, 0.039240888538456205, -0.30797330953662005, -0.11546486363685632, -0.30778558739969436, 0.02010431147971288, -0.43463447921833964, -0.1151614929309951, -0.15106254469311875, -0.05625847105706827, -0.15370532045319632, -0.1332406544762161, -0.09318685750725214, 0.20869457644766362, -0.29440913027632104, 0.6532001274085932, -0.0907261881532961, -0.06607040079805247, -0.002976031668800643, -0.35107525725151784, -0.02738633824406, -0.02940350870952922, -0.09570816957083807, -0.4494084969341514, -0.038977898644247125, -0.3189239870704473, -0.03148337851514529, -0.30597651348404487, -0.20008509387608944, 0.023879630190651282, 0.03230281173711776, -0.144947150441335, -0.07668415374254513, 0.006982564425399071, -0.12603735510849132, -0.08671805447143632, -0.07652385888500055, 0.2054060132557458, -0.047126513512584366, 0.4001238265554015, -0.04899338046773472, -0.04337191429435957, -0.006367964968614837, -0.06125903653790165, 0.042036610924352444, -0.11182371312755293, 0.038385604533504016, -0.10911075770686361, -0.368746835637579, -0.3299908656206974, -0.090144903230031, 0.036790410289540845, -0.14203659072772198, -0.049380971302508014, -0.11696827958709059, -0.03778934571906399, -0.2474297697395593, -0.19076254242812973, -0.16563789965737227, -0.16955844530974729, -0.17334247116835472, -0.1787368947640093, -0.35740983859434555, -0.09919133251387341, -0.5725315618670022, -0.10522355003362806, -0.20080783455768136, -0.09647773531072487, -0.2726590486785942, -0.22673466599679118, -0.10261388964201987, -0.5227936197522774, -0.4683962360410531, -0.565468794706545, -0.6021691676948254, -0.329565281948307, -0.3788600875012388, -0.16528779887618908, -0.08745039552755479, -0.1333298242051537, 98.68900859688569, -0.17216925921630402, -0.06968716215188601, -0.07625840644691705, -0.079459182490876, -0.13591359724358254, -0.23164084670396273, -0.08296724526474347, -0.10464295488675729, -0.21627206211241506, -0.17969091794975656, -0.23589970534648722, -0.23373068592588242, -0.24644450893328748, -0.20480110658755704, -0.32150178514898864, -0.3029465135310743, -0.20452187179308437, 0.006880744527231098, -0.34930739297611135, -0.34665817467285104, -0.5084926547489771, -0.13314821951791753, -0.34913840997180245, -0.20400620847973874, -0.07988195725316541, -0.11006323391315657, -0.5391855459662446, -0.1294345177866817, -0.520852129665785, -0.5969717176509557, -0.21759502653326354, -0.18710628791246942, -0.14814091571499205, -0.03312932949890681, -0.20789835931078046, -0.36813849910107427, -0.07200332643334781, -0.0344146608134023, -0.42820731402969553, -0.06966835380398365, -0.13453780904455834, -0.27282141627373535, -0.4709625645214391, -0.6538347724564693, -0.12479515606645764, -0.1569293356065747, -0.02303584575504119, -0.9066455536891007, -0.1543046891628712, -0.08001289410175069, -0.20728620099108577, -0.2612650921759214, -0.593934978123466, -0.4197688266389352, -0.11513259643028476, -0.08125487993279173, -0.11474324073889122, -0.1888656970922094, -0.10821113439498675, -0.3442160534305489, -0.39441569770026835, -0.17325692538858833, -0.1996390387706386, -0.1958233542226953, -0.531942384586627, -0.1605058770163097, -0.15489282455688244, -0.08741044916226128, -0.10156906802116344, -0.11475848472049062, -0.06955639303117717, -0.28660888434878684, -0.11780716877711943, -0.15879445275905957, -0.5613974006987371, -0.5387859459459339, -0.07295967537842292, -0.36153164669801274, -0.19777826655477748, -0.1875172019153724, -0.3219332490731519, -0.233197355830485, -0.4024678281552746, -0.18819885682737575, -0.6831941158393405, -0.5813446823234213, -0.4653897635694845, -0.4302313186084361, -0.5247509356478449, -0.5221460027213645, -0.6317801878685434, -0.4292396427751738, -0.6922371416457129, -0.5425329597317997, -0.3486758098591283, -0.4887620201699333, -0.30340192908133584, -0.6904277870619349, -0.4533074102159492, -0.7139332618864898, -0.3278130968608925, -0.43027831982309206, -0.3913549789238708, -0.516308480207411, -0.6599864635609516, -0.5100423417736277, -0.6643857388514378, -0.582536684949626, -0.6167616948043247, -0.40442485093321445, -0.5409177012313354, -0.29018052130597366, -0.8063492538746914, -0.8910525745537886, -0.8950532250479892, -0.9206954576157272, -0.43169743492043317, -1.1189475358701568, -0.5589829621429028, -0.5418418593549874, -0.5380971211537123, 9.598948558722917, -0.4947294009130146, -0.5775395909489502, -0.22061645949631434, -0.7347528682591381, -0.28379905321723514, -0.22045174683095856, -0.2530699466793924, -1.238550646629458, -0.5747928730105618, -0.48424612300053493, -0.5152736361778565, -1.0109778004894598, -0.6124861945925765, -0.4660887173983358, -0.5880489712721763, -0.4766269258141913, -0.5333833763536591, -0.5305352992105712, -0.9936634165076395, -0.5675084769595634, -0.44984090604438126, -0.2665117408583646, -0.35694842534232174, -0.36215471830774776, -0.961382369263897, -1.5614038797669565, -0.44954151782218166, -0.6051307168419788, -0.5606094032683475, -0.23907454782546284, -0.21137200945034085, -0.2866123176714447, -0.3274652270966019, -0.17124847022597794, 0.0684736238484354, -0.5853295096325508, -0.025604583208961276, -0.2673501839464393, -0.1553456096043681, -0.6406725270344624, -0.3837369715580382, -0.6266015916715411, -0.1448281588226758, -0.2572034001544931, -0.242103502990055, -0.8147970437009489, -0.7885495241855762, -0.8614298610582416, -1.1662335240094353, -0.09268244672380156, -1.3349882797962267, -0.9124884394525379, -1.3377238081234966, -1.1031347411979702, -0.5835800746628526, -0.1430372073364042, -0.689832925601616, -0.5762833776328279, -0.5928217771740772, -0.7910226807395202, -0.4071137343809169, -0.6903114266613095, -0.8339369247175276, -0.18824652701825145, -0.058828001942209385, -0.6413209958302567, -0.08880782627607478, -1.7650936948088773, -0.3190237767820249, 0.45990828057284516, 0.3619920972464866, -0.4337312249108215, -0.23438091300437344, -0.054170858010368146, -0.1882459165933502, -0.6170688232870993, -0.8467959183652803, -0.8764622689690635, -10.425062251324098]}],\n",
       "                        {\"template\": {\"data\": {\"bar\": [{\"error_x\": {\"color\": \"#2a3f5f\"}, \"error_y\": {\"color\": \"#2a3f5f\"}, \"marker\": {\"line\": {\"color\": \"#E5ECF6\", \"width\": 0.5}}, \"type\": \"bar\"}], \"barpolar\": [{\"marker\": {\"line\": {\"color\": \"#E5ECF6\", \"width\": 0.5}}, \"type\": \"barpolar\"}], \"carpet\": [{\"aaxis\": {\"endlinecolor\": \"#2a3f5f\", \"gridcolor\": \"white\", \"linecolor\": \"white\", \"minorgridcolor\": \"white\", \"startlinecolor\": \"#2a3f5f\"}, \"baxis\": {\"endlinecolor\": \"#2a3f5f\", \"gridcolor\": \"white\", \"linecolor\": \"white\", \"minorgridcolor\": \"white\", \"startlinecolor\": \"#2a3f5f\"}, \"type\": \"carpet\"}], \"choropleth\": [{\"colorbar\": {\"outlinewidth\": 0, \"ticks\": \"\"}, \"type\": \"choropleth\"}], \"contour\": [{\"colorbar\": {\"outlinewidth\": 0, \"ticks\": \"\"}, \"colorscale\": [[0.0, \"#0d0887\"], [0.1111111111111111, \"#46039f\"], [0.2222222222222222, \"#7201a8\"], [0.3333333333333333, \"#9c179e\"], [0.4444444444444444, \"#bd3786\"], [0.5555555555555556, \"#d8576b\"], [0.6666666666666666, \"#ed7953\"], [0.7777777777777778, \"#fb9f3a\"], [0.8888888888888888, \"#fdca26\"], [1.0, \"#f0f921\"]], \"type\": \"contour\"}], \"contourcarpet\": [{\"colorbar\": {\"outlinewidth\": 0, \"ticks\": \"\"}, \"type\": \"contourcarpet\"}], \"heatmap\": [{\"colorbar\": {\"outlinewidth\": 0, \"ticks\": \"\"}, \"colorscale\": [[0.0, \"#0d0887\"], [0.1111111111111111, \"#46039f\"], [0.2222222222222222, \"#7201a8\"], [0.3333333333333333, \"#9c179e\"], [0.4444444444444444, \"#bd3786\"], [0.5555555555555556, \"#d8576b\"], [0.6666666666666666, \"#ed7953\"], [0.7777777777777778, \"#fb9f3a\"], [0.8888888888888888, \"#fdca26\"], [1.0, \"#f0f921\"]], \"type\": \"heatmap\"}], \"heatmapgl\": [{\"colorbar\": {\"outlinewidth\": 0, \"ticks\": \"\"}, \"colorscale\": [[0.0, \"#0d0887\"], [0.1111111111111111, \"#46039f\"], [0.2222222222222222, \"#7201a8\"], [0.3333333333333333, \"#9c179e\"], [0.4444444444444444, \"#bd3786\"], [0.5555555555555556, \"#d8576b\"], [0.6666666666666666, \"#ed7953\"], [0.7777777777777778, \"#fb9f3a\"], [0.8888888888888888, \"#fdca26\"], [1.0, \"#f0f921\"]], \"type\": \"heatmapgl\"}], \"histogram\": [{\"marker\": {\"colorbar\": {\"outlinewidth\": 0, \"ticks\": \"\"}}, \"type\": \"histogram\"}], \"histogram2d\": [{\"colorbar\": {\"outlinewidth\": 0, \"ticks\": \"\"}, \"colorscale\": [[0.0, \"#0d0887\"], [0.1111111111111111, \"#46039f\"], [0.2222222222222222, \"#7201a8\"], [0.3333333333333333, \"#9c179e\"], [0.4444444444444444, \"#bd3786\"], [0.5555555555555556, \"#d8576b\"], [0.6666666666666666, \"#ed7953\"], [0.7777777777777778, \"#fb9f3a\"], [0.8888888888888888, \"#fdca26\"], [1.0, \"#f0f921\"]], \"type\": \"histogram2d\"}], \"histogram2dcontour\": [{\"colorbar\": {\"outlinewidth\": 0, \"ticks\": \"\"}, \"colorscale\": [[0.0, \"#0d0887\"], [0.1111111111111111, \"#46039f\"], [0.2222222222222222, \"#7201a8\"], [0.3333333333333333, \"#9c179e\"], [0.4444444444444444, \"#bd3786\"], [0.5555555555555556, \"#d8576b\"], [0.6666666666666666, \"#ed7953\"], [0.7777777777777778, \"#fb9f3a\"], [0.8888888888888888, \"#fdca26\"], [1.0, \"#f0f921\"]], \"type\": \"histogram2dcontour\"}], \"mesh3d\": [{\"colorbar\": {\"outlinewidth\": 0, \"ticks\": \"\"}, \"type\": \"mesh3d\"}], \"parcoords\": [{\"line\": {\"colorbar\": {\"outlinewidth\": 0, \"ticks\": \"\"}}, \"type\": \"parcoords\"}], \"pie\": [{\"automargin\": true, \"type\": \"pie\"}], \"scatter\": [{\"marker\": {\"colorbar\": {\"outlinewidth\": 0, \"ticks\": \"\"}}, \"type\": \"scatter\"}], \"scatter3d\": [{\"line\": {\"colorbar\": {\"outlinewidth\": 0, \"ticks\": \"\"}}, \"marker\": {\"colorbar\": {\"outlinewidth\": 0, \"ticks\": \"\"}}, \"type\": \"scatter3d\"}], \"scattercarpet\": [{\"marker\": {\"colorbar\": {\"outlinewidth\": 0, \"ticks\": \"\"}}, \"type\": \"scattercarpet\"}], \"scattergeo\": [{\"marker\": {\"colorbar\": {\"outlinewidth\": 0, \"ticks\": \"\"}}, \"type\": \"scattergeo\"}], \"scattergl\": [{\"marker\": {\"colorbar\": {\"outlinewidth\": 0, \"ticks\": \"\"}}, \"type\": \"scattergl\"}], \"scattermapbox\": [{\"marker\": {\"colorbar\": {\"outlinewidth\": 0, \"ticks\": \"\"}}, \"type\": \"scattermapbox\"}], \"scatterpolar\": [{\"marker\": {\"colorbar\": {\"outlinewidth\": 0, \"ticks\": \"\"}}, \"type\": \"scatterpolar\"}], \"scatterpolargl\": [{\"marker\": {\"colorbar\": {\"outlinewidth\": 0, \"ticks\": \"\"}}, \"type\": \"scatterpolargl\"}], \"scatterternary\": [{\"marker\": {\"colorbar\": {\"outlinewidth\": 0, \"ticks\": \"\"}}, \"type\": \"scatterternary\"}], \"surface\": [{\"colorbar\": {\"outlinewidth\": 0, \"ticks\": \"\"}, \"colorscale\": [[0.0, \"#0d0887\"], [0.1111111111111111, \"#46039f\"], [0.2222222222222222, \"#7201a8\"], [0.3333333333333333, \"#9c179e\"], [0.4444444444444444, \"#bd3786\"], [0.5555555555555556, \"#d8576b\"], [0.6666666666666666, \"#ed7953\"], [0.7777777777777778, \"#fb9f3a\"], [0.8888888888888888, \"#fdca26\"], [1.0, \"#f0f921\"]], \"type\": \"surface\"}], \"table\": [{\"cells\": {\"fill\": {\"color\": \"#EBF0F8\"}, \"line\": {\"color\": \"white\"}}, \"header\": {\"fill\": {\"color\": \"#C8D4E3\"}, \"line\": {\"color\": \"white\"}}, \"type\": \"table\"}]}, \"layout\": {\"annotationdefaults\": {\"arrowcolor\": \"#2a3f5f\", \"arrowhead\": 0, \"arrowwidth\": 1}, \"coloraxis\": {\"colorbar\": {\"outlinewidth\": 0, \"ticks\": \"\"}}, \"colorscale\": {\"diverging\": [[0, \"#8e0152\"], [0.1, \"#c51b7d\"], [0.2, \"#de77ae\"], [0.3, \"#f1b6da\"], [0.4, \"#fde0ef\"], [0.5, \"#f7f7f7\"], [0.6, \"#e6f5d0\"], [0.7, \"#b8e186\"], [0.8, \"#7fbc41\"], [0.9, \"#4d9221\"], [1, \"#276419\"]], \"sequential\": [[0.0, \"#0d0887\"], [0.1111111111111111, \"#46039f\"], [0.2222222222222222, \"#7201a8\"], [0.3333333333333333, \"#9c179e\"], [0.4444444444444444, \"#bd3786\"], [0.5555555555555556, \"#d8576b\"], [0.6666666666666666, \"#ed7953\"], [0.7777777777777778, \"#fb9f3a\"], [0.8888888888888888, \"#fdca26\"], [1.0, \"#f0f921\"]], \"sequentialminus\": [[0.0, \"#0d0887\"], [0.1111111111111111, \"#46039f\"], [0.2222222222222222, \"#7201a8\"], [0.3333333333333333, \"#9c179e\"], [0.4444444444444444, \"#bd3786\"], [0.5555555555555556, \"#d8576b\"], [0.6666666666666666, \"#ed7953\"], [0.7777777777777778, \"#fb9f3a\"], [0.8888888888888888, \"#fdca26\"], [1.0, \"#f0f921\"]]}, \"colorway\": [\"#636efa\", \"#EF553B\", \"#00cc96\", \"#ab63fa\", \"#FFA15A\", \"#19d3f3\", \"#FF6692\", \"#B6E880\", \"#FF97FF\", \"#FECB52\"], \"font\": {\"color\": \"#2a3f5f\"}, \"geo\": {\"bgcolor\": \"white\", \"lakecolor\": \"white\", \"landcolor\": \"#E5ECF6\", \"showlakes\": true, \"showland\": true, \"subunitcolor\": \"white\"}, \"hoverlabel\": {\"align\": \"left\"}, \"hovermode\": \"closest\", \"mapbox\": {\"style\": \"light\"}, \"paper_bgcolor\": \"white\", \"plot_bgcolor\": \"#E5ECF6\", \"polar\": {\"angularaxis\": {\"gridcolor\": \"white\", \"linecolor\": \"white\", \"ticks\": \"\"}, \"bgcolor\": \"#E5ECF6\", \"radialaxis\": {\"gridcolor\": \"white\", \"linecolor\": \"white\", \"ticks\": \"\"}}, \"scene\": {\"xaxis\": {\"backgroundcolor\": \"#E5ECF6\", \"gridcolor\": \"white\", \"gridwidth\": 2, \"linecolor\": \"white\", \"showbackground\": true, \"ticks\": \"\", \"zerolinecolor\": \"white\"}, \"yaxis\": {\"backgroundcolor\": \"#E5ECF6\", \"gridcolor\": \"white\", \"gridwidth\": 2, \"linecolor\": \"white\", \"showbackground\": true, \"ticks\": \"\", \"zerolinecolor\": \"white\"}, \"zaxis\": {\"backgroundcolor\": \"#E5ECF6\", \"gridcolor\": \"white\", \"gridwidth\": 2, \"linecolor\": \"white\", \"showbackground\": true, \"ticks\": \"\", \"zerolinecolor\": \"white\"}}, \"shapedefaults\": {\"line\": {\"color\": \"#2a3f5f\"}}, \"ternary\": {\"aaxis\": {\"gridcolor\": \"white\", \"linecolor\": \"white\", \"ticks\": \"\"}, \"baxis\": {\"gridcolor\": \"white\", \"linecolor\": \"white\", \"ticks\": \"\"}, \"bgcolor\": \"#E5ECF6\", \"caxis\": {\"gridcolor\": \"white\", \"linecolor\": \"white\", \"ticks\": \"\"}}, \"title\": {\"x\": 0.05}, \"xaxis\": {\"automargin\": true, \"gridcolor\": \"white\", \"linecolor\": \"white\", \"ticks\": \"\", \"title\": {\"standoff\": 15}, \"zerolinecolor\": \"white\", \"zerolinewidth\": 2}, \"yaxis\": {\"automargin\": true, \"gridcolor\": \"white\", \"linecolor\": \"white\", \"ticks\": \"\", \"title\": {\"standoff\": 15}, \"zerolinecolor\": \"white\", \"zerolinewidth\": 2}}}},\n",
       "                        {\"responsive\": true}\n",
       "                    ).then(function(){\n",
       "                            \n",
       "var gd = document.getElementById('60acc383-97d7-41e3-b4de-93dad91de0e6');\n",
       "var x = new MutationObserver(function (mutations, observer) {{\n",
       "        var display = window.getComputedStyle(gd).display;\n",
       "        if (!display || display === 'none') {{\n",
       "            console.log([gd, 'removed!']);\n",
       "            Plotly.purge(gd);\n",
       "            observer.disconnect();\n",
       "        }}\n",
       "}});\n",
       "\n",
       "// Listen for the removal of the full notebook cells\n",
       "var notebookContainer = gd.closest('#notebook-container');\n",
       "if (notebookContainer) {{\n",
       "    x.observe(notebookContainer, {childList: true});\n",
       "}}\n",
       "\n",
       "// Listen for the clearing of the current output cell\n",
       "var outputEl = gd.closest('.output');\n",
       "if (outputEl) {{\n",
       "    x.observe(outputEl, {childList: true});\n",
       "}}\n",
       "\n",
       "                        })\n",
       "                };\n",
       "                });\n",
       "            </script>\n",
       "        </div>"
      ]
     },
     "metadata": {},
     "output_type": "display_data"
    }
   ],
   "source": [
    "# Plot as 2D scatter plot\n",
    "scatter = go.Scatter(\n",
    "    x = Y[:,0],\n",
    "    y = Y[:,1],\n",
    "    mode='markers+text',\n",
    "    text= df_nodes.values[:,0],\n",
    "    textposition='bottom center',\n",
    "    textfont=dict(\n",
    "        family='sans serif',\n",
    "        size=10,\n",
    "        color='#000000'\n",
    "    ),\n",
    "    marker=dict(\n",
    "        size=5,\n",
    "        symbol='circle',\n",
    "        opacity=0.5\n",
    "    )\n",
    ")\n",
    "\n",
    "\n",
    "\n",
    "\n",
    "\n",
    "\n",
    "data = [scatter]\n",
    "iplot(data, filename='fig0')"
   ]
  },
  {
   "cell_type": "code",
   "execution_count": 11,
   "metadata": {},
   "outputs": [],
   "source": [
    "# Perform normalized spectral clustering\n",
    "E, V = eigs(Lt,3,which='SR')\n",
    "E = np.real(E)\n",
    "V = np.real(V)\n",
    "\n",
    "Y = V[:,1:3]*100"
   ]
  },
  {
   "cell_type": "code",
   "execution_count": 12,
   "metadata": {},
   "outputs": [
    {
     "data": {
      "application/vnd.plotly.v1+json": {
       "config": {
        "linkText": "Export to plot.ly",
        "plotlyServerURL": "https://plot.ly",
        "showLink": false
       },
       "data": [
        {
         "marker": {
          "opacity": 0.5,
          "size": 5,
          "symbol": "circle"
         },
         "mode": "markers+text",
         "text": [
          "Black Panther / T'chal",
          "Loki [asgardian]",
          "Mantis / ? Brandt",
          "Iceman / Robert Bobby",
          "Marvel Girl / Jean Grey",
          "Cyclops / Scott Summer",
          "Klaw / Ulysses Klaw",
          "Human Torch / Johnny S",
          "Richards, Franklin B",
          "Wolverine / Logan",
          "Firebird / Bonita Juar",
          "Mr. Fantastic / Reed R",
          "Medusa / Medusalith Am",
          "Dr. Strange / Stephen",
          "Jack Of Hearts / Jack",
          "Mephisto",
          "Thanos",
          "Swordsman / Jacques Du",
          "Collector / Taneleer T",
          "Lockjaw [inhuman]",
          "Sub-mariner / Namor Ma",
          "Pharaoh Rama-tut",
          "Ant-man Ii / Scott Har",
          "Lyja Lazerfist [skru",
          "Gorgon [inhuman]",
          "Nighthawk Ii / Kyle Ri",
          "Cage, Luke / Carl Luca",
          "Colossus Ii / Peter Ra",
          "Hellcat / Patsy Walker",
          "Karnak [inhuman]",
          "Death",
          "Redwing",
          "Daredevil / Matt Murdo",
          "Norriss, Sister Barb",
          "Rage / Elvin Daryl Hal",
          "Starfox / Eros",
          "Demolition Man / Denni",
          "Sersi / Sylvia",
          "Spider-man / Peter Parker",
          "Vision",
          "Uatu",
          "Binary / Carol Danvers",
          "Gyrich, Henry Peter",
          "Nightcrawler / Kurt Wa",
          "Angel / Warren Kenneth",
          "Silver Surfer / Norrin",
          "She-hulk / Jennifer Wa",
          "Ghaur [deviant]",
          "Dr. Doom / Victor Von",
          "Storm / Ororo Munroe S",
          "Scarlet Witch / Wanda",
          "Toad / Mortimer Toynbe",
          "Hulk / Dr. Robert Bruce Banner",
          "Firestar / Angelica Jo",
          "Wonder Man / Simon Wil",
          "Drax / Arthur Douglas",
          "Dugan, Timothy Aloyi",
          "Carter, Sharon",
          "Black Knight V / Dane",
          "Sunfire / Shiro Yoshid",
          "Triton",
          "Ultron",
          "Jones, Richard Milho",
          "Iron Man / Tony Stark",
          "Nelson, Franklin Fog",
          "Captain America",
          "Jarvis, Edwin",
          "Quasar Iii / Wendell V",
          "Jameson, J. Jonah",
          "Masters, Alicia Reis",
          "Magneto / Magnus / Eric",
          "Invisible Woman / Sue",
          "Professor X / Charles",
          "Iron Fist / Daniel Ran",
          "Black Bolt / Blackanto",
          "Hawk",
          "Sandman / William Bake",
          "Falcon / Sam Wilson",
          "Stingray / Dr. Walter",
          "Justice Ii / Vance Ast",
          "Hercules [greek God]",
          "Usagent / Captain John",
          "Captain Marvel Ii / Mo",
          "Crystal [inhuman]",
          "Tigra / Greer Nelson",
          "Spider-woman Ii / Juli",
          "Machine Man / X-51",
          "Mockingbird / Dr. Barb",
          "Captain Marvel / Capta",
          "Wasp / Janet Van Dyne",
          "Fury, Col. Nicholas",
          "Thor / Dr. Donald Blak",
          "Quicksilver / Pietro M",
          "Captain Britain / Bria",
          "Shadowcat / Katherine",
          "Black Widow / Natasha",
          "Ant-man / Dr. Henry J.",
          "Moon Knight / Marc Spe",
          "Jocasta",
          "Moondragon / Heather D",
          "Thing / Benjamin J. Gr",
          "Beast / Henry &hank& P",
          "Nova / Richard Rider",
          "Wrecker Iii / Dirk Gar",
          "Warlock Ii / Adam Warl",
          "Piledriver Ii / Brian",
          "Thunderball / Dr. Elio",
          "Dr. Octopus / Otto Oct",
          "Banner, Betty Ross T",
          "Avalanche / Dominic Pe",
          "Attuma",
          "Hela [asgardian]",
          "Doc Samson / Dr. Leona",
          "Guardian / James Macdo",
          "Northstar / Jean-paul",
          "Dr. Druid / Anthony Lu",
          "Watson-parker, Mary",
          "Mystique / Raven Darkh",
          "Pyro / Allerdyce Johnn",
          "Destiny Ii / Irene Adl",
          "Mister Hyde / Calvin Z",
          "Ghost Rider Ii / Johnn",
          "Mole Man / Harvey Rupe",
          "Firelord / Pyreus Kril",
          "Leader / Sam Sterns",
          "Le Fey, Morgan",
          "Bulldozer / Henry Camp",
          "Forgotten One / Gilgam",
          "Balder [asgardian]",
          "Hogun [asgardian]",
          "Hellstorm / Daimon Hel",
          "Aurora / Jeanne-marie",
          "O'brien, Michael",
          "Stankowicz, Fabian",
          "Screaming Mimi / Melis",
          "Moonstone Ii / Karla S",
          "Fixer Ii / Paul Norber",
          "Darkstar / Laynia Serg",
          "Vanguard / Nicolai Kry",
          "Gamora",
          "Psylocke / Elisabeth B",
          "Rogue  / ",
          "Sasquatch / Walter Lan",
          "Luna / Luna Maximoff [",
          "Whizzer Ii / Stanley S",
          "Dr. Spectrum / Joseph",
          "Kingpin / Wilson Fisk",
          "Clea",
          "Polaris / Lorna Dane",
          "De La Fontaine, Cont",
          "Heimdall [asgardian]",
          "Red Skull / Johann Sch",
          "Thompson, Eugene Fla",
          "Wong",
          "Parker, May",
          "Green Goblin / Norman",
          "Night Thrasher / Duane",
          "Eternity / Adam Qadmon",
          "Galactus / Galan",
          "Triathlon / Delroy Gar",
          "Beetle / Abner Ronald",
          "Lilandra Neramani [s",
          "Odin [asgardian]",
          "Hogan, Virginia Pepp",
          "Mad Dog / Colonel Buzz",
          "Kincaid, Dr. Jane Fo",
          "Wizard / Bentley Wittm",
          "Charcoal / Charlie Bur",
          "Blob / Fred J. Dukes",
          "Cloak / Tyrone Johnson",
          "Thunderstrike / Eric K",
          "Power Man / Erik Joste",
          "Human Torch Android / ",
          "Juggernaut / Cain Mark",
          "Absorbing Man / Carl C",
          "Volstagg",
          "Shaman / Michael Twoyo",
          "Snowbird / Narya / Anne",
          "Dagger / Tandy Bowen",
          "Phoenix Iii / Rachel S",
          "Mandarin",
          "Fandral [asgardian]",
          "Ms. Marvel Ii / Sharon",
          "Pip / Prince Gofern",
          "Enchantress / Amora / He",
          "Jameson, Col. John",
          "Cooper, Dr. Valerie",
          "Nova Ii / Frankie Raye",
          "Darkhawk / Chris Powel",
          "Nomad Iii / Jack Monro",
          "Robertson, Joe",
          "Gargoyle Ii / Isaac Ch",
          "Namorita / Nita Prenti",
          "Iron Man Iv / James R.",
          "Ross, Gen. Thaddeus",
          "Harkness, Agatha",
          "Carter, Peggy",
          "Hyperion",
          "Living Lightning / Mig",
          "Jones, Gabe",
          "Osborn, Liz Allan",
          "Leeds, Betty Brant",
          "Sif",
          "Dazzler Ii / Allison B",
          "Molecule Man / Owen Re",
          "Speedball / Robbie Bal",
          "Lizard / Dr. Curtis Co",
          "Volcana / Marsha Rosen",
          "Lockheed",
          "Titania Ii / Mary Skee",
          "Boomer / Tabitha Smith",
          "Summers, Nathan Chri",
          "Summers, Madelyne Ma",
          "Mactaggert, Moira Ki",
          "Cannonball Ii / Sam Gu",
          "Tilby, Trish / Patrici",
          "Skids / Sally Blevins",
          "Wolfsbane / Rahne Sinc",
          "Leech",
          "Mirage Ii / Danielle M",
          "Gambit / Remy Lebeau",
          "Jubilee / Jubilation L",
          "Strong Guy / Guido Car",
          "Spiral",
          "Banshee / Sean Cassidy",
          "Legion Ii / David Hall",
          "Havok / Alex Summers",
          "Longshot",
          "Forge",
          "Sabretooth / Victor Cr",
          "Maddicks, Arthur Art",
          "Warlock Iii",
          "Rictor / Julio Esteban",
          "Sunspot / Roberto Daco",
          "Firefist / Rusty Colli",
          "Bishop  / ",
          "Daytripper / Amanda Se",
          "Wild Child / Kyle Gibn",
          "Thunderbird Ii / James",
          "Sauron / Dr. Karl Lyko",
          "Siryn / Theresa Rourke",
          "Shatterstar Ii / Gavee",
          "Marrow / Sarah",
          "Feral / Maria Callasan",
          "Callisto",
          "Mr. Sinister / Nathan",
          "Raza Longknife",
          "Spider-woman / Jessica",
          "Cypher / Doug Ramsey",
          "Deathbird [shi'ar]",
          "Hudson, Heather",
          "Stryfe",
          "Iron Man Doppelgange",
          "Puck / Eugene Milton J",
          "Silhouette",
          "Cortez, Fabian",
          "Black King / Sebastian",
          "Magik / Illyana Rasput",
          "Zabu",
          "Domino Iii / Beatrice / ",
          "Caliban / ",
          "Apocalypse / En Sabah",
          "Hunter, Stevie",
          "Corsair",
          "Ch'od",
          "Mam'selle Hepzibah",
          "Zero",
          "X-man / Nathan Grey",
          "Karma / Xi'an Coy Manh",
          "Mr. Fantastic Doppel",
          "Beyonder",
          "Multiple Man / James A",
          "Colossus Ii Doppelga",
          "Scanner Ii",
          "Ka-zar / Kevin Plunder",
          "White Queen / Emma Fro",
          "Magma / Amara Aquilla / ",
          "Thanos Doppelganger",
          "Magus",
          "Knight, Misty",
          "Wing, Colleen",
          "Puppet Master / Philli",
          "Maximus [inhuman]",
          "Punisher Ii / Frank Ca",
          "Zeus",
          "Box Iv / Madison Jeffr",
          "Thena",
          "Black Cat / Felicia Ha",
          "Gee / Alex Power",
          "Spider-man Clone / Ben",
          "Ulik",
          "Citizen V Ii / Helmut",
          "High Evolutionary / He",
          "Hobgoblin V / Jason Ph",
          "Ghost Rider Iii / Dan",
          "Cushing, Kate",
          "Katzenberg, Nick",
          "Vizier",
          "Tombstone / Lonnie Tho",
          "Mercado, Joy",
          "Hammerhead",
          "Arranger / ",
          "Osborn, Harry",
          "Cobra / Klaus Vorhees",
          "Leeds, Ned",
          "Watson, Anna",
          "Urich, Ben",
          "Robertson, Randy",
          "Page, Karen",
          "Grant, Gloria Glory",
          "Lubenski, Nate",
          "Ikaris / Ike Harris [e",
          "Rosenthal, Bernie",
          "Gladiator Ii",
          "Beta Ray Bill",
          "Bridge, George Washi",
          "Diamond Lil / Lillian",
          "Asp Ii / Cleo",
          "Black Mamba / Tanya Se",
          "Meggan",
          "Austin, Susan",
          "Diamondback Ii / Rache",
          "Makkari / Mike Khary / I",
          "Hodge, Cameron",
          "Skin / Angelo Espinosa",
          "Husk / Paige Guthrie",
          "Deadpool / Jack / Wade W"
         ],
         "textfont": {
          "color": "#000000",
          "family": "sans serif",
          "size": 10
         },
         "textposition": "bottom center",
         "type": "scatter",
         "x": [
          -0.07697825210978003,
          0.05513939168913884,
          -0.08057485642454787,
          -5.857321531898152,
          -7.011483431203748,
          -7.55595529524834,
          0.10823134157210208,
          1.0725570806470506,
          -0.17073634937279256,
          -7.357797219123352,
          -0.132092631914491,
          0.8284330555036791,
          0.2046593511323836,
          -0.005835938667055165,
          -0.028281716164920322,
          0.1885246026876989,
          -0.9154540002668884,
          -0.07648418000954185,
          -0.15478700602616358,
          -0.09062058580600868,
          0.09507438279305448,
          -0.4118806253069116,
          0.08123388300602051,
          0.2125482488689703,
          0.12420650688332652,
          0.13013246830263775,
          0.606046112441295,
          -7.480813675420521,
          -0.08443059435226254,
          0.1142285520100409,
          -0.1475118850779318,
          0.29627467252875894,
          6.402847102105312,
          -0.22024690801875324,
          0.06750551802450425,
          -0.08539625868911285,
          0.036995482991511244,
          -0.08084978530511788,
          29.201122898741573,
          -0.7509734949033042,
          -0.4220846782645298,
          -1.3397556037341718,
          -0.8354930143590261,
          -7.15967192838529,
          -6.138074924201932,
          -0.22105112220739986,
          -0.4381590073622838,
          -0.13721199036994325,
          0.19357456440335438,
          -7.951365573479328,
          -0.9942533382065626,
          -1.7687889277697044,
          0.10036637680127533,
          -0.10118093702627697,
          -0.9667042065099197,
          -0.9713551425815271,
          0.4974835771498643,
          0.25092311632769626,
          -0.7780596208932037,
          -1.6052595777587357,
          0.13632033882797942,
          0.020664446373391654,
          -0.10682835336965034,
          0.27034273404815157,
          6.666561459501326,
          0.43573050168236627,
          0.5329086969580915,
          -0.578679552513423,
          27.347520015112263,
          0.30439450917986777,
          -4.287745381320642,
          0.5154006165750566,
          -7.347655694689537,
          0.12017051517552269,
          0.10756099498894345,
          -0.3641946797456986,
          3.1969477582245895,
          0.3586645447849181,
          -0.21620304637448876,
          0.5256143567558701,
          -1.0025620738587193,
          -0.6648063733719205,
          -0.09725769126161435,
          -0.5116987632079345,
          -0.3037432140458511,
          -0.4789241332683243,
          -0.13636876785542046,
          -0.1903901615030001,
          -0.014288026669188481,
          -0.07088085524438195,
          0.13962140176475313,
          0.12826851249903976,
          -1.6336016234120496,
          -3.5803956304164046,
          -6.869264376224516,
          0.6330776848556158,
          -0.2632442854526131,
          0.7136185425122211,
          -0.21906969090038425,
          -1.0920785406045725,
          0.5377525526262197,
          -5.684063200671137,
          -0.44061264352396196,
          0.15296422383007605,
          -0.959073899964925,
          0.1714340371924738,
          0.4968644089220634,
          7.389958899381013,
          0.2027369329665697,
          -2.9386190289300695,
          -0.34656024389191514,
          -0.8464800061195823,
          0.06701776288246741,
          -1.5237915237444213,
          -2.1115081820472428,
          -0.8006046687478584,
          28.480929090288186,
          -4.213455065914963,
          -3.26577648467749,
          -2.7453555057311294,
          0.9915562218880567,
          0.5991096611846529,
          -0.1063587601720474,
          0.015364371751308208,
          0.1852917249402015,
          -0.03346587779449485,
          0.1702466729223633,
          -0.0649499765411452,
          -0.20615393413767183,
          -0.31472481913111855,
          0.05314418646381276,
          -1.954756216172096,
          0.6730707766568864,
          0.776177517044701,
          0.2674048743627629,
          0.2874993545792186,
          0.3185480722910887,
          -0.17430447911791236,
          0.00932664027426087,
          -1.1008881713333736,
          -5.457752554336059,
          -6.420740338972809,
          -2.204237768413349,
          -0.09241203176221308,
          -0.23008669818277938,
          -0.23111496071402632,
          12.449053560404643,
          0.16270513158849148,
          -4.957576037436566,
          0.16783857644302597,
          -0.19798971540283947,
          0.5928230554521077,
          21.498263544625313,
          0.39141321530682144,
          24.62321404260442,
          12.127595295653592,
          0.33198173344948434,
          -0.6470012053970317,
          -0.6098520993037972,
          -0.11473958265570651,
          0.953107508180946,
          -3.6083461354511632,
          -0.18474325543125747,
          0.01793600177107393,
          -0.24843942879759717,
          -0.09769060675641536,
          1.0070974711116911,
          0.04722008756418382,
          -3.628815118126203,
          2.471677385088924,
          -0.8469184169913037,
          0.29727057660367456,
          -0.07466628719486272,
          -1.9963408450885407,
          0.10993204571936843,
          -0.3275610897517734,
          -1.9381143036961024,
          -1.335499689344855,
          2.431295218796716,
          -3.8866408055096704,
          0.13611547472684282,
          -0.3238969193182852,
          0.1824150241724687,
          -0.9093917731912659,
          -0.054087827615740124,
          8.071422357828114,
          -3.192968674244444,
          -0.7967365138510694,
          -0.2965614264838578,
          0.3431741799760278,
          24.873603163987475,
          -0.3801641003507237,
          -0.506190609717125,
          -0.09313282243977719,
          0.31222645454450965,
          -0.593111540494898,
          0.8762319672407285,
          -0.2353749046659128,
          -0.9735620160175842,
          0.04154661292763119,
          16.934787731062677,
          22.45272909061773,
          -0.2547198765116186,
          -3.168405835609648,
          0.009476072753285313,
          -0.5253634760596128,
          4.650826516931487,
          -0.016894960690753642,
          -3.8830753218314973,
          0.4166088071991678,
          -7.074063633294343,
          -6.272691475121748,
          -3.096986322838726,
          -5.942678387608841,
          -8.520137227145481,
          -2.7534750775336625,
          -3.8592417136397112,
          -7.0330243536151595,
          -3.5198394328059406,
          -6.521808535694737,
          -5.172902660621062,
          -5.41601875943106,
          -3.10273968443507,
          -2.3018596823175037,
          -5.767636398764122,
          -2.149724936046906,
          -5.313549041733459,
          -2.863678560808865,
          -4.1407764954626085,
          -2.8195337014723267,
          -3.7426903966717835,
          -5.194298378479611,
          -5.303081243910591,
          -7.577187085064975,
          -3.814775481104143,
          -4.084707617693171,
          -2.694316335482436,
          -1.833189232813833,
          -5.848699462429599,
          -1.8956514764975385,
          -5.28531236707045,
          -4.371221587965804,
          -3.1161354763838016,
          -3.3140873463730167,
          -2.3989212307915913,
          -2.1789385734194107,
          -2.7233536203491706,
          -0.09646675399900062,
          -5.008075831793392,
          -2.1013431711381516,
          -2.4762708912406417,
          -2.722325240167828,
          -0.8561286466653637,
          -2.118918268787111,
          -0.3179158734546002,
          -1.1827123884846484,
          -3.051598076813935,
          -5.395002875733952,
          0.03869296178465366,
          -4.070470644341248,
          -4.005682488959743,
          -3.4453297620261565,
          -2.9096637162296703,
          -3.185845353556395,
          -2.7620698188226642,
          -2.757805701237375,
          -2.3200638688876554,
          -1.3667485491293527,
          -3.750269081714487,
          -0.8913090105867019,
          -1.0028481339427484,
          -3.145795775095453,
          -0.806088734311036,
          -0.9669339665310464,
          -0.12781594066699312,
          -4.723975258892365,
          -4.330188610562375,
          -1.0730098530500256,
          -1.2793521002244634,
          -0.389666844803988,
          -0.41105923955568335,
          0.07846305131736388,
          0.033897391244633576,
          7.357826282707637,
          -0.11722326915868876,
          -1.4893027230196316,
          -0.09495391399561616,
          11.416645382393744,
          0.9831992275414739,
          10.934894241022754,
          -0.06742711145730443,
          0.5906303524623034,
          -0.3225533301466386,
          9.755940943012842,
          1.144457237660038,
          13.078187817878796,
          10.093343574575144,
          -0.07608921204056707,
          8.237354469180376,
          11.797664299189375,
          8.03205849711592,
          9.750729466516878,
          19.274061305108937,
          1.0439685196074644,
          13.11581544628857,
          15.74795727942431,
          15.484739906914141,
          12.149426966331374,
          4.786929311494678,
          15.664515497130798,
          10.414531366875735,
          -0.10044813866984313,
          0.5458618994248068,
          -1.5418670668617251,
          -0.10073197993442971,
          -1.475841566796017,
          -1.1847405614900643,
          1.0352715905272705,
          1.0541555681098753,
          -4.023469849262069,
          -0.1209866536311102,
          1.5019983066355234,
          -0.16075480288728225,
          -2.8385143406580515,
          -3.5641728241198467,
          -3.668781539115446,
          -2.048448434866321
         ],
         "y": [
          -3.617640787434163,
          -18.213575056040607,
          -2.2374521783873056,
          6.492383383535199,
          8.187535046777388,
          8.834032359462121,
          -0.9949367746503972,
          -3.097594527435662,
          -1.2850623259202598,
          8.776273740625276,
          -1.7209367935005024,
          -3.341660850427054,
          -2.80197257663982,
          -2.849351996430028,
          -1.3440609209488248,
          -4.769985550796882,
          -0.8501177622406144,
          -2.2803999586619357,
          -1.2706410809639883,
          -2.456611690114931,
          -3.7180062020009577,
          -1.8135190585858934,
          -2.0380865365142804,
          -1.4165864073299455,
          -2.792306502962387,
          -1.915968342191425,
          -1.3117385540961937,
          8.845989708074264,
          -2.3471902879911424,
          -2.755882144013976,
          -0.9567320913944868,
          -1.7173547502037103,
          -0.2850655437870995,
          -2.355513539527043,
          -1.5789779856469117,
          -3.2994639397505314,
          -1.35832641847923,
          -4.361057930297153,
          7.5753101876240265,
          -5.8631942561202655,
          -1.0862085990705115,
          -0.5722354507716791,
          -0.7379814559754395,
          9.03704927531023,
          6.767490761391576,
          -2.9681176356795143,
          -3.48029651763594,
          -1.670030643570158,
          -1.7770796837157234,
          9.468060241970038,
          -5.745642807915986,
          1.810701455561441,
          -3.452427738196577,
          -1.1801303439780342,
          -4.064470639133112,
          -0.7012804461615176,
          -1.7855382099647803,
          -1.9572159074044277,
          -3.513811847717592,
          1.426751204504968,
          -2.6045364066336854,
          -1.622344984567312,
          -2.950701145016371,
          -6.99029937934001,
          0.84235673432462,
          -6.868617670683194,
          -5.300145233862525,
          -2.6055581958747185,
          8.037277003859947,
          -1.6802978814376206,
          4.982247318480474,
          -3.2253389136854396,
          8.624831976550126,
          -0.9782460825967031,
          -2.7933803988176096,
          -5.798254803911529,
          -0.6894155560508528,
          -2.884446332662036,
          -1.3026944766711974,
          -1.7273803570527935,
          -5.430705006956821,
          -1.9840106737911332,
          -3.8679533823721948,
          -3.1964777843844008,
          -2.827159587290699,
          -1.3720635951547024,
          -1.0827230042408063,
          -2.8674353023443726,
          -1.9255856930635775,
          -5.471490911425538,
          -2.0055622025057867,
          -19.27281976944833,
          -2.447256782985457,
          4.6546158796608665,
          8.802100203434145,
          -2.972525755684085,
          -5.3790022699079065,
          -0.8111666129219417,
          -1.7775144279932764,
          -1.7729332174942645,
          -3.2003141157987254,
          4.7254958924374915,
          -0.2521816045193203,
          -2.1500686448256103,
          -0.5644603227034515,
          -1.4750767866843981,
          -1.3832677284417993,
          1.7881410831621192,
          -2.3654660465572164,
          3.7514782200201067,
          -0.6157831025853007,
          -9.255482597746168,
          -1.7677657707794212,
          0.8595056280933445,
          0.9955995161054483,
          -1.085281147564396,
          8.43632724266418,
          5.379765265791412,
          4.2018827672637125,
          3.5471292020712273,
          -1.3684896977696248,
          -0.040429191654099986,
          -0.46523817484352564,
          -1.9532656380972184,
          -1.4198784610584032,
          -0.9566930133325127,
          -1.5282102504622177,
          -2.620775133390205,
          -23.76238008693817,
          -24.398560403481024,
          -1.275476785100982,
          0.9531450742589005,
          -1.525218902831294,
          -1.4375822573147283,
          -2.021924726431082,
          -2.3070653114133184,
          -1.8774827857826204,
          -0.35424386728887475,
          -0.5980637630526555,
          0.03880440232492137,
          6.263672705967302,
          7.364940444178083,
          0.7010543105663598,
          -1.8132858846876487,
          -1.7462117991977937,
          -1.7585782293818477,
          3.0169697488090814,
          -1.6449535139961544,
          5.60745764699478,
          -0.9936966171103332,
          -19.29324319766926,
          -1.791386600969928,
          6.544481899629975,
          -1.7332434718137195,
          7.342824295397123,
          3.6317610947286334,
          -0.6614098387308072,
          -0.40760630930484676,
          -1.3000631115745225,
          -1.5998828654287878,
          -1.8050711200250789,
          4.237334918131695,
          -23.135945612271932,
          -1.7229787357352453,
          -0.7983209459825882,
          -12.116139733888568,
          -1.2246196077173306,
          -1.497723391374346,
          4.568502478747282,
          0.8059808793928593,
          -4.756996630622015,
          -2.433907572953199,
          -2.1787924227737836,
          2.8229062845131763,
          -3.1563875555050016,
          -24.303428584025532,
          0.5843520935302995,
          0.6914018393702955,
          0.7662800440451649,
          5.177407657379727,
          -1.4370020883427792,
          -24.2876440236582,
          -1.0497721492475593,
          -0.2417209571682948,
          -9.994791054414126,
          1.2134391892060843,
          3.624757651160277,
          -0.34877047284002627,
          -0.1420323099487362,
          -1.5074208676556078,
          7.408848408080167,
          -0.952619745275338,
          -0.7428136747220737,
          -1.8246134442006599,
          -2.2136950915203366,
          -1.0879337882906863,
          -1.977806563912765,
          -1.7973834989193558,
          -0.9445778837571018,
          -1.2452657138887662,
          5.159987652912914,
          6.8005935873719405,
          -23.06676404568397,
          3.936658567323206,
          -0.5326215698059427,
          -0.28158990885332225,
          1.062780972635674,
          -0.3199727699537364,
          5.077425865062969,
          -0.8574699884499757,
          9.617225240472916,
          8.411027940881594,
          4.022402278599459,
          7.862558985510935,
          11.430534517246066,
          3.7104868297498395,
          5.0778295530896935,
          9.05666053017122,
          4.862288332193764,
          8.869901189933445,
          6.191648098156903,
          7.361045436721976,
          2.821859640460289,
          3.0160580449208045,
          7.8121529858076855,
          2.7849657293039987,
          5.984733827055646,
          3.606977735008426,
          5.110154484712691,
          3.6390116110615627,
          5.120251594714133,
          6.837187307367857,
          7.0709642104281585,
          10.275039454496708,
          4.673619251991646,
          5.143089639616315,
          3.6139437512137973,
          1.197327147662485,
          8.189600859041814,
          2.5235728416810614,
          7.350387339337862,
          6.075993703105204,
          4.097111933587234,
          4.563282950890141,
          3.1552376221574154,
          2.6963707792387144,
          3.5216164930389335,
          0.26099622451935617,
          7.060019458838601,
          2.6346188470871055,
          0.9220298876667209,
          3.58571495717303,
          0.29639355265385364,
          0.8330586766365314,
          -0.03773802851546131,
          0.9598491403476369,
          4.14036386166529,
          7.554706741458907,
          1.2262410920783233,
          5.778281585942474,
          5.4402144000595385,
          4.302085052830011,
          3.9246824633939656,
          4.108270642634576,
          3.5727091375285402,
          3.564899647013485,
          3.086457012223724,
          2.1372496252760174,
          5.281578947726725,
          0.2759204800726303,
          1.2216998911197716,
          3.4186591956237513,
          0.5378770429938181,
          0.6108869667478924,
          1.3558113241369012,
          6.7185506590048165,
          6.242111646967762,
          0.2553679739784238,
          0.2452091579178383,
          0.3744471924090822,
          0.08659556747634917,
          -0.42317538892506884,
          -1.8918589307098401,
          1.936999275878014,
          -4.0004674743785005,
          0.3960060313877173,
          -4.318919966935501,
          3.438406348914178,
          -0.2677276997049501,
          3.2180110630907715,
          -8.69838987736584,
          -1.7371088512360588,
          -4.839243442709269,
          2.9625042301644955,
          0.7263376421726179,
          4.112832811209946,
          3.178823954336105,
          -15.84121290601849,
          2.5188208460168773,
          3.7197144638127266,
          2.4121543559183025,
          3.006259138390619,
          5.9537067752797945,
          -1.4942295133927583,
          4.046497567986406,
          4.807705006110501,
          4.516866239784254,
          3.8054485116255643,
          0.5241527869765696,
          4.889507084017895,
          3.227582601499046,
          -4.445280520226925,
          -1.5805355985633263,
          1.8176003702832924,
          -9.353286600363761,
          1.6882333962154599,
          0.27280659699458937,
          -1.126421085409522,
          -1.1477863546687401,
          5.45440736176259,
          -5.368246795086119,
          -1.4942716345177123,
          -4.205896807575877,
          3.7235948392340887,
          5.230253772294117,
          5.398999372706779,
          2.925170048178914
         ]
        }
       ],
       "layout": {
        "template": {
         "data": {
          "bar": [
           {
            "error_x": {
             "color": "#2a3f5f"
            },
            "error_y": {
             "color": "#2a3f5f"
            },
            "marker": {
             "line": {
              "color": "#E5ECF6",
              "width": 0.5
             }
            },
            "type": "bar"
           }
          ],
          "barpolar": [
           {
            "marker": {
             "line": {
              "color": "#E5ECF6",
              "width": 0.5
             }
            },
            "type": "barpolar"
           }
          ],
          "carpet": [
           {
            "aaxis": {
             "endlinecolor": "#2a3f5f",
             "gridcolor": "white",
             "linecolor": "white",
             "minorgridcolor": "white",
             "startlinecolor": "#2a3f5f"
            },
            "baxis": {
             "endlinecolor": "#2a3f5f",
             "gridcolor": "white",
             "linecolor": "white",
             "minorgridcolor": "white",
             "startlinecolor": "#2a3f5f"
            },
            "type": "carpet"
           }
          ],
          "choropleth": [
           {
            "colorbar": {
             "outlinewidth": 0,
             "ticks": ""
            },
            "type": "choropleth"
           }
          ],
          "contour": [
           {
            "colorbar": {
             "outlinewidth": 0,
             "ticks": ""
            },
            "colorscale": [
             [
              0,
              "#0d0887"
             ],
             [
              0.1111111111111111,
              "#46039f"
             ],
             [
              0.2222222222222222,
              "#7201a8"
             ],
             [
              0.3333333333333333,
              "#9c179e"
             ],
             [
              0.4444444444444444,
              "#bd3786"
             ],
             [
              0.5555555555555556,
              "#d8576b"
             ],
             [
              0.6666666666666666,
              "#ed7953"
             ],
             [
              0.7777777777777778,
              "#fb9f3a"
             ],
             [
              0.8888888888888888,
              "#fdca26"
             ],
             [
              1,
              "#f0f921"
             ]
            ],
            "type": "contour"
           }
          ],
          "contourcarpet": [
           {
            "colorbar": {
             "outlinewidth": 0,
             "ticks": ""
            },
            "type": "contourcarpet"
           }
          ],
          "heatmap": [
           {
            "colorbar": {
             "outlinewidth": 0,
             "ticks": ""
            },
            "colorscale": [
             [
              0,
              "#0d0887"
             ],
             [
              0.1111111111111111,
              "#46039f"
             ],
             [
              0.2222222222222222,
              "#7201a8"
             ],
             [
              0.3333333333333333,
              "#9c179e"
             ],
             [
              0.4444444444444444,
              "#bd3786"
             ],
             [
              0.5555555555555556,
              "#d8576b"
             ],
             [
              0.6666666666666666,
              "#ed7953"
             ],
             [
              0.7777777777777778,
              "#fb9f3a"
             ],
             [
              0.8888888888888888,
              "#fdca26"
             ],
             [
              1,
              "#f0f921"
             ]
            ],
            "type": "heatmap"
           }
          ],
          "heatmapgl": [
           {
            "colorbar": {
             "outlinewidth": 0,
             "ticks": ""
            },
            "colorscale": [
             [
              0,
              "#0d0887"
             ],
             [
              0.1111111111111111,
              "#46039f"
             ],
             [
              0.2222222222222222,
              "#7201a8"
             ],
             [
              0.3333333333333333,
              "#9c179e"
             ],
             [
              0.4444444444444444,
              "#bd3786"
             ],
             [
              0.5555555555555556,
              "#d8576b"
             ],
             [
              0.6666666666666666,
              "#ed7953"
             ],
             [
              0.7777777777777778,
              "#fb9f3a"
             ],
             [
              0.8888888888888888,
              "#fdca26"
             ],
             [
              1,
              "#f0f921"
             ]
            ],
            "type": "heatmapgl"
           }
          ],
          "histogram": [
           {
            "marker": {
             "colorbar": {
              "outlinewidth": 0,
              "ticks": ""
             }
            },
            "type": "histogram"
           }
          ],
          "histogram2d": [
           {
            "colorbar": {
             "outlinewidth": 0,
             "ticks": ""
            },
            "colorscale": [
             [
              0,
              "#0d0887"
             ],
             [
              0.1111111111111111,
              "#46039f"
             ],
             [
              0.2222222222222222,
              "#7201a8"
             ],
             [
              0.3333333333333333,
              "#9c179e"
             ],
             [
              0.4444444444444444,
              "#bd3786"
             ],
             [
              0.5555555555555556,
              "#d8576b"
             ],
             [
              0.6666666666666666,
              "#ed7953"
             ],
             [
              0.7777777777777778,
              "#fb9f3a"
             ],
             [
              0.8888888888888888,
              "#fdca26"
             ],
             [
              1,
              "#f0f921"
             ]
            ],
            "type": "histogram2d"
           }
          ],
          "histogram2dcontour": [
           {
            "colorbar": {
             "outlinewidth": 0,
             "ticks": ""
            },
            "colorscale": [
             [
              0,
              "#0d0887"
             ],
             [
              0.1111111111111111,
              "#46039f"
             ],
             [
              0.2222222222222222,
              "#7201a8"
             ],
             [
              0.3333333333333333,
              "#9c179e"
             ],
             [
              0.4444444444444444,
              "#bd3786"
             ],
             [
              0.5555555555555556,
              "#d8576b"
             ],
             [
              0.6666666666666666,
              "#ed7953"
             ],
             [
              0.7777777777777778,
              "#fb9f3a"
             ],
             [
              0.8888888888888888,
              "#fdca26"
             ],
             [
              1,
              "#f0f921"
             ]
            ],
            "type": "histogram2dcontour"
           }
          ],
          "mesh3d": [
           {
            "colorbar": {
             "outlinewidth": 0,
             "ticks": ""
            },
            "type": "mesh3d"
           }
          ],
          "parcoords": [
           {
            "line": {
             "colorbar": {
              "outlinewidth": 0,
              "ticks": ""
             }
            },
            "type": "parcoords"
           }
          ],
          "pie": [
           {
            "automargin": true,
            "type": "pie"
           }
          ],
          "scatter": [
           {
            "marker": {
             "colorbar": {
              "outlinewidth": 0,
              "ticks": ""
             }
            },
            "type": "scatter"
           }
          ],
          "scatter3d": [
           {
            "line": {
             "colorbar": {
              "outlinewidth": 0,
              "ticks": ""
             }
            },
            "marker": {
             "colorbar": {
              "outlinewidth": 0,
              "ticks": ""
             }
            },
            "type": "scatter3d"
           }
          ],
          "scattercarpet": [
           {
            "marker": {
             "colorbar": {
              "outlinewidth": 0,
              "ticks": ""
             }
            },
            "type": "scattercarpet"
           }
          ],
          "scattergeo": [
           {
            "marker": {
             "colorbar": {
              "outlinewidth": 0,
              "ticks": ""
             }
            },
            "type": "scattergeo"
           }
          ],
          "scattergl": [
           {
            "marker": {
             "colorbar": {
              "outlinewidth": 0,
              "ticks": ""
             }
            },
            "type": "scattergl"
           }
          ],
          "scattermapbox": [
           {
            "marker": {
             "colorbar": {
              "outlinewidth": 0,
              "ticks": ""
             }
            },
            "type": "scattermapbox"
           }
          ],
          "scatterpolar": [
           {
            "marker": {
             "colorbar": {
              "outlinewidth": 0,
              "ticks": ""
             }
            },
            "type": "scatterpolar"
           }
          ],
          "scatterpolargl": [
           {
            "marker": {
             "colorbar": {
              "outlinewidth": 0,
              "ticks": ""
             }
            },
            "type": "scatterpolargl"
           }
          ],
          "scatterternary": [
           {
            "marker": {
             "colorbar": {
              "outlinewidth": 0,
              "ticks": ""
             }
            },
            "type": "scatterternary"
           }
          ],
          "surface": [
           {
            "colorbar": {
             "outlinewidth": 0,
             "ticks": ""
            },
            "colorscale": [
             [
              0,
              "#0d0887"
             ],
             [
              0.1111111111111111,
              "#46039f"
             ],
             [
              0.2222222222222222,
              "#7201a8"
             ],
             [
              0.3333333333333333,
              "#9c179e"
             ],
             [
              0.4444444444444444,
              "#bd3786"
             ],
             [
              0.5555555555555556,
              "#d8576b"
             ],
             [
              0.6666666666666666,
              "#ed7953"
             ],
             [
              0.7777777777777778,
              "#fb9f3a"
             ],
             [
              0.8888888888888888,
              "#fdca26"
             ],
             [
              1,
              "#f0f921"
             ]
            ],
            "type": "surface"
           }
          ],
          "table": [
           {
            "cells": {
             "fill": {
              "color": "#EBF0F8"
             },
             "line": {
              "color": "white"
             }
            },
            "header": {
             "fill": {
              "color": "#C8D4E3"
             },
             "line": {
              "color": "white"
             }
            },
            "type": "table"
           }
          ]
         },
         "layout": {
          "annotationdefaults": {
           "arrowcolor": "#2a3f5f",
           "arrowhead": 0,
           "arrowwidth": 1
          },
          "coloraxis": {
           "colorbar": {
            "outlinewidth": 0,
            "ticks": ""
           }
          },
          "colorscale": {
           "diverging": [
            [
             0,
             "#8e0152"
            ],
            [
             0.1,
             "#c51b7d"
            ],
            [
             0.2,
             "#de77ae"
            ],
            [
             0.3,
             "#f1b6da"
            ],
            [
             0.4,
             "#fde0ef"
            ],
            [
             0.5,
             "#f7f7f7"
            ],
            [
             0.6,
             "#e6f5d0"
            ],
            [
             0.7,
             "#b8e186"
            ],
            [
             0.8,
             "#7fbc41"
            ],
            [
             0.9,
             "#4d9221"
            ],
            [
             1,
             "#276419"
            ]
           ],
           "sequential": [
            [
             0,
             "#0d0887"
            ],
            [
             0.1111111111111111,
             "#46039f"
            ],
            [
             0.2222222222222222,
             "#7201a8"
            ],
            [
             0.3333333333333333,
             "#9c179e"
            ],
            [
             0.4444444444444444,
             "#bd3786"
            ],
            [
             0.5555555555555556,
             "#d8576b"
            ],
            [
             0.6666666666666666,
             "#ed7953"
            ],
            [
             0.7777777777777778,
             "#fb9f3a"
            ],
            [
             0.8888888888888888,
             "#fdca26"
            ],
            [
             1,
             "#f0f921"
            ]
           ],
           "sequentialminus": [
            [
             0,
             "#0d0887"
            ],
            [
             0.1111111111111111,
             "#46039f"
            ],
            [
             0.2222222222222222,
             "#7201a8"
            ],
            [
             0.3333333333333333,
             "#9c179e"
            ],
            [
             0.4444444444444444,
             "#bd3786"
            ],
            [
             0.5555555555555556,
             "#d8576b"
            ],
            [
             0.6666666666666666,
             "#ed7953"
            ],
            [
             0.7777777777777778,
             "#fb9f3a"
            ],
            [
             0.8888888888888888,
             "#fdca26"
            ],
            [
             1,
             "#f0f921"
            ]
           ]
          },
          "colorway": [
           "#636efa",
           "#EF553B",
           "#00cc96",
           "#ab63fa",
           "#FFA15A",
           "#19d3f3",
           "#FF6692",
           "#B6E880",
           "#FF97FF",
           "#FECB52"
          ],
          "font": {
           "color": "#2a3f5f"
          },
          "geo": {
           "bgcolor": "white",
           "lakecolor": "white",
           "landcolor": "#E5ECF6",
           "showlakes": true,
           "showland": true,
           "subunitcolor": "white"
          },
          "hoverlabel": {
           "align": "left"
          },
          "hovermode": "closest",
          "mapbox": {
           "style": "light"
          },
          "paper_bgcolor": "white",
          "plot_bgcolor": "#E5ECF6",
          "polar": {
           "angularaxis": {
            "gridcolor": "white",
            "linecolor": "white",
            "ticks": ""
           },
           "bgcolor": "#E5ECF6",
           "radialaxis": {
            "gridcolor": "white",
            "linecolor": "white",
            "ticks": ""
           }
          },
          "scene": {
           "xaxis": {
            "backgroundcolor": "#E5ECF6",
            "gridcolor": "white",
            "gridwidth": 2,
            "linecolor": "white",
            "showbackground": true,
            "ticks": "",
            "zerolinecolor": "white"
           },
           "yaxis": {
            "backgroundcolor": "#E5ECF6",
            "gridcolor": "white",
            "gridwidth": 2,
            "linecolor": "white",
            "showbackground": true,
            "ticks": "",
            "zerolinecolor": "white"
           },
           "zaxis": {
            "backgroundcolor": "#E5ECF6",
            "gridcolor": "white",
            "gridwidth": 2,
            "linecolor": "white",
            "showbackground": true,
            "ticks": "",
            "zerolinecolor": "white"
           }
          },
          "shapedefaults": {
           "line": {
            "color": "#2a3f5f"
           }
          },
          "ternary": {
           "aaxis": {
            "gridcolor": "white",
            "linecolor": "white",
            "ticks": ""
           },
           "baxis": {
            "gridcolor": "white",
            "linecolor": "white",
            "ticks": ""
           },
           "bgcolor": "#E5ECF6",
           "caxis": {
            "gridcolor": "white",
            "linecolor": "white",
            "ticks": ""
           }
          },
          "title": {
           "x": 0.05
          },
          "xaxis": {
           "automargin": true,
           "gridcolor": "white",
           "linecolor": "white",
           "ticks": "",
           "title": {
            "standoff": 15
           },
           "zerolinecolor": "white",
           "zerolinewidth": 2
          },
          "yaxis": {
           "automargin": true,
           "gridcolor": "white",
           "linecolor": "white",
           "ticks": "",
           "title": {
            "standoff": 15
           },
           "zerolinecolor": "white",
           "zerolinewidth": 2
          }
         }
        }
       }
      },
      "text/html": [
       "<div>\n",
       "        \n",
       "        \n",
       "            <div id=\"c2bf2d5f-d957-4dad-b60b-ab665160943e\" class=\"plotly-graph-div\" style=\"height:525px; width:100%;\"></div>\n",
       "            <script type=\"text/javascript\">\n",
       "                require([\"plotly\"], function(Plotly) {\n",
       "                    window.PLOTLYENV=window.PLOTLYENV || {};\n",
       "                    \n",
       "                if (document.getElementById(\"c2bf2d5f-d957-4dad-b60b-ab665160943e\")) {\n",
       "                    Plotly.newPlot(\n",
       "                        'c2bf2d5f-d957-4dad-b60b-ab665160943e',\n",
       "                        [{\"marker\": {\"opacity\": 0.5, \"size\": 5, \"symbol\": \"circle\"}, \"mode\": \"markers+text\", \"text\": [\"Black Panther / T'chal\", \"Loki [asgardian]\", \"Mantis / ? Brandt\", \"Iceman / Robert Bobby\", \"Marvel Girl / Jean Grey\", \"Cyclops / Scott Summer\", \"Klaw / Ulysses Klaw\", \"Human Torch / Johnny S\", \"Richards, Franklin B\", \"Wolverine / Logan\", \"Firebird / Bonita Juar\", \"Mr. Fantastic / Reed R\", \"Medusa / Medusalith Am\", \"Dr. Strange / Stephen\", \"Jack Of Hearts / Jack\", \"Mephisto\", \"Thanos\", \"Swordsman / Jacques Du\", \"Collector / Taneleer T\", \"Lockjaw [inhuman]\", \"Sub-mariner / Namor Ma\", \"Pharaoh Rama-tut\", \"Ant-man Ii / Scott Har\", \"Lyja Lazerfist [skru\", \"Gorgon [inhuman]\", \"Nighthawk Ii / Kyle Ri\", \"Cage, Luke / Carl Luca\", \"Colossus Ii / Peter Ra\", \"Hellcat / Patsy Walker\", \"Karnak [inhuman]\", \"Death\", \"Redwing\", \"Daredevil / Matt Murdo\", \"Norriss, Sister Barb\", \"Rage / Elvin Daryl Hal\", \"Starfox / Eros\", \"Demolition Man / Denni\", \"Sersi / Sylvia\", \"Spider-man / Peter Parker\", \"Vision\", \"Uatu\", \"Binary / Carol Danvers\", \"Gyrich, Henry Peter\", \"Nightcrawler / Kurt Wa\", \"Angel / Warren Kenneth\", \"Silver Surfer / Norrin\", \"She-hulk / Jennifer Wa\", \"Ghaur [deviant]\", \"Dr. Doom / Victor Von\", \"Storm / Ororo Munroe S\", \"Scarlet Witch / Wanda\", \"Toad / Mortimer Toynbe\", \"Hulk / Dr. Robert Bruce Banner\", \"Firestar / Angelica Jo\", \"Wonder Man / Simon Wil\", \"Drax / Arthur Douglas\", \"Dugan, Timothy Aloyi\", \"Carter, Sharon\", \"Black Knight V / Dane\", \"Sunfire / Shiro Yoshid\", \"Triton\", \"Ultron\", \"Jones, Richard Milho\", \"Iron Man / Tony Stark\", \"Nelson, Franklin Fog\", \"Captain America\", \"Jarvis, Edwin\", \"Quasar Iii / Wendell V\", \"Jameson, J. Jonah\", \"Masters, Alicia Reis\", \"Magneto / Magnus / Eric\", \"Invisible Woman / Sue\", \"Professor X / Charles\", \"Iron Fist / Daniel Ran\", \"Black Bolt / Blackanto\", \"Hawk\", \"Sandman / William Bake\", \"Falcon / Sam Wilson\", \"Stingray / Dr. Walter\", \"Justice Ii / Vance Ast\", \"Hercules [greek God]\", \"Usagent / Captain John\", \"Captain Marvel Ii / Mo\", \"Crystal [inhuman]\", \"Tigra / Greer Nelson\", \"Spider-woman Ii / Juli\", \"Machine Man / X-51\", \"Mockingbird / Dr. Barb\", \"Captain Marvel / Capta\", \"Wasp / Janet Van Dyne\", \"Fury, Col. Nicholas\", \"Thor / Dr. Donald Blak\", \"Quicksilver / Pietro M\", \"Captain Britain / Bria\", \"Shadowcat / Katherine\", \"Black Widow / Natasha\", \"Ant-man / Dr. Henry J.\", \"Moon Knight / Marc Spe\", \"Jocasta\", \"Moondragon / Heather D\", \"Thing / Benjamin J. Gr\", \"Beast / Henry &hank& P\", \"Nova / Richard Rider\", \"Wrecker Iii / Dirk Gar\", \"Warlock Ii / Adam Warl\", \"Piledriver Ii / Brian\", \"Thunderball / Dr. Elio\", \"Dr. Octopus / Otto Oct\", \"Banner, Betty Ross T\", \"Avalanche / Dominic Pe\", \"Attuma\", \"Hela [asgardian]\", \"Doc Samson / Dr. Leona\", \"Guardian / James Macdo\", \"Northstar / Jean-paul\", \"Dr. Druid / Anthony Lu\", \"Watson-parker, Mary\", \"Mystique / Raven Darkh\", \"Pyro / Allerdyce Johnn\", \"Destiny Ii / Irene Adl\", \"Mister Hyde / Calvin Z\", \"Ghost Rider Ii / Johnn\", \"Mole Man / Harvey Rupe\", \"Firelord / Pyreus Kril\", \"Leader / Sam Sterns\", \"Le Fey, Morgan\", \"Bulldozer / Henry Camp\", \"Forgotten One / Gilgam\", \"Balder [asgardian]\", \"Hogun [asgardian]\", \"Hellstorm / Daimon Hel\", \"Aurora / Jeanne-marie\", \"O'brien, Michael\", \"Stankowicz, Fabian\", \"Screaming Mimi / Melis\", \"Moonstone Ii / Karla S\", \"Fixer Ii / Paul Norber\", \"Darkstar / Laynia Serg\", \"Vanguard / Nicolai Kry\", \"Gamora\", \"Psylocke / Elisabeth B\", \"Rogue  / \", \"Sasquatch / Walter Lan\", \"Luna / Luna Maximoff [\", \"Whizzer Ii / Stanley S\", \"Dr. Spectrum / Joseph\", \"Kingpin / Wilson Fisk\", \"Clea\", \"Polaris / Lorna Dane\", \"De La Fontaine, Cont\", \"Heimdall [asgardian]\", \"Red Skull / Johann Sch\", \"Thompson, Eugene Fla\", \"Wong\", \"Parker, May\", \"Green Goblin / Norman\", \"Night Thrasher / Duane\", \"Eternity / Adam Qadmon\", \"Galactus / Galan\", \"Triathlon / Delroy Gar\", \"Beetle / Abner Ronald\", \"Lilandra Neramani [s\", \"Odin [asgardian]\", \"Hogan, Virginia Pepp\", \"Mad Dog / Colonel Buzz\", \"Kincaid, Dr. Jane Fo\", \"Wizard / Bentley Wittm\", \"Charcoal / Charlie Bur\", \"Blob / Fred J. Dukes\", \"Cloak / Tyrone Johnson\", \"Thunderstrike / Eric K\", \"Power Man / Erik Joste\", \"Human Torch Android / \", \"Juggernaut / Cain Mark\", \"Absorbing Man / Carl C\", \"Volstagg\", \"Shaman / Michael Twoyo\", \"Snowbird / Narya / Anne\", \"Dagger / Tandy Bowen\", \"Phoenix Iii / Rachel S\", \"Mandarin\", \"Fandral [asgardian]\", \"Ms. Marvel Ii / Sharon\", \"Pip / Prince Gofern\", \"Enchantress / Amora / He\", \"Jameson, Col. John\", \"Cooper, Dr. Valerie\", \"Nova Ii / Frankie Raye\", \"Darkhawk / Chris Powel\", \"Nomad Iii / Jack Monro\", \"Robertson, Joe\", \"Gargoyle Ii / Isaac Ch\", \"Namorita / Nita Prenti\", \"Iron Man Iv / James R.\", \"Ross, Gen. Thaddeus\", \"Harkness, Agatha\", \"Carter, Peggy\", \"Hyperion\", \"Living Lightning / Mig\", \"Jones, Gabe\", \"Osborn, Liz Allan\", \"Leeds, Betty Brant\", \"Sif\", \"Dazzler Ii / Allison B\", \"Molecule Man / Owen Re\", \"Speedball / Robbie Bal\", \"Lizard / Dr. Curtis Co\", \"Volcana / Marsha Rosen\", \"Lockheed\", \"Titania Ii / Mary Skee\", \"Boomer / Tabitha Smith\", \"Summers, Nathan Chri\", \"Summers, Madelyne Ma\", \"Mactaggert, Moira Ki\", \"Cannonball Ii / Sam Gu\", \"Tilby, Trish / Patrici\", \"Skids / Sally Blevins\", \"Wolfsbane / Rahne Sinc\", \"Leech\", \"Mirage Ii / Danielle M\", \"Gambit / Remy Lebeau\", \"Jubilee / Jubilation L\", \"Strong Guy / Guido Car\", \"Spiral\", \"Banshee / Sean Cassidy\", \"Legion Ii / David Hall\", \"Havok / Alex Summers\", \"Longshot\", \"Forge\", \"Sabretooth / Victor Cr\", \"Maddicks, Arthur Art\", \"Warlock Iii\", \"Rictor / Julio Esteban\", \"Sunspot / Roberto Daco\", \"Firefist / Rusty Colli\", \"Bishop  / \", \"Daytripper / Amanda Se\", \"Wild Child / Kyle Gibn\", \"Thunderbird Ii / James\", \"Sauron / Dr. Karl Lyko\", \"Siryn / Theresa Rourke\", \"Shatterstar Ii / Gavee\", \"Marrow / Sarah\", \"Feral / Maria Callasan\", \"Callisto\", \"Mr. Sinister / Nathan\", \"Raza Longknife\", \"Spider-woman / Jessica\", \"Cypher / Doug Ramsey\", \"Deathbird [shi'ar]\", \"Hudson, Heather\", \"Stryfe\", \"Iron Man Doppelgange\", \"Puck / Eugene Milton J\", \"Silhouette\", \"Cortez, Fabian\", \"Black King / Sebastian\", \"Magik / Illyana Rasput\", \"Zabu\", \"Domino Iii / Beatrice / \", \"Caliban / \", \"Apocalypse / En Sabah\", \"Hunter, Stevie\", \"Corsair\", \"Ch'od\", \"Mam'selle Hepzibah\", \"Zero\", \"X-man / Nathan Grey\", \"Karma / Xi'an Coy Manh\", \"Mr. Fantastic Doppel\", \"Beyonder\", \"Multiple Man / James A\", \"Colossus Ii Doppelga\", \"Scanner Ii\", \"Ka-zar / Kevin Plunder\", \"White Queen / Emma Fro\", \"Magma / Amara Aquilla / \", \"Thanos Doppelganger\", \"Magus\", \"Knight, Misty\", \"Wing, Colleen\", \"Puppet Master / Philli\", \"Maximus [inhuman]\", \"Punisher Ii / Frank Ca\", \"Zeus\", \"Box Iv / Madison Jeffr\", \"Thena\", \"Black Cat / Felicia Ha\", \"Gee / Alex Power\", \"Spider-man Clone / Ben\", \"Ulik\", \"Citizen V Ii / Helmut\", \"High Evolutionary / He\", \"Hobgoblin V / Jason Ph\", \"Ghost Rider Iii / Dan\", \"Cushing, Kate\", \"Katzenberg, Nick\", \"Vizier\", \"Tombstone / Lonnie Tho\", \"Mercado, Joy\", \"Hammerhead\", \"Arranger / \", \"Osborn, Harry\", \"Cobra / Klaus Vorhees\", \"Leeds, Ned\", \"Watson, Anna\", \"Urich, Ben\", \"Robertson, Randy\", \"Page, Karen\", \"Grant, Gloria Glory\", \"Lubenski, Nate\", \"Ikaris / Ike Harris [e\", \"Rosenthal, Bernie\", \"Gladiator Ii\", \"Beta Ray Bill\", \"Bridge, George Washi\", \"Diamond Lil / Lillian\", \"Asp Ii / Cleo\", \"Black Mamba / Tanya Se\", \"Meggan\", \"Austin, Susan\", \"Diamondback Ii / Rache\", \"Makkari / Mike Khary / I\", \"Hodge, Cameron\", \"Skin / Angelo Espinosa\", \"Husk / Paige Guthrie\", \"Deadpool / Jack / Wade W\"], \"textfont\": {\"color\": \"#000000\", \"family\": \"sans serif\", \"size\": 10}, \"textposition\": \"bottom center\", \"type\": \"scatter\", \"x\": [-0.07697825210978003, 0.05513939168913884, -0.08057485642454787, -5.857321531898152, -7.011483431203748, -7.55595529524834, 0.10823134157210208, 1.0725570806470506, -0.17073634937279256, -7.357797219123352, -0.132092631914491, 0.8284330555036791, 0.2046593511323836, -0.005835938667055165, -0.028281716164920322, 0.1885246026876989, -0.9154540002668884, -0.07648418000954185, -0.15478700602616358, -0.09062058580600868, 0.09507438279305448, -0.4118806253069116, 0.08123388300602051, 0.2125482488689703, 0.12420650688332652, 0.13013246830263775, 0.606046112441295, -7.480813675420521, -0.08443059435226254, 0.1142285520100409, -0.1475118850779318, 0.29627467252875894, 6.402847102105312, -0.22024690801875324, 0.06750551802450425, -0.08539625868911285, 0.036995482991511244, -0.08084978530511788, 29.201122898741573, -0.7509734949033042, -0.4220846782645298, -1.3397556037341718, -0.8354930143590261, -7.15967192838529, -6.138074924201932, -0.22105112220739986, -0.4381590073622838, -0.13721199036994325, 0.19357456440335438, -7.951365573479328, -0.9942533382065626, -1.7687889277697044, 0.10036637680127533, -0.10118093702627697, -0.9667042065099197, -0.9713551425815271, 0.4974835771498643, 0.25092311632769626, -0.7780596208932037, -1.6052595777587357, 0.13632033882797942, 0.020664446373391654, -0.10682835336965034, 0.27034273404815157, 6.666561459501326, 0.43573050168236627, 0.5329086969580915, -0.578679552513423, 27.347520015112263, 0.30439450917986777, -4.287745381320642, 0.5154006165750566, -7.347655694689537, 0.12017051517552269, 0.10756099498894345, -0.3641946797456986, 3.1969477582245895, 0.3586645447849181, -0.21620304637448876, 0.5256143567558701, -1.0025620738587193, -0.6648063733719205, -0.09725769126161435, -0.5116987632079345, -0.3037432140458511, -0.4789241332683243, -0.13636876785542046, -0.1903901615030001, -0.014288026669188481, -0.07088085524438195, 0.13962140176475313, 0.12826851249903976, -1.6336016234120496, -3.5803956304164046, -6.869264376224516, 0.6330776848556158, -0.2632442854526131, 0.7136185425122211, -0.21906969090038425, -1.0920785406045725, 0.5377525526262197, -5.684063200671137, -0.44061264352396196, 0.15296422383007605, -0.959073899964925, 0.1714340371924738, 0.4968644089220634, 7.389958899381013, 0.2027369329665697, -2.9386190289300695, -0.34656024389191514, -0.8464800061195823, 0.06701776288246741, -1.5237915237444213, -2.1115081820472428, -0.8006046687478584, 28.480929090288186, -4.213455065914963, -3.26577648467749, -2.7453555057311294, 0.9915562218880567, 0.5991096611846529, -0.1063587601720474, 0.015364371751308208, 0.1852917249402015, -0.03346587779449485, 0.1702466729223633, -0.0649499765411452, -0.20615393413767183, -0.31472481913111855, 0.05314418646381276, -1.954756216172096, 0.6730707766568864, 0.776177517044701, 0.2674048743627629, 0.2874993545792186, 0.3185480722910887, -0.17430447911791236, 0.00932664027426087, -1.1008881713333736, -5.457752554336059, -6.420740338972809, -2.204237768413349, -0.09241203176221308, -0.23008669818277938, -0.23111496071402632, 12.449053560404643, 0.16270513158849148, -4.957576037436566, 0.16783857644302597, -0.19798971540283947, 0.5928230554521077, 21.498263544625313, 0.39141321530682144, 24.62321404260442, 12.127595295653592, 0.33198173344948434, -0.6470012053970317, -0.6098520993037972, -0.11473958265570651, 0.953107508180946, -3.6083461354511632, -0.18474325543125747, 0.01793600177107393, -0.24843942879759717, -0.09769060675641536, 1.0070974711116911, 0.04722008756418382, -3.628815118126203, 2.471677385088924, -0.8469184169913037, 0.29727057660367456, -0.07466628719486272, -1.9963408450885407, 0.10993204571936843, -0.3275610897517734, -1.9381143036961024, -1.335499689344855, 2.431295218796716, -3.8866408055096704, 0.13611547472684282, -0.3238969193182852, 0.1824150241724687, -0.9093917731912659, -0.054087827615740124, 8.071422357828114, -3.192968674244444, -0.7967365138510694, -0.2965614264838578, 0.3431741799760278, 24.873603163987475, -0.3801641003507237, -0.506190609717125, -0.09313282243977719, 0.31222645454450965, -0.593111540494898, 0.8762319672407285, -0.2353749046659128, -0.9735620160175842, 0.04154661292763119, 16.934787731062677, 22.45272909061773, -0.2547198765116186, -3.168405835609648, 0.009476072753285313, -0.5253634760596128, 4.650826516931487, -0.016894960690753642, -3.8830753218314973, 0.4166088071991678, -7.074063633294343, -6.272691475121748, -3.096986322838726, -5.942678387608841, -8.520137227145481, -2.7534750775336625, -3.8592417136397112, -7.0330243536151595, -3.5198394328059406, -6.521808535694737, -5.172902660621062, -5.41601875943106, -3.10273968443507, -2.3018596823175037, -5.767636398764122, -2.149724936046906, -5.313549041733459, -2.863678560808865, -4.1407764954626085, -2.8195337014723267, -3.7426903966717835, -5.194298378479611, -5.303081243910591, -7.577187085064975, -3.814775481104143, -4.084707617693171, -2.694316335482436, -1.833189232813833, -5.848699462429599, -1.8956514764975385, -5.28531236707045, -4.371221587965804, -3.1161354763838016, -3.3140873463730167, -2.3989212307915913, -2.1789385734194107, -2.7233536203491706, -0.09646675399900062, -5.008075831793392, -2.1013431711381516, -2.4762708912406417, -2.722325240167828, -0.8561286466653637, -2.118918268787111, -0.3179158734546002, -1.1827123884846484, -3.051598076813935, -5.395002875733952, 0.03869296178465366, -4.070470644341248, -4.005682488959743, -3.4453297620261565, -2.9096637162296703, -3.185845353556395, -2.7620698188226642, -2.757805701237375, -2.3200638688876554, -1.3667485491293527, -3.750269081714487, -0.8913090105867019, -1.0028481339427484, -3.145795775095453, -0.806088734311036, -0.9669339665310464, -0.12781594066699312, -4.723975258892365, -4.330188610562375, -1.0730098530500256, -1.2793521002244634, -0.389666844803988, -0.41105923955568335, 0.07846305131736388, 0.033897391244633576, 7.357826282707637, -0.11722326915868876, -1.4893027230196316, -0.09495391399561616, 11.416645382393744, 0.9831992275414739, 10.934894241022754, -0.06742711145730443, 0.5906303524623034, -0.3225533301466386, 9.755940943012842, 1.144457237660038, 13.078187817878796, 10.093343574575144, -0.07608921204056707, 8.237354469180376, 11.797664299189375, 8.03205849711592, 9.750729466516878, 19.274061305108937, 1.0439685196074644, 13.11581544628857, 15.74795727942431, 15.484739906914141, 12.149426966331374, 4.786929311494678, 15.664515497130798, 10.414531366875735, -0.10044813866984313, 0.5458618994248068, -1.5418670668617251, -0.10073197993442971, -1.475841566796017, -1.1847405614900643, 1.0352715905272705, 1.0541555681098753, -4.023469849262069, -0.1209866536311102, 1.5019983066355234, -0.16075480288728225, -2.8385143406580515, -3.5641728241198467, -3.668781539115446, -2.048448434866321], \"y\": [-3.617640787434163, -18.213575056040607, -2.2374521783873056, 6.492383383535199, 8.187535046777388, 8.834032359462121, -0.9949367746503972, -3.097594527435662, -1.2850623259202598, 8.776273740625276, -1.7209367935005024, -3.341660850427054, -2.80197257663982, -2.849351996430028, -1.3440609209488248, -4.769985550796882, -0.8501177622406144, -2.2803999586619357, -1.2706410809639883, -2.456611690114931, -3.7180062020009577, -1.8135190585858934, -2.0380865365142804, -1.4165864073299455, -2.792306502962387, -1.915968342191425, -1.3117385540961937, 8.845989708074264, -2.3471902879911424, -2.755882144013976, -0.9567320913944868, -1.7173547502037103, -0.2850655437870995, -2.355513539527043, -1.5789779856469117, -3.2994639397505314, -1.35832641847923, -4.361057930297153, 7.5753101876240265, -5.8631942561202655, -1.0862085990705115, -0.5722354507716791, -0.7379814559754395, 9.03704927531023, 6.767490761391576, -2.9681176356795143, -3.48029651763594, -1.670030643570158, -1.7770796837157234, 9.468060241970038, -5.745642807915986, 1.810701455561441, -3.452427738196577, -1.1801303439780342, -4.064470639133112, -0.7012804461615176, -1.7855382099647803, -1.9572159074044277, -3.513811847717592, 1.426751204504968, -2.6045364066336854, -1.622344984567312, -2.950701145016371, -6.99029937934001, 0.84235673432462, -6.868617670683194, -5.300145233862525, -2.6055581958747185, 8.037277003859947, -1.6802978814376206, 4.982247318480474, -3.2253389136854396, 8.624831976550126, -0.9782460825967031, -2.7933803988176096, -5.798254803911529, -0.6894155560508528, -2.884446332662036, -1.3026944766711974, -1.7273803570527935, -5.430705006956821, -1.9840106737911332, -3.8679533823721948, -3.1964777843844008, -2.827159587290699, -1.3720635951547024, -1.0827230042408063, -2.8674353023443726, -1.9255856930635775, -5.471490911425538, -2.0055622025057867, -19.27281976944833, -2.447256782985457, 4.6546158796608665, 8.802100203434145, -2.972525755684085, -5.3790022699079065, -0.8111666129219417, -1.7775144279932764, -1.7729332174942645, -3.2003141157987254, 4.7254958924374915, -0.2521816045193203, -2.1500686448256103, -0.5644603227034515, -1.4750767866843981, -1.3832677284417993, 1.7881410831621192, -2.3654660465572164, 3.7514782200201067, -0.6157831025853007, -9.255482597746168, -1.7677657707794212, 0.8595056280933445, 0.9955995161054483, -1.085281147564396, 8.43632724266418, 5.379765265791412, 4.2018827672637125, 3.5471292020712273, -1.3684896977696248, -0.040429191654099986, -0.46523817484352564, -1.9532656380972184, -1.4198784610584032, -0.9566930133325127, -1.5282102504622177, -2.620775133390205, -23.76238008693817, -24.398560403481024, -1.275476785100982, 0.9531450742589005, -1.525218902831294, -1.4375822573147283, -2.021924726431082, -2.3070653114133184, -1.8774827857826204, -0.35424386728887475, -0.5980637630526555, 0.03880440232492137, 6.263672705967302, 7.364940444178083, 0.7010543105663598, -1.8132858846876487, -1.7462117991977937, -1.7585782293818477, 3.0169697488090814, -1.6449535139961544, 5.60745764699478, -0.9936966171103332, -19.29324319766926, -1.791386600969928, 6.544481899629975, -1.7332434718137195, 7.342824295397123, 3.6317610947286334, -0.6614098387308072, -0.40760630930484676, -1.3000631115745225, -1.5998828654287878, -1.8050711200250789, 4.237334918131695, -23.135945612271932, -1.7229787357352453, -0.7983209459825882, -12.116139733888568, -1.2246196077173306, -1.497723391374346, 4.568502478747282, 0.8059808793928593, -4.756996630622015, -2.433907572953199, -2.1787924227737836, 2.8229062845131763, -3.1563875555050016, -24.303428584025532, 0.5843520935302995, 0.6914018393702955, 0.7662800440451649, 5.177407657379727, -1.4370020883427792, -24.2876440236582, -1.0497721492475593, -0.2417209571682948, -9.994791054414126, 1.2134391892060843, 3.624757651160277, -0.34877047284002627, -0.1420323099487362, -1.5074208676556078, 7.408848408080167, -0.952619745275338, -0.7428136747220737, -1.8246134442006599, -2.2136950915203366, -1.0879337882906863, -1.977806563912765, -1.7973834989193558, -0.9445778837571018, -1.2452657138887662, 5.159987652912914, 6.8005935873719405, -23.06676404568397, 3.936658567323206, -0.5326215698059427, -0.28158990885332225, 1.062780972635674, -0.3199727699537364, 5.077425865062969, -0.8574699884499757, 9.617225240472916, 8.411027940881594, 4.022402278599459, 7.862558985510935, 11.430534517246066, 3.7104868297498395, 5.0778295530896935, 9.05666053017122, 4.862288332193764, 8.869901189933445, 6.191648098156903, 7.361045436721976, 2.821859640460289, 3.0160580449208045, 7.8121529858076855, 2.7849657293039987, 5.984733827055646, 3.606977735008426, 5.110154484712691, 3.6390116110615627, 5.120251594714133, 6.837187307367857, 7.0709642104281585, 10.275039454496708, 4.673619251991646, 5.143089639616315, 3.6139437512137973, 1.197327147662485, 8.189600859041814, 2.5235728416810614, 7.350387339337862, 6.075993703105204, 4.097111933587234, 4.563282950890141, 3.1552376221574154, 2.6963707792387144, 3.5216164930389335, 0.26099622451935617, 7.060019458838601, 2.6346188470871055, 0.9220298876667209, 3.58571495717303, 0.29639355265385364, 0.8330586766365314, -0.03773802851546131, 0.9598491403476369, 4.14036386166529, 7.554706741458907, 1.2262410920783233, 5.778281585942474, 5.4402144000595385, 4.302085052830011, 3.9246824633939656, 4.108270642634576, 3.5727091375285402, 3.564899647013485, 3.086457012223724, 2.1372496252760174, 5.281578947726725, 0.2759204800726303, 1.2216998911197716, 3.4186591956237513, 0.5378770429938181, 0.6108869667478924, 1.3558113241369012, 6.7185506590048165, 6.242111646967762, 0.2553679739784238, 0.2452091579178383, 0.3744471924090822, 0.08659556747634917, -0.42317538892506884, -1.8918589307098401, 1.936999275878014, -4.0004674743785005, 0.3960060313877173, -4.318919966935501, 3.438406348914178, -0.2677276997049501, 3.2180110630907715, -8.69838987736584, -1.7371088512360588, -4.839243442709269, 2.9625042301644955, 0.7263376421726179, 4.112832811209946, 3.178823954336105, -15.84121290601849, 2.5188208460168773, 3.7197144638127266, 2.4121543559183025, 3.006259138390619, 5.9537067752797945, -1.4942295133927583, 4.046497567986406, 4.807705006110501, 4.516866239784254, 3.8054485116255643, 0.5241527869765696, 4.889507084017895, 3.227582601499046, -4.445280520226925, -1.5805355985633263, 1.8176003702832924, -9.353286600363761, 1.6882333962154599, 0.27280659699458937, -1.126421085409522, -1.1477863546687401, 5.45440736176259, -5.368246795086119, -1.4942716345177123, -4.205896807575877, 3.7235948392340887, 5.230253772294117, 5.398999372706779, 2.925170048178914]}],\n",
       "                        {\"template\": {\"data\": {\"bar\": [{\"error_x\": {\"color\": \"#2a3f5f\"}, \"error_y\": {\"color\": \"#2a3f5f\"}, \"marker\": {\"line\": {\"color\": \"#E5ECF6\", \"width\": 0.5}}, \"type\": \"bar\"}], \"barpolar\": [{\"marker\": {\"line\": {\"color\": \"#E5ECF6\", \"width\": 0.5}}, \"type\": \"barpolar\"}], \"carpet\": [{\"aaxis\": {\"endlinecolor\": \"#2a3f5f\", \"gridcolor\": \"white\", \"linecolor\": \"white\", \"minorgridcolor\": \"white\", \"startlinecolor\": \"#2a3f5f\"}, \"baxis\": {\"endlinecolor\": \"#2a3f5f\", \"gridcolor\": \"white\", \"linecolor\": \"white\", \"minorgridcolor\": \"white\", \"startlinecolor\": \"#2a3f5f\"}, \"type\": \"carpet\"}], \"choropleth\": [{\"colorbar\": {\"outlinewidth\": 0, \"ticks\": \"\"}, \"type\": \"choropleth\"}], \"contour\": [{\"colorbar\": {\"outlinewidth\": 0, \"ticks\": \"\"}, \"colorscale\": [[0.0, \"#0d0887\"], [0.1111111111111111, \"#46039f\"], [0.2222222222222222, \"#7201a8\"], [0.3333333333333333, \"#9c179e\"], [0.4444444444444444, \"#bd3786\"], [0.5555555555555556, \"#d8576b\"], [0.6666666666666666, \"#ed7953\"], [0.7777777777777778, \"#fb9f3a\"], [0.8888888888888888, \"#fdca26\"], [1.0, \"#f0f921\"]], \"type\": \"contour\"}], \"contourcarpet\": [{\"colorbar\": {\"outlinewidth\": 0, \"ticks\": \"\"}, \"type\": \"contourcarpet\"}], \"heatmap\": [{\"colorbar\": {\"outlinewidth\": 0, \"ticks\": \"\"}, \"colorscale\": [[0.0, \"#0d0887\"], [0.1111111111111111, \"#46039f\"], [0.2222222222222222, \"#7201a8\"], [0.3333333333333333, \"#9c179e\"], [0.4444444444444444, \"#bd3786\"], [0.5555555555555556, \"#d8576b\"], [0.6666666666666666, \"#ed7953\"], [0.7777777777777778, \"#fb9f3a\"], [0.8888888888888888, \"#fdca26\"], [1.0, \"#f0f921\"]], \"type\": \"heatmap\"}], \"heatmapgl\": [{\"colorbar\": {\"outlinewidth\": 0, \"ticks\": \"\"}, \"colorscale\": [[0.0, \"#0d0887\"], [0.1111111111111111, \"#46039f\"], [0.2222222222222222, \"#7201a8\"], [0.3333333333333333, \"#9c179e\"], [0.4444444444444444, \"#bd3786\"], [0.5555555555555556, \"#d8576b\"], [0.6666666666666666, \"#ed7953\"], [0.7777777777777778, \"#fb9f3a\"], [0.8888888888888888, \"#fdca26\"], [1.0, \"#f0f921\"]], \"type\": \"heatmapgl\"}], \"histogram\": [{\"marker\": {\"colorbar\": {\"outlinewidth\": 0, \"ticks\": \"\"}}, \"type\": \"histogram\"}], \"histogram2d\": [{\"colorbar\": {\"outlinewidth\": 0, \"ticks\": \"\"}, \"colorscale\": [[0.0, \"#0d0887\"], [0.1111111111111111, \"#46039f\"], [0.2222222222222222, \"#7201a8\"], [0.3333333333333333, \"#9c179e\"], [0.4444444444444444, \"#bd3786\"], [0.5555555555555556, \"#d8576b\"], [0.6666666666666666, \"#ed7953\"], [0.7777777777777778, \"#fb9f3a\"], [0.8888888888888888, \"#fdca26\"], [1.0, \"#f0f921\"]], \"type\": \"histogram2d\"}], \"histogram2dcontour\": [{\"colorbar\": {\"outlinewidth\": 0, \"ticks\": \"\"}, \"colorscale\": [[0.0, \"#0d0887\"], [0.1111111111111111, \"#46039f\"], [0.2222222222222222, \"#7201a8\"], [0.3333333333333333, \"#9c179e\"], [0.4444444444444444, \"#bd3786\"], [0.5555555555555556, \"#d8576b\"], [0.6666666666666666, \"#ed7953\"], [0.7777777777777778, \"#fb9f3a\"], [0.8888888888888888, \"#fdca26\"], [1.0, \"#f0f921\"]], \"type\": \"histogram2dcontour\"}], \"mesh3d\": [{\"colorbar\": {\"outlinewidth\": 0, \"ticks\": \"\"}, \"type\": \"mesh3d\"}], \"parcoords\": [{\"line\": {\"colorbar\": {\"outlinewidth\": 0, \"ticks\": \"\"}}, \"type\": \"parcoords\"}], \"pie\": [{\"automargin\": true, \"type\": \"pie\"}], \"scatter\": [{\"marker\": {\"colorbar\": {\"outlinewidth\": 0, \"ticks\": \"\"}}, \"type\": \"scatter\"}], \"scatter3d\": [{\"line\": {\"colorbar\": {\"outlinewidth\": 0, \"ticks\": \"\"}}, \"marker\": {\"colorbar\": {\"outlinewidth\": 0, \"ticks\": \"\"}}, \"type\": \"scatter3d\"}], \"scattercarpet\": [{\"marker\": {\"colorbar\": {\"outlinewidth\": 0, \"ticks\": \"\"}}, \"type\": \"scattercarpet\"}], \"scattergeo\": [{\"marker\": {\"colorbar\": {\"outlinewidth\": 0, \"ticks\": \"\"}}, \"type\": \"scattergeo\"}], \"scattergl\": [{\"marker\": {\"colorbar\": {\"outlinewidth\": 0, \"ticks\": \"\"}}, \"type\": \"scattergl\"}], \"scattermapbox\": [{\"marker\": {\"colorbar\": {\"outlinewidth\": 0, \"ticks\": \"\"}}, \"type\": \"scattermapbox\"}], \"scatterpolar\": [{\"marker\": {\"colorbar\": {\"outlinewidth\": 0, \"ticks\": \"\"}}, \"type\": \"scatterpolar\"}], \"scatterpolargl\": [{\"marker\": {\"colorbar\": {\"outlinewidth\": 0, \"ticks\": \"\"}}, \"type\": \"scatterpolargl\"}], \"scatterternary\": [{\"marker\": {\"colorbar\": {\"outlinewidth\": 0, \"ticks\": \"\"}}, \"type\": \"scatterternary\"}], \"surface\": [{\"colorbar\": {\"outlinewidth\": 0, \"ticks\": \"\"}, \"colorscale\": [[0.0, \"#0d0887\"], [0.1111111111111111, \"#46039f\"], [0.2222222222222222, \"#7201a8\"], [0.3333333333333333, \"#9c179e\"], [0.4444444444444444, \"#bd3786\"], [0.5555555555555556, \"#d8576b\"], [0.6666666666666666, \"#ed7953\"], [0.7777777777777778, \"#fb9f3a\"], [0.8888888888888888, \"#fdca26\"], [1.0, \"#f0f921\"]], \"type\": \"surface\"}], \"table\": [{\"cells\": {\"fill\": {\"color\": \"#EBF0F8\"}, \"line\": {\"color\": \"white\"}}, \"header\": {\"fill\": {\"color\": \"#C8D4E3\"}, \"line\": {\"color\": \"white\"}}, \"type\": \"table\"}]}, \"layout\": {\"annotationdefaults\": {\"arrowcolor\": \"#2a3f5f\", \"arrowhead\": 0, \"arrowwidth\": 1}, \"coloraxis\": {\"colorbar\": {\"outlinewidth\": 0, \"ticks\": \"\"}}, \"colorscale\": {\"diverging\": [[0, \"#8e0152\"], [0.1, \"#c51b7d\"], [0.2, \"#de77ae\"], [0.3, \"#f1b6da\"], [0.4, \"#fde0ef\"], [0.5, \"#f7f7f7\"], [0.6, \"#e6f5d0\"], [0.7, \"#b8e186\"], [0.8, \"#7fbc41\"], [0.9, \"#4d9221\"], [1, \"#276419\"]], \"sequential\": [[0.0, \"#0d0887\"], [0.1111111111111111, \"#46039f\"], [0.2222222222222222, \"#7201a8\"], [0.3333333333333333, \"#9c179e\"], [0.4444444444444444, \"#bd3786\"], [0.5555555555555556, \"#d8576b\"], [0.6666666666666666, \"#ed7953\"], [0.7777777777777778, \"#fb9f3a\"], [0.8888888888888888, \"#fdca26\"], [1.0, \"#f0f921\"]], \"sequentialminus\": [[0.0, \"#0d0887\"], [0.1111111111111111, \"#46039f\"], [0.2222222222222222, \"#7201a8\"], [0.3333333333333333, \"#9c179e\"], [0.4444444444444444, \"#bd3786\"], [0.5555555555555556, \"#d8576b\"], [0.6666666666666666, \"#ed7953\"], [0.7777777777777778, \"#fb9f3a\"], [0.8888888888888888, \"#fdca26\"], [1.0, \"#f0f921\"]]}, \"colorway\": [\"#636efa\", \"#EF553B\", \"#00cc96\", \"#ab63fa\", \"#FFA15A\", \"#19d3f3\", \"#FF6692\", \"#B6E880\", \"#FF97FF\", \"#FECB52\"], \"font\": {\"color\": \"#2a3f5f\"}, \"geo\": {\"bgcolor\": \"white\", \"lakecolor\": \"white\", \"landcolor\": \"#E5ECF6\", \"showlakes\": true, \"showland\": true, \"subunitcolor\": \"white\"}, \"hoverlabel\": {\"align\": \"left\"}, \"hovermode\": \"closest\", \"mapbox\": {\"style\": \"light\"}, \"paper_bgcolor\": \"white\", \"plot_bgcolor\": \"#E5ECF6\", \"polar\": {\"angularaxis\": {\"gridcolor\": \"white\", \"linecolor\": \"white\", \"ticks\": \"\"}, \"bgcolor\": \"#E5ECF6\", \"radialaxis\": {\"gridcolor\": \"white\", \"linecolor\": \"white\", \"ticks\": \"\"}}, \"scene\": {\"xaxis\": {\"backgroundcolor\": \"#E5ECF6\", \"gridcolor\": \"white\", \"gridwidth\": 2, \"linecolor\": \"white\", \"showbackground\": true, \"ticks\": \"\", \"zerolinecolor\": \"white\"}, \"yaxis\": {\"backgroundcolor\": \"#E5ECF6\", \"gridcolor\": \"white\", \"gridwidth\": 2, \"linecolor\": \"white\", \"showbackground\": true, \"ticks\": \"\", \"zerolinecolor\": \"white\"}, \"zaxis\": {\"backgroundcolor\": \"#E5ECF6\", \"gridcolor\": \"white\", \"gridwidth\": 2, \"linecolor\": \"white\", \"showbackground\": true, \"ticks\": \"\", \"zerolinecolor\": \"white\"}}, \"shapedefaults\": {\"line\": {\"color\": \"#2a3f5f\"}}, \"ternary\": {\"aaxis\": {\"gridcolor\": \"white\", \"linecolor\": \"white\", \"ticks\": \"\"}, \"baxis\": {\"gridcolor\": \"white\", \"linecolor\": \"white\", \"ticks\": \"\"}, \"bgcolor\": \"#E5ECF6\", \"caxis\": {\"gridcolor\": \"white\", \"linecolor\": \"white\", \"ticks\": \"\"}}, \"title\": {\"x\": 0.05}, \"xaxis\": {\"automargin\": true, \"gridcolor\": \"white\", \"linecolor\": \"white\", \"ticks\": \"\", \"title\": {\"standoff\": 15}, \"zerolinecolor\": \"white\", \"zerolinewidth\": 2}, \"yaxis\": {\"automargin\": true, \"gridcolor\": \"white\", \"linecolor\": \"white\", \"ticks\": \"\", \"title\": {\"standoff\": 15}, \"zerolinecolor\": \"white\", \"zerolinewidth\": 2}}}},\n",
       "                        {\"responsive\": true}\n",
       "                    ).then(function(){\n",
       "                            \n",
       "var gd = document.getElementById('c2bf2d5f-d957-4dad-b60b-ab665160943e');\n",
       "var x = new MutationObserver(function (mutations, observer) {{\n",
       "        var display = window.getComputedStyle(gd).display;\n",
       "        if (!display || display === 'none') {{\n",
       "            console.log([gd, 'removed!']);\n",
       "            Plotly.purge(gd);\n",
       "            observer.disconnect();\n",
       "        }}\n",
       "}});\n",
       "\n",
       "// Listen for the removal of the full notebook cells\n",
       "var notebookContainer = gd.closest('#notebook-container');\n",
       "if (notebookContainer) {{\n",
       "    x.observe(notebookContainer, {childList: true});\n",
       "}}\n",
       "\n",
       "// Listen for the clearing of the current output cell\n",
       "var outputEl = gd.closest('.output');\n",
       "if (outputEl) {{\n",
       "    x.observe(outputEl, {childList: true});\n",
       "}}\n",
       "\n",
       "                        })\n",
       "                };\n",
       "                });\n",
       "            </script>\n",
       "        </div>"
      ]
     },
     "metadata": {},
     "output_type": "display_data"
    }
   ],
   "source": [
    "# Plot as 2D scatter plot\n",
    "scatter = go.Scatter(\n",
    "    x = Y[:,0],\n",
    "    y = Y[:,1],\n",
    "    mode='markers+text',\n",
    "    text= df_nodes.values[:,0],\n",
    "    textposition='bottom center',\n",
    "    textfont=dict(\n",
    "        family='sans serif',\n",
    "        size=10,\n",
    "        color='#000000'\n",
    "    ),\n",
    "    marker=dict(\n",
    "        size=5,\n",
    "        symbol='circle',\n",
    "        opacity=0.5\n",
    "    )\n",
    ")\n",
    "\n",
    "\n",
    "\n",
    "\n",
    "\n",
    "\n",
    "data = [scatter]\n",
    "iplot(data, filename='fig0')"
   ]
  },
  {
   "cell_type": "code",
   "execution_count": 13,
   "metadata": {},
   "outputs": [],
   "source": [
    "# Perform normalized spectral clustering\n",
    "E, V = eigs(LI,3,which='SR')\n",
    "E = np.real(E)\n",
    "V = np.real(V)\n",
    "\n",
    "Y = V[:,1:3]*100"
   ]
  },
  {
   "cell_type": "code",
   "execution_count": 14,
   "metadata": {},
   "outputs": [
    {
     "data": {
      "application/vnd.plotly.v1+json": {
       "config": {
        "linkText": "Export to plot.ly",
        "plotlyServerURL": "https://plot.ly",
        "showLink": false
       },
       "data": [
        {
         "marker": {
          "opacity": 0.5,
          "size": 5,
          "symbol": "circle"
         },
         "mode": "markers+text",
         "text": [
          "Black Panther / T'chal",
          "Loki [asgardian]",
          "Mantis / ? Brandt",
          "Iceman / Robert Bobby",
          "Marvel Girl / Jean Grey",
          "Cyclops / Scott Summer",
          "Klaw / Ulysses Klaw",
          "Human Torch / Johnny S",
          "Richards, Franklin B",
          "Wolverine / Logan",
          "Firebird / Bonita Juar",
          "Mr. Fantastic / Reed R",
          "Medusa / Medusalith Am",
          "Dr. Strange / Stephen",
          "Jack Of Hearts / Jack",
          "Mephisto",
          "Thanos",
          "Swordsman / Jacques Du",
          "Collector / Taneleer T",
          "Lockjaw [inhuman]",
          "Sub-mariner / Namor Ma",
          "Pharaoh Rama-tut",
          "Ant-man Ii / Scott Har",
          "Lyja Lazerfist [skru",
          "Gorgon [inhuman]",
          "Nighthawk Ii / Kyle Ri",
          "Cage, Luke / Carl Luca",
          "Colossus Ii / Peter Ra",
          "Hellcat / Patsy Walker",
          "Karnak [inhuman]",
          "Death",
          "Redwing",
          "Daredevil / Matt Murdo",
          "Norriss, Sister Barb",
          "Rage / Elvin Daryl Hal",
          "Starfox / Eros",
          "Demolition Man / Denni",
          "Sersi / Sylvia",
          "Spider-man / Peter Parker",
          "Vision",
          "Uatu",
          "Binary / Carol Danvers",
          "Gyrich, Henry Peter",
          "Nightcrawler / Kurt Wa",
          "Angel / Warren Kenneth",
          "Silver Surfer / Norrin",
          "She-hulk / Jennifer Wa",
          "Ghaur [deviant]",
          "Dr. Doom / Victor Von",
          "Storm / Ororo Munroe S",
          "Scarlet Witch / Wanda",
          "Toad / Mortimer Toynbe",
          "Hulk / Dr. Robert Bruce Banner",
          "Firestar / Angelica Jo",
          "Wonder Man / Simon Wil",
          "Drax / Arthur Douglas",
          "Dugan, Timothy Aloyi",
          "Carter, Sharon",
          "Black Knight V / Dane",
          "Sunfire / Shiro Yoshid",
          "Triton",
          "Ultron",
          "Jones, Richard Milho",
          "Iron Man / Tony Stark",
          "Nelson, Franklin Fog",
          "Captain America",
          "Jarvis, Edwin",
          "Quasar Iii / Wendell V",
          "Jameson, J. Jonah",
          "Masters, Alicia Reis",
          "Magneto / Magnus / Eric",
          "Invisible Woman / Sue",
          "Professor X / Charles",
          "Iron Fist / Daniel Ran",
          "Black Bolt / Blackanto",
          "Hawk",
          "Sandman / William Bake",
          "Falcon / Sam Wilson",
          "Stingray / Dr. Walter",
          "Justice Ii / Vance Ast",
          "Hercules [greek God]",
          "Usagent / Captain John",
          "Captain Marvel Ii / Mo",
          "Crystal [inhuman]",
          "Tigra / Greer Nelson",
          "Spider-woman Ii / Juli",
          "Machine Man / X-51",
          "Mockingbird / Dr. Barb",
          "Captain Marvel / Capta",
          "Wasp / Janet Van Dyne",
          "Fury, Col. Nicholas",
          "Thor / Dr. Donald Blak",
          "Quicksilver / Pietro M",
          "Captain Britain / Bria",
          "Shadowcat / Katherine",
          "Black Widow / Natasha",
          "Ant-man / Dr. Henry J.",
          "Moon Knight / Marc Spe",
          "Jocasta",
          "Moondragon / Heather D",
          "Thing / Benjamin J. Gr",
          "Beast / Henry &hank& P",
          "Nova / Richard Rider",
          "Wrecker Iii / Dirk Gar",
          "Warlock Ii / Adam Warl",
          "Piledriver Ii / Brian",
          "Thunderball / Dr. Elio",
          "Dr. Octopus / Otto Oct",
          "Banner, Betty Ross T",
          "Avalanche / Dominic Pe",
          "Attuma",
          "Hela [asgardian]",
          "Doc Samson / Dr. Leona",
          "Guardian / James Macdo",
          "Northstar / Jean-paul",
          "Dr. Druid / Anthony Lu",
          "Watson-parker, Mary",
          "Mystique / Raven Darkh",
          "Pyro / Allerdyce Johnn",
          "Destiny Ii / Irene Adl",
          "Mister Hyde / Calvin Z",
          "Ghost Rider Ii / Johnn",
          "Mole Man / Harvey Rupe",
          "Firelord / Pyreus Kril",
          "Leader / Sam Sterns",
          "Le Fey, Morgan",
          "Bulldozer / Henry Camp",
          "Forgotten One / Gilgam",
          "Balder [asgardian]",
          "Hogun [asgardian]",
          "Hellstorm / Daimon Hel",
          "Aurora / Jeanne-marie",
          "O'brien, Michael",
          "Stankowicz, Fabian",
          "Screaming Mimi / Melis",
          "Moonstone Ii / Karla S",
          "Fixer Ii / Paul Norber",
          "Darkstar / Laynia Serg",
          "Vanguard / Nicolai Kry",
          "Gamora",
          "Psylocke / Elisabeth B",
          "Rogue  / ",
          "Sasquatch / Walter Lan",
          "Luna / Luna Maximoff [",
          "Whizzer Ii / Stanley S",
          "Dr. Spectrum / Joseph",
          "Kingpin / Wilson Fisk",
          "Clea",
          "Polaris / Lorna Dane",
          "De La Fontaine, Cont",
          "Heimdall [asgardian]",
          "Red Skull / Johann Sch",
          "Thompson, Eugene Fla",
          "Wong",
          "Parker, May",
          "Green Goblin / Norman",
          "Night Thrasher / Duane",
          "Eternity / Adam Qadmon",
          "Galactus / Galan",
          "Triathlon / Delroy Gar",
          "Beetle / Abner Ronald",
          "Lilandra Neramani [s",
          "Odin [asgardian]",
          "Hogan, Virginia Pepp",
          "Mad Dog / Colonel Buzz",
          "Kincaid, Dr. Jane Fo",
          "Wizard / Bentley Wittm",
          "Charcoal / Charlie Bur",
          "Blob / Fred J. Dukes",
          "Cloak / Tyrone Johnson",
          "Thunderstrike / Eric K",
          "Power Man / Erik Joste",
          "Human Torch Android / ",
          "Juggernaut / Cain Mark",
          "Absorbing Man / Carl C",
          "Volstagg",
          "Shaman / Michael Twoyo",
          "Snowbird / Narya / Anne",
          "Dagger / Tandy Bowen",
          "Phoenix Iii / Rachel S",
          "Mandarin",
          "Fandral [asgardian]",
          "Ms. Marvel Ii / Sharon",
          "Pip / Prince Gofern",
          "Enchantress / Amora / He",
          "Jameson, Col. John",
          "Cooper, Dr. Valerie",
          "Nova Ii / Frankie Raye",
          "Darkhawk / Chris Powel",
          "Nomad Iii / Jack Monro",
          "Robertson, Joe",
          "Gargoyle Ii / Isaac Ch",
          "Namorita / Nita Prenti",
          "Iron Man Iv / James R.",
          "Ross, Gen. Thaddeus",
          "Harkness, Agatha",
          "Carter, Peggy",
          "Hyperion",
          "Living Lightning / Mig",
          "Jones, Gabe",
          "Osborn, Liz Allan",
          "Leeds, Betty Brant",
          "Sif",
          "Dazzler Ii / Allison B",
          "Molecule Man / Owen Re",
          "Speedball / Robbie Bal",
          "Lizard / Dr. Curtis Co",
          "Volcana / Marsha Rosen",
          "Lockheed",
          "Titania Ii / Mary Skee",
          "Boomer / Tabitha Smith",
          "Summers, Nathan Chri",
          "Summers, Madelyne Ma",
          "Mactaggert, Moira Ki",
          "Cannonball Ii / Sam Gu",
          "Tilby, Trish / Patrici",
          "Skids / Sally Blevins",
          "Wolfsbane / Rahne Sinc",
          "Leech",
          "Mirage Ii / Danielle M",
          "Gambit / Remy Lebeau",
          "Jubilee / Jubilation L",
          "Strong Guy / Guido Car",
          "Spiral",
          "Banshee / Sean Cassidy",
          "Legion Ii / David Hall",
          "Havok / Alex Summers",
          "Longshot",
          "Forge",
          "Sabretooth / Victor Cr",
          "Maddicks, Arthur Art",
          "Warlock Iii",
          "Rictor / Julio Esteban",
          "Sunspot / Roberto Daco",
          "Firefist / Rusty Colli",
          "Bishop  / ",
          "Daytripper / Amanda Se",
          "Wild Child / Kyle Gibn",
          "Thunderbird Ii / James",
          "Sauron / Dr. Karl Lyko",
          "Siryn / Theresa Rourke",
          "Shatterstar Ii / Gavee",
          "Marrow / Sarah",
          "Feral / Maria Callasan",
          "Callisto",
          "Mr. Sinister / Nathan",
          "Raza Longknife",
          "Spider-woman / Jessica",
          "Cypher / Doug Ramsey",
          "Deathbird [shi'ar]",
          "Hudson, Heather",
          "Stryfe",
          "Iron Man Doppelgange",
          "Puck / Eugene Milton J",
          "Silhouette",
          "Cortez, Fabian",
          "Black King / Sebastian",
          "Magik / Illyana Rasput",
          "Zabu",
          "Domino Iii / Beatrice / ",
          "Caliban / ",
          "Apocalypse / En Sabah",
          "Hunter, Stevie",
          "Corsair",
          "Ch'od",
          "Mam'selle Hepzibah",
          "Zero",
          "X-man / Nathan Grey",
          "Karma / Xi'an Coy Manh",
          "Mr. Fantastic Doppel",
          "Beyonder",
          "Multiple Man / James A",
          "Colossus Ii Doppelga",
          "Scanner Ii",
          "Ka-zar / Kevin Plunder",
          "White Queen / Emma Fro",
          "Magma / Amara Aquilla / ",
          "Thanos Doppelganger",
          "Magus",
          "Knight, Misty",
          "Wing, Colleen",
          "Puppet Master / Philli",
          "Maximus [inhuman]",
          "Punisher Ii / Frank Ca",
          "Zeus",
          "Box Iv / Madison Jeffr",
          "Thena",
          "Black Cat / Felicia Ha",
          "Gee / Alex Power",
          "Spider-man Clone / Ben",
          "Ulik",
          "Citizen V Ii / Helmut",
          "High Evolutionary / He",
          "Hobgoblin V / Jason Ph",
          "Ghost Rider Iii / Dan",
          "Cushing, Kate",
          "Katzenberg, Nick",
          "Vizier",
          "Tombstone / Lonnie Tho",
          "Mercado, Joy",
          "Hammerhead",
          "Arranger / ",
          "Osborn, Harry",
          "Cobra / Klaus Vorhees",
          "Leeds, Ned",
          "Watson, Anna",
          "Urich, Ben",
          "Robertson, Randy",
          "Page, Karen",
          "Grant, Gloria Glory",
          "Lubenski, Nate",
          "Ikaris / Ike Harris [e",
          "Rosenthal, Bernie",
          "Gladiator Ii",
          "Beta Ray Bill",
          "Bridge, George Washi",
          "Diamond Lil / Lillian",
          "Asp Ii / Cleo",
          "Black Mamba / Tanya Se",
          "Meggan",
          "Austin, Susan",
          "Diamondback Ii / Rache",
          "Makkari / Mike Khary / I",
          "Hodge, Cameron",
          "Skin / Angelo Espinosa",
          "Husk / Paige Guthrie",
          "Deadpool / Jack / Wade W"
         ],
         "textfont": {
          "color": "#000000",
          "family": "sans serif",
          "size": 10
         },
         "textposition": "bottom center",
         "type": "scatter",
         "x": [
          0.9516274076722332,
          1.2890091375596642,
          0.1943478423035238,
          -11.35523179221178,
          -14.298549591592538,
          -21.274599856221986,
          0.12488225080852446,
          5.630632279565583,
          0.4993340012883331,
          -22.194250841017755,
          0.14717260641706756,
          5.073634795881874,
          0.7623311550205615,
          0.7712160281502946,
          0.10913736726927423,
          0.31244408369230975,
          -0.354429226112068,
          0.2144486298562283,
          0.05705835202899982,
          0.3625832820873725,
          1.3673633539330612,
          0.08631459409374395,
          0.3229883669867168,
          0.3676723822824758,
          0.6065434495823037,
          0.25705127368492187,
          0.41185977364133053,
          -17.516100564525946,
          0.24618136208157662,
          0.5775829575402427,
          0.06712635206086111,
          0.29962983961582407,
          4.97400342030081,
          0.1425847146412991,
          0.2275801078654269,
          0.5336133702047304,
          0.11471415789648706,
          0.5797198386108591,
          60.750623406600454,
          2.6246476349451293,
          -0.024250619517975112,
          -0.5859362136554841,
          -0.18837874732886592,
          -12.663031585234332,
          -12.132756089558066,
          0.459887453703568,
          0.8098993577326925,
          0.03317567616474152,
          0.6272195120039857,
          -21.315588291497452,
          2.049899621027541,
          -0.6365233193049799,
          1.3698881997614574,
          0.2602896920339075,
          0.6577481062444392,
          -0.38267250731187097,
          0.5187620123205139,
          0.3343065780822179,
          0.15132231516713984,
          -0.704778566849566,
          0.5325513112642888,
          0.20142456381430535,
          0.5490359343291206,
          6.02077919650977,
          2.283922482688968,
          11.195804154371197,
          2.284478927746205,
          0.18066870851193106,
          23.01864559541599,
          0.6869151038747627,
          -4.595198825138251,
          4.207258193963784,
          -17.4096086115339,
          0.11171440236022939,
          0.6151488466440574,
          2.782805226593376,
          1.4545783028628638,
          0.8861961615002056,
          0.06786535735165289,
          0.6031416596372037,
          0.21721178818884748,
          0.07702131683037806,
          0.761553691640155,
          0.5728181310760216,
          0.4764175134055645,
          -0.010553811508002341,
          0.06386917170604606,
          0.49661098417533084,
          0.2765143472709927,
          3.3439454927362533,
          0.5987340181927863,
          7.955764656376693,
          -0.8225109824537438,
          -2.004628634327621,
          -9.146125430018715,
          1.4444289012212863,
          2.4878935675372142,
          0.37279699862823756,
          0.13844869505852966,
          -0.4563739942547133,
          4.845173821649674,
          -14.591089575532546,
          -0.2072106841830088,
          0.15888029534863563,
          -0.378212922554823,
          0.13343436275814236,
          0.26902502745826673,
          2.7155324750477465,
          0.42392243555747083,
          -1.1032481140709265,
          -0.007718215915435698,
          0.05014345844628165,
          0.21996962493672692,
          -0.5727165452115256,
          -1.176784790934235,
          -0.2463835523610858,
          21.903797862684897,
          -2.5488858213966625,
          -1.3420621084463025,
          -0.9909425669616547,
          0.23471647997267472,
          0.13490875312017495,
          0.0480515783765908,
          0.13280886009632598,
          0.1681943783285425,
          0.04821627008433433,
          0.13411318991758236,
          0.1398914124318102,
          1.3687420457490813,
          1.3711754093591733,
          0.10542509303510848,
          -0.9739913235005517,
          0.2999346702911876,
          0.28586851394494983,
          0.3410118521593904,
          0.4083407238244933,
          0.29747961756374053,
          -0.01131740570020831,
          0.05309834680590677,
          -0.4465173184201156,
          -7.220089326670311,
          -11.710640026985034,
          -1.533434748612297,
          0.1548144961968556,
          0.045618997731983475,
          0.04629863792471163,
          4.657846784049478,
          0.20432948010239896,
          -5.203204818051313,
          0.12481378319888657,
          0.7982482473861111,
          0.41293554270375055,
          10.598560372094665,
          0.3497440510896715,
          15.076372265144572,
          3.3153536622076007,
          0.21469953137169484,
          -0.1875050117870839,
          -0.20843243235234254,
          0.14097778344867518,
          0.6203383943165428,
          -2.35739460080511,
          1.6019082096153239,
          0.17601827109484028,
          -0.015737887589452805,
          0.46551030777140756,
          0.46752046229443284,
          0.13605871930155033,
          -1.9607803961742727,
          0.49330846823115576,
          -0.11758471319994108,
          0.44267814622248175,
          0.2376555562600861,
          -0.7603989969306302,
          0.15332166846801065,
          1.3372123877305708,
          -1.0834568757521739,
          -0.45696699445018196,
          0.5165341406600281,
          -2.2666052710878795,
          0.13514875800480552,
          1.3578165465705228,
          0.2430354722790732,
          -0.3319934953007669,
          0.5232345312942277,
          2.5504288347345683,
          -1.8131233326879943,
          -0.27934091386678184,
          -0.11145491946665916,
          0.222577265154731,
          15.404710291605788,
          -0.10318587767212692,
          -0.11345242555206236,
          0.2515941055755048,
          0.435511248474852,
          -0.06551809848651506,
          0.43345102159548216,
          0.05143753972585297,
          -0.33455605585000064,
          0.1152448783034394,
          6.301830714574466,
          11.609133641462755,
          1.2921016130663698,
          -2.0451048509476077,
          0.010767008727496358,
          -0.1972713627333403,
          1.471650937090943,
          -0.019313063366580382,
          -2.330393263628149,
          0.1747377909375208,
          -5.568951799999447,
          -5.750029060982513,
          -1.5737309927470935,
          -5.446051982115858,
          -10.261261017020136,
          -1.24701741250021,
          -1.65528415938812,
          -7.272609249371424,
          -1.3117514556033858,
          -4.718313931630651,
          -6.07362664765851,
          -4.094324213714674,
          -2.1728289848245477,
          -0.7197170893085845,
          -5.179117123152654,
          -0.664271543487337,
          -6.505128289730515,
          -1.4591856920985884,
          -2.9924884712117112,
          -1.212428926047924,
          -1.5097867485780623,
          -3.08515248524111,
          -3.1207043892893007,
          -6.818298524620864,
          -1.6413393262422082,
          -3.0966386505605374,
          -1.0346447348791534,
          -0.7308152111320544,
          -3.473715653696669,
          -0.5774585033068727,
          -2.910439190385721,
          -1.9160680371215593,
          -1.8207086277175017,
          -1.1067116740111584,
          -0.9069455565499641,
          -0.8186487394638767,
          -1.0753389885761644,
          -0.0400135287366745,
          -2.9109496831096844,
          -0.7553021833339839,
          -1.6432436305514442,
          -0.923921321476902,
          -0.2536444894763986,
          -1.2090131766306804,
          -0.0911485215458628,
          -0.30737428325355126,
          -1.2115938351502686,
          -3.5095705809187305,
          -0.11235541647511929,
          -1.5057298859354549,
          -1.9339961032061745,
          -1.9018674537263331,
          -1.105518598194346,
          -1.5427898879702564,
          -1.1028561969051207,
          -1.1018302148618926,
          -0.6322574397499735,
          -0.48072170927823826,
          -1.4601130248185807,
          -0.2679391886555778,
          -0.2736837448603351,
          -1.8882384817386382,
          -0.1853415422201535,
          -0.22709979079054474,
          -0.19998519986895047,
          -2.3237913951512073,
          -1.9638164272542398,
          -0.40420237696174977,
          -0.5759803727621126,
          -0.23869608936007009,
          -0.1740417373857955,
          0.09074231669996953,
          0.22042002335320698,
          1.8626313360519016,
          0.10720484268575815,
          -0.4420514420766205,
          0.13245514535276512,
          3.051946716238091,
          0.2595677230046154,
          2.942856687348448,
          0.18091904015560842,
          0.33900643920284,
          0.06272714676612044,
          2.1533452053856372,
          0.16277172884860647,
          3.1425805020008593,
          1.8143120859079236,
          0.57893430344821,
          1.3432928550789085,
          2.5402454899071714,
          1.3323465434024924,
          1.788783406155181,
          7.85846311917074,
          0.2364690148697674,
          3.4707804568791842,
          5.36571827676057,
          5.495513517401721,
          2.8338426964115233,
          1.1355333155436789,
          4.8573752418867535,
          2.206401429612641,
          0.12027538337153244,
          0.24900241790091318,
          -0.44910423269125227,
          0.23190766962782983,
          -0.28894256378100763,
          -0.26177046828665423,
          0.16887863551195406,
          0.1786514729467062,
          -2.1297266685296115,
          0.09342533554087581,
          0.42668784643623153,
          0.12990088940683123,
          -1.0840984136822567,
          -1.0895376471444589,
          -1.1137019834953459,
          -0.3425756930961641
         ],
         "y": [
          3.3288405575863655,
          3.781691016307288,
          0.729978598422981,
          -8.906322283754772,
          -11.56323244706482,
          -18.351481510321488,
          0.19440580592918247,
          5.043536082335373,
          0.8740898553000545,
          -20.02495934247787,
          0.6338636383971082,
          5.81588137544341,
          1.387414859631303,
          1.4117594650043066,
          0.33098077756835587,
          0.5824127664419798,
          0.21751726396028975,
          0.8111275788263342,
          0.33032865213841633,
          1.0547240367488295,
          3.296728072458921,
          0.9771214809955815,
          0.7442602409844427,
          0.46813219926474386,
          1.2378815990812257,
          0.48910799948224737,
          0.24716415231039096,
          -15.090967350034898,
          0.8375252931211764,
          1.1961409961241731,
          0.20162442080344659,
          0.7441031982336522,
          -1.8564389194982767,
          0.731483905243697,
          0.6052397273134238,
          1.6689812714715795,
          0.38050268509263835,
          1.9042894455150992,
          -46.931483031756656,
          15.319249622482456,
          0.3741124705365705,
          0.8238096526468487,
          0.47578742433192905,
          -11.12165880853305,
          -9.513798017453071,
          1.323975230625654,
          3.912100606123012,
          0.20027676495749705,
          0.8397879840550746,
          -18.55066599359026,
          15.257230724210228,
          -0.37530811022941657,
          2.6369021579060954,
          0.7783271965985514,
          7.2900355871201015,
          0.2004330127127491,
          0.9371372384836749,
          0.972048212889225,
          2.5504284713848504,
          -0.4176236035700905,
          1.0534749939361812,
          0.6188114631714353,
          1.8258167347483825,
          19.052852633367877,
          -1.173457789854769,
          38.96556442024303,
          5.873358109320756,
          1.8983236134247194,
          -16.97874047662836,
          0.833732996261378,
          -3.678646716789771,
          5.7452397851171595,
          -14.703174456232935,
          0.11264211909350007,
          1.2830725334893556,
          12.06396915352714,
          -0.18322012592832743,
          2.3284491059183723,
          0.3716202401710444,
          0.8913355720580499,
          4.794856947024413,
          1.666280280758164,
          2.587813731529622,
          2.90082234018811,
          2.2095083307679384,
          0.7740450362756421,
          0.3048181283816488,
          2.0693208473857045,
          0.8164692914964723,
          12.318916344355781,
          1.6656120355390498,
          25.87499814146804,
          3.7953148174000764,
          -1.6294876705592998,
          -7.782765832638271,
          3.115667676508983,
          10.359505242447133,
          0.19989693462889843,
          0.7971309837937945,
          1.1818601085232143,
          6.2598889524103125,
          -8.760838502149474,
          -0.10594303389436437,
          0.20904837199643314,
          0.07102596790387301,
          0.11521021416090083,
          0.03832035530524286,
          -2.0417405651320517,
          0.836775718199109,
          -0.8419041780886304,
          0.18478135739336632,
          0.832796247212512,
          0.5065351352479243,
          -0.2753121310534615,
          -0.5050494345774812,
          0.42948859039186144,
          -16.264042714398744,
          -2.0332139891349588,
          -1.034588140836775,
          -0.786849706228961,
          0.16256117706798717,
          -0.10908419307658204,
          0.1123512309463947,
          0.27884124115110615,
          0.28190962457169544,
          0.16672375498507977,
          0.1371723924448059,
          0.5036003737322585,
          4.519174244980218,
          4.716062726622612,
          0.22410840687183825,
          -0.43347235400429424,
          0.4519188688909424,
          0.4020358762132023,
          0.6976950280402445,
          0.839948710759378,
          0.5314316162220792,
          0.08585775160928445,
          0.1366054113750301,
          -0.08968241665645872,
          -5.6592189511881745,
          -9.54458142657654,
          -0.49526141771889504,
          0.5469004628840682,
          0.3423213446800339,
          0.3461997827220132,
          -3.095358998369301,
          0.27915677204937034,
          -3.9557427534915126,
          0.27867434463167357,
          2.712708959447592,
          0.8419624831568664,
          -7.807070831008825,
          0.3278485237657358,
          -11.043076708693048,
          -2.378757319336983,
          0.11366328557464106,
          0.05465407539611008,
          0.24889672001472324,
          0.5905458855472245,
          0.5585825953756691,
          -1.795492004549543,
          5.251933348298696,
          0.609105521162579,
          0.1526771693316648,
          1.5784271814362878,
          0.20870440241181643,
          0.39527344416547494,
          -1.5319158646409081,
          -0.3893670674611157,
          1.2542538197162751,
          0.9266413718869952,
          0.882876924132147,
          -0.7337209912230097,
          0.28029252120591763,
          4.623525158237046,
          -0.3332258904634957,
          -0.2370818634392186,
          -0.3753078592021065,
          -1.964792599075561,
          0.38517989748607406,
          4.672843405168484,
          0.2948582133988264,
          -0.01903571305627315,
          1.6404874005047865,
          -1.2177586718414513,
          -1.2760103151318958,
          0.04627599206135409,
          -0.007469472367244171,
          0.5158342866960616,
          -11.261481848670025,
          0.13659873450706672,
          0.3453494995133367,
          1.0108933921083842,
          0.7339892929102676,
          0.5562146488319849,
          0.762815557509681,
          0.37742045981527483,
          0.5918952365203051,
          0.4333174721268822,
          -4.618414743920667,
          -8.53593233461855,
          4.439392577137529,
          -1.7007853602895813,
          -0.05385320643448667,
          0.04795661189944914,
          -1.2077021901997136,
          -0.09562045801154799,
          -2.0064974736284293,
          -0.006962887562926838,
          -4.63015469833575,
          -4.812408323465183,
          -1.3226624367916526,
          -4.583324385730621,
          -8.835880359987161,
          -1.087896637922677,
          -1.3405265024650983,
          -6.075022444301379,
          -1.074439566194451,
          -4.105730478690887,
          -4.876882100516914,
          -3.4340992931099814,
          -1.3352027102409214,
          -0.5866501641793097,
          -4.45663486752538,
          -0.5425760850050755,
          -5.022613234121048,
          -1.208501563942752,
          -2.3954795279123013,
          -0.9938742092762985,
          -1.227602055826553,
          -2.667674152275657,
          -2.562326985792955,
          -5.877769359069853,
          -1.3035551192495536,
          -2.490119535635502,
          -0.8830215430287865,
          -0.35029307700156614,
          -2.911865093425212,
          -0.4853696849948133,
          -2.4283169900168535,
          -1.5840672875455404,
          -1.5871361037457579,
          -0.9027355133856508,
          -0.7690575863872009,
          -0.6596562751618492,
          -0.8798917673382595,
          -0.12215607166631964,
          -2.565352555241243,
          -0.6025667802003575,
          -0.5513482559244042,
          -0.7470568013195946,
          -0.06397910997755318,
          -0.43410406228166326,
          -0.037457509795131724,
          -0.20148234300256576,
          -1.0297006513868554,
          -3.082035986846013,
          -0.5058110469356689,
          -1.2635751825900137,
          -1.6031706710094895,
          -1.4978076557868663,
          -0.9353461865706005,
          -1.2705590759997796,
          -0.9021824142667297,
          -0.9011523837795694,
          -0.5123141930774681,
          -0.4910746580932977,
          -1.2633063377203875,
          -0.058065078138268666,
          -0.26987067414090626,
          -1.3206115408062995,
          -0.08999740005370561,
          -0.13950081606571627,
          -0.6211997508256969,
          -1.9726103577702794,
          -1.7579429329708807,
          -0.10512617151696123,
          -0.12518000634097623,
          -0.28724644373238795,
          -0.14511842359530283,
          0.03722986335892904,
          0.48684892983619316,
          -1.284532440541379,
          0.4370180879863605,
          -0.08291061137471027,
          0.4793234574579259,
          -2.2138745131489337,
          -0.04859029499498429,
          -2.1499735927072465,
          0.5964810527347286,
          0.4565024338972647,
          0.4614491006700105,
          -1.5967698470111862,
          -0.3314456626397786,
          -2.3347460685320027,
          -1.3460735635899874,
          1.7938433866423908,
          -0.9839498192928601,
          -1.8893871203114878,
          -0.9703881787506958,
          -1.3146985420867578,
          -5.831043744170984,
          0.24717593820900402,
          -2.567766922507901,
          -3.9528090839243033,
          -3.9282699011159203,
          -2.1081365665466647,
          -0.5529714932281644,
          -3.618489549561331,
          -1.6414307239646067,
          0.4473655427362017,
          0.5509514037904453,
          -0.34484891422033304,
          0.7752980114991801,
          -0.18563798365101392,
          -0.02463645617836772,
          0.19879568439867173,
          0.21176194397968315,
          -1.8043120847806835,
          0.3556558069591701,
          0.46682807625073597,
          0.524717240470919,
          -0.8798816862786836,
          -0.9241543033637507,
          -0.9435566063480946,
          -0.2855677215300944
         ]
        }
       ],
       "layout": {
        "template": {
         "data": {
          "bar": [
           {
            "error_x": {
             "color": "#2a3f5f"
            },
            "error_y": {
             "color": "#2a3f5f"
            },
            "marker": {
             "line": {
              "color": "#E5ECF6",
              "width": 0.5
             }
            },
            "type": "bar"
           }
          ],
          "barpolar": [
           {
            "marker": {
             "line": {
              "color": "#E5ECF6",
              "width": 0.5
             }
            },
            "type": "barpolar"
           }
          ],
          "carpet": [
           {
            "aaxis": {
             "endlinecolor": "#2a3f5f",
             "gridcolor": "white",
             "linecolor": "white",
             "minorgridcolor": "white",
             "startlinecolor": "#2a3f5f"
            },
            "baxis": {
             "endlinecolor": "#2a3f5f",
             "gridcolor": "white",
             "linecolor": "white",
             "minorgridcolor": "white",
             "startlinecolor": "#2a3f5f"
            },
            "type": "carpet"
           }
          ],
          "choropleth": [
           {
            "colorbar": {
             "outlinewidth": 0,
             "ticks": ""
            },
            "type": "choropleth"
           }
          ],
          "contour": [
           {
            "colorbar": {
             "outlinewidth": 0,
             "ticks": ""
            },
            "colorscale": [
             [
              0,
              "#0d0887"
             ],
             [
              0.1111111111111111,
              "#46039f"
             ],
             [
              0.2222222222222222,
              "#7201a8"
             ],
             [
              0.3333333333333333,
              "#9c179e"
             ],
             [
              0.4444444444444444,
              "#bd3786"
             ],
             [
              0.5555555555555556,
              "#d8576b"
             ],
             [
              0.6666666666666666,
              "#ed7953"
             ],
             [
              0.7777777777777778,
              "#fb9f3a"
             ],
             [
              0.8888888888888888,
              "#fdca26"
             ],
             [
              1,
              "#f0f921"
             ]
            ],
            "type": "contour"
           }
          ],
          "contourcarpet": [
           {
            "colorbar": {
             "outlinewidth": 0,
             "ticks": ""
            },
            "type": "contourcarpet"
           }
          ],
          "heatmap": [
           {
            "colorbar": {
             "outlinewidth": 0,
             "ticks": ""
            },
            "colorscale": [
             [
              0,
              "#0d0887"
             ],
             [
              0.1111111111111111,
              "#46039f"
             ],
             [
              0.2222222222222222,
              "#7201a8"
             ],
             [
              0.3333333333333333,
              "#9c179e"
             ],
             [
              0.4444444444444444,
              "#bd3786"
             ],
             [
              0.5555555555555556,
              "#d8576b"
             ],
             [
              0.6666666666666666,
              "#ed7953"
             ],
             [
              0.7777777777777778,
              "#fb9f3a"
             ],
             [
              0.8888888888888888,
              "#fdca26"
             ],
             [
              1,
              "#f0f921"
             ]
            ],
            "type": "heatmap"
           }
          ],
          "heatmapgl": [
           {
            "colorbar": {
             "outlinewidth": 0,
             "ticks": ""
            },
            "colorscale": [
             [
              0,
              "#0d0887"
             ],
             [
              0.1111111111111111,
              "#46039f"
             ],
             [
              0.2222222222222222,
              "#7201a8"
             ],
             [
              0.3333333333333333,
              "#9c179e"
             ],
             [
              0.4444444444444444,
              "#bd3786"
             ],
             [
              0.5555555555555556,
              "#d8576b"
             ],
             [
              0.6666666666666666,
              "#ed7953"
             ],
             [
              0.7777777777777778,
              "#fb9f3a"
             ],
             [
              0.8888888888888888,
              "#fdca26"
             ],
             [
              1,
              "#f0f921"
             ]
            ],
            "type": "heatmapgl"
           }
          ],
          "histogram": [
           {
            "marker": {
             "colorbar": {
              "outlinewidth": 0,
              "ticks": ""
             }
            },
            "type": "histogram"
           }
          ],
          "histogram2d": [
           {
            "colorbar": {
             "outlinewidth": 0,
             "ticks": ""
            },
            "colorscale": [
             [
              0,
              "#0d0887"
             ],
             [
              0.1111111111111111,
              "#46039f"
             ],
             [
              0.2222222222222222,
              "#7201a8"
             ],
             [
              0.3333333333333333,
              "#9c179e"
             ],
             [
              0.4444444444444444,
              "#bd3786"
             ],
             [
              0.5555555555555556,
              "#d8576b"
             ],
             [
              0.6666666666666666,
              "#ed7953"
             ],
             [
              0.7777777777777778,
              "#fb9f3a"
             ],
             [
              0.8888888888888888,
              "#fdca26"
             ],
             [
              1,
              "#f0f921"
             ]
            ],
            "type": "histogram2d"
           }
          ],
          "histogram2dcontour": [
           {
            "colorbar": {
             "outlinewidth": 0,
             "ticks": ""
            },
            "colorscale": [
             [
              0,
              "#0d0887"
             ],
             [
              0.1111111111111111,
              "#46039f"
             ],
             [
              0.2222222222222222,
              "#7201a8"
             ],
             [
              0.3333333333333333,
              "#9c179e"
             ],
             [
              0.4444444444444444,
              "#bd3786"
             ],
             [
              0.5555555555555556,
              "#d8576b"
             ],
             [
              0.6666666666666666,
              "#ed7953"
             ],
             [
              0.7777777777777778,
              "#fb9f3a"
             ],
             [
              0.8888888888888888,
              "#fdca26"
             ],
             [
              1,
              "#f0f921"
             ]
            ],
            "type": "histogram2dcontour"
           }
          ],
          "mesh3d": [
           {
            "colorbar": {
             "outlinewidth": 0,
             "ticks": ""
            },
            "type": "mesh3d"
           }
          ],
          "parcoords": [
           {
            "line": {
             "colorbar": {
              "outlinewidth": 0,
              "ticks": ""
             }
            },
            "type": "parcoords"
           }
          ],
          "pie": [
           {
            "automargin": true,
            "type": "pie"
           }
          ],
          "scatter": [
           {
            "marker": {
             "colorbar": {
              "outlinewidth": 0,
              "ticks": ""
             }
            },
            "type": "scatter"
           }
          ],
          "scatter3d": [
           {
            "line": {
             "colorbar": {
              "outlinewidth": 0,
              "ticks": ""
             }
            },
            "marker": {
             "colorbar": {
              "outlinewidth": 0,
              "ticks": ""
             }
            },
            "type": "scatter3d"
           }
          ],
          "scattercarpet": [
           {
            "marker": {
             "colorbar": {
              "outlinewidth": 0,
              "ticks": ""
             }
            },
            "type": "scattercarpet"
           }
          ],
          "scattergeo": [
           {
            "marker": {
             "colorbar": {
              "outlinewidth": 0,
              "ticks": ""
             }
            },
            "type": "scattergeo"
           }
          ],
          "scattergl": [
           {
            "marker": {
             "colorbar": {
              "outlinewidth": 0,
              "ticks": ""
             }
            },
            "type": "scattergl"
           }
          ],
          "scattermapbox": [
           {
            "marker": {
             "colorbar": {
              "outlinewidth": 0,
              "ticks": ""
             }
            },
            "type": "scattermapbox"
           }
          ],
          "scatterpolar": [
           {
            "marker": {
             "colorbar": {
              "outlinewidth": 0,
              "ticks": ""
             }
            },
            "type": "scatterpolar"
           }
          ],
          "scatterpolargl": [
           {
            "marker": {
             "colorbar": {
              "outlinewidth": 0,
              "ticks": ""
             }
            },
            "type": "scatterpolargl"
           }
          ],
          "scatterternary": [
           {
            "marker": {
             "colorbar": {
              "outlinewidth": 0,
              "ticks": ""
             }
            },
            "type": "scatterternary"
           }
          ],
          "surface": [
           {
            "colorbar": {
             "outlinewidth": 0,
             "ticks": ""
            },
            "colorscale": [
             [
              0,
              "#0d0887"
             ],
             [
              0.1111111111111111,
              "#46039f"
             ],
             [
              0.2222222222222222,
              "#7201a8"
             ],
             [
              0.3333333333333333,
              "#9c179e"
             ],
             [
              0.4444444444444444,
              "#bd3786"
             ],
             [
              0.5555555555555556,
              "#d8576b"
             ],
             [
              0.6666666666666666,
              "#ed7953"
             ],
             [
              0.7777777777777778,
              "#fb9f3a"
             ],
             [
              0.8888888888888888,
              "#fdca26"
             ],
             [
              1,
              "#f0f921"
             ]
            ],
            "type": "surface"
           }
          ],
          "table": [
           {
            "cells": {
             "fill": {
              "color": "#EBF0F8"
             },
             "line": {
              "color": "white"
             }
            },
            "header": {
             "fill": {
              "color": "#C8D4E3"
             },
             "line": {
              "color": "white"
             }
            },
            "type": "table"
           }
          ]
         },
         "layout": {
          "annotationdefaults": {
           "arrowcolor": "#2a3f5f",
           "arrowhead": 0,
           "arrowwidth": 1
          },
          "coloraxis": {
           "colorbar": {
            "outlinewidth": 0,
            "ticks": ""
           }
          },
          "colorscale": {
           "diverging": [
            [
             0,
             "#8e0152"
            ],
            [
             0.1,
             "#c51b7d"
            ],
            [
             0.2,
             "#de77ae"
            ],
            [
             0.3,
             "#f1b6da"
            ],
            [
             0.4,
             "#fde0ef"
            ],
            [
             0.5,
             "#f7f7f7"
            ],
            [
             0.6,
             "#e6f5d0"
            ],
            [
             0.7,
             "#b8e186"
            ],
            [
             0.8,
             "#7fbc41"
            ],
            [
             0.9,
             "#4d9221"
            ],
            [
             1,
             "#276419"
            ]
           ],
           "sequential": [
            [
             0,
             "#0d0887"
            ],
            [
             0.1111111111111111,
             "#46039f"
            ],
            [
             0.2222222222222222,
             "#7201a8"
            ],
            [
             0.3333333333333333,
             "#9c179e"
            ],
            [
             0.4444444444444444,
             "#bd3786"
            ],
            [
             0.5555555555555556,
             "#d8576b"
            ],
            [
             0.6666666666666666,
             "#ed7953"
            ],
            [
             0.7777777777777778,
             "#fb9f3a"
            ],
            [
             0.8888888888888888,
             "#fdca26"
            ],
            [
             1,
             "#f0f921"
            ]
           ],
           "sequentialminus": [
            [
             0,
             "#0d0887"
            ],
            [
             0.1111111111111111,
             "#46039f"
            ],
            [
             0.2222222222222222,
             "#7201a8"
            ],
            [
             0.3333333333333333,
             "#9c179e"
            ],
            [
             0.4444444444444444,
             "#bd3786"
            ],
            [
             0.5555555555555556,
             "#d8576b"
            ],
            [
             0.6666666666666666,
             "#ed7953"
            ],
            [
             0.7777777777777778,
             "#fb9f3a"
            ],
            [
             0.8888888888888888,
             "#fdca26"
            ],
            [
             1,
             "#f0f921"
            ]
           ]
          },
          "colorway": [
           "#636efa",
           "#EF553B",
           "#00cc96",
           "#ab63fa",
           "#FFA15A",
           "#19d3f3",
           "#FF6692",
           "#B6E880",
           "#FF97FF",
           "#FECB52"
          ],
          "font": {
           "color": "#2a3f5f"
          },
          "geo": {
           "bgcolor": "white",
           "lakecolor": "white",
           "landcolor": "#E5ECF6",
           "showlakes": true,
           "showland": true,
           "subunitcolor": "white"
          },
          "hoverlabel": {
           "align": "left"
          },
          "hovermode": "closest",
          "mapbox": {
           "style": "light"
          },
          "paper_bgcolor": "white",
          "plot_bgcolor": "#E5ECF6",
          "polar": {
           "angularaxis": {
            "gridcolor": "white",
            "linecolor": "white",
            "ticks": ""
           },
           "bgcolor": "#E5ECF6",
           "radialaxis": {
            "gridcolor": "white",
            "linecolor": "white",
            "ticks": ""
           }
          },
          "scene": {
           "xaxis": {
            "backgroundcolor": "#E5ECF6",
            "gridcolor": "white",
            "gridwidth": 2,
            "linecolor": "white",
            "showbackground": true,
            "ticks": "",
            "zerolinecolor": "white"
           },
           "yaxis": {
            "backgroundcolor": "#E5ECF6",
            "gridcolor": "white",
            "gridwidth": 2,
            "linecolor": "white",
            "showbackground": true,
            "ticks": "",
            "zerolinecolor": "white"
           },
           "zaxis": {
            "backgroundcolor": "#E5ECF6",
            "gridcolor": "white",
            "gridwidth": 2,
            "linecolor": "white",
            "showbackground": true,
            "ticks": "",
            "zerolinecolor": "white"
           }
          },
          "shapedefaults": {
           "line": {
            "color": "#2a3f5f"
           }
          },
          "ternary": {
           "aaxis": {
            "gridcolor": "white",
            "linecolor": "white",
            "ticks": ""
           },
           "baxis": {
            "gridcolor": "white",
            "linecolor": "white",
            "ticks": ""
           },
           "bgcolor": "#E5ECF6",
           "caxis": {
            "gridcolor": "white",
            "linecolor": "white",
            "ticks": ""
           }
          },
          "title": {
           "x": 0.05
          },
          "xaxis": {
           "automargin": true,
           "gridcolor": "white",
           "linecolor": "white",
           "ticks": "",
           "title": {
            "standoff": 15
           },
           "zerolinecolor": "white",
           "zerolinewidth": 2
          },
          "yaxis": {
           "automargin": true,
           "gridcolor": "white",
           "linecolor": "white",
           "ticks": "",
           "title": {
            "standoff": 15
           },
           "zerolinecolor": "white",
           "zerolinewidth": 2
          }
         }
        }
       }
      },
      "text/html": [
       "<div>\n",
       "        \n",
       "        \n",
       "            <div id=\"953bdfe0-afff-4a27-9b3d-7f0ed08e5e41\" class=\"plotly-graph-div\" style=\"height:525px; width:100%;\"></div>\n",
       "            <script type=\"text/javascript\">\n",
       "                require([\"plotly\"], function(Plotly) {\n",
       "                    window.PLOTLYENV=window.PLOTLYENV || {};\n",
       "                    \n",
       "                if (document.getElementById(\"953bdfe0-afff-4a27-9b3d-7f0ed08e5e41\")) {\n",
       "                    Plotly.newPlot(\n",
       "                        '953bdfe0-afff-4a27-9b3d-7f0ed08e5e41',\n",
       "                        [{\"marker\": {\"opacity\": 0.5, \"size\": 5, \"symbol\": \"circle\"}, \"mode\": \"markers+text\", \"text\": [\"Black Panther / T'chal\", \"Loki [asgardian]\", \"Mantis / ? Brandt\", \"Iceman / Robert Bobby\", \"Marvel Girl / Jean Grey\", \"Cyclops / Scott Summer\", \"Klaw / Ulysses Klaw\", \"Human Torch / Johnny S\", \"Richards, Franklin B\", \"Wolverine / Logan\", \"Firebird / Bonita Juar\", \"Mr. Fantastic / Reed R\", \"Medusa / Medusalith Am\", \"Dr. Strange / Stephen\", \"Jack Of Hearts / Jack\", \"Mephisto\", \"Thanos\", \"Swordsman / Jacques Du\", \"Collector / Taneleer T\", \"Lockjaw [inhuman]\", \"Sub-mariner / Namor Ma\", \"Pharaoh Rama-tut\", \"Ant-man Ii / Scott Har\", \"Lyja Lazerfist [skru\", \"Gorgon [inhuman]\", \"Nighthawk Ii / Kyle Ri\", \"Cage, Luke / Carl Luca\", \"Colossus Ii / Peter Ra\", \"Hellcat / Patsy Walker\", \"Karnak [inhuman]\", \"Death\", \"Redwing\", \"Daredevil / Matt Murdo\", \"Norriss, Sister Barb\", \"Rage / Elvin Daryl Hal\", \"Starfox / Eros\", \"Demolition Man / Denni\", \"Sersi / Sylvia\", \"Spider-man / Peter Parker\", \"Vision\", \"Uatu\", \"Binary / Carol Danvers\", \"Gyrich, Henry Peter\", \"Nightcrawler / Kurt Wa\", \"Angel / Warren Kenneth\", \"Silver Surfer / Norrin\", \"She-hulk / Jennifer Wa\", \"Ghaur [deviant]\", \"Dr. Doom / Victor Von\", \"Storm / Ororo Munroe S\", \"Scarlet Witch / Wanda\", \"Toad / Mortimer Toynbe\", \"Hulk / Dr. Robert Bruce Banner\", \"Firestar / Angelica Jo\", \"Wonder Man / Simon Wil\", \"Drax / Arthur Douglas\", \"Dugan, Timothy Aloyi\", \"Carter, Sharon\", \"Black Knight V / Dane\", \"Sunfire / Shiro Yoshid\", \"Triton\", \"Ultron\", \"Jones, Richard Milho\", \"Iron Man / Tony Stark\", \"Nelson, Franklin Fog\", \"Captain America\", \"Jarvis, Edwin\", \"Quasar Iii / Wendell V\", \"Jameson, J. Jonah\", \"Masters, Alicia Reis\", \"Magneto / Magnus / Eric\", \"Invisible Woman / Sue\", \"Professor X / Charles\", \"Iron Fist / Daniel Ran\", \"Black Bolt / Blackanto\", \"Hawk\", \"Sandman / William Bake\", \"Falcon / Sam Wilson\", \"Stingray / Dr. Walter\", \"Justice Ii / Vance Ast\", \"Hercules [greek God]\", \"Usagent / Captain John\", \"Captain Marvel Ii / Mo\", \"Crystal [inhuman]\", \"Tigra / Greer Nelson\", \"Spider-woman Ii / Juli\", \"Machine Man / X-51\", \"Mockingbird / Dr. Barb\", \"Captain Marvel / Capta\", \"Wasp / Janet Van Dyne\", \"Fury, Col. Nicholas\", \"Thor / Dr. Donald Blak\", \"Quicksilver / Pietro M\", \"Captain Britain / Bria\", \"Shadowcat / Katherine\", \"Black Widow / Natasha\", \"Ant-man / Dr. Henry J.\", \"Moon Knight / Marc Spe\", \"Jocasta\", \"Moondragon / Heather D\", \"Thing / Benjamin J. Gr\", \"Beast / Henry &hank& P\", \"Nova / Richard Rider\", \"Wrecker Iii / Dirk Gar\", \"Warlock Ii / Adam Warl\", \"Piledriver Ii / Brian\", \"Thunderball / Dr. Elio\", \"Dr. Octopus / Otto Oct\", \"Banner, Betty Ross T\", \"Avalanche / Dominic Pe\", \"Attuma\", \"Hela [asgardian]\", \"Doc Samson / Dr. Leona\", \"Guardian / James Macdo\", \"Northstar / Jean-paul\", \"Dr. Druid / Anthony Lu\", \"Watson-parker, Mary\", \"Mystique / Raven Darkh\", \"Pyro / Allerdyce Johnn\", \"Destiny Ii / Irene Adl\", \"Mister Hyde / Calvin Z\", \"Ghost Rider Ii / Johnn\", \"Mole Man / Harvey Rupe\", \"Firelord / Pyreus Kril\", \"Leader / Sam Sterns\", \"Le Fey, Morgan\", \"Bulldozer / Henry Camp\", \"Forgotten One / Gilgam\", \"Balder [asgardian]\", \"Hogun [asgardian]\", \"Hellstorm / Daimon Hel\", \"Aurora / Jeanne-marie\", \"O'brien, Michael\", \"Stankowicz, Fabian\", \"Screaming Mimi / Melis\", \"Moonstone Ii / Karla S\", \"Fixer Ii / Paul Norber\", \"Darkstar / Laynia Serg\", \"Vanguard / Nicolai Kry\", \"Gamora\", \"Psylocke / Elisabeth B\", \"Rogue  / \", \"Sasquatch / Walter Lan\", \"Luna / Luna Maximoff [\", \"Whizzer Ii / Stanley S\", \"Dr. Spectrum / Joseph\", \"Kingpin / Wilson Fisk\", \"Clea\", \"Polaris / Lorna Dane\", \"De La Fontaine, Cont\", \"Heimdall [asgardian]\", \"Red Skull / Johann Sch\", \"Thompson, Eugene Fla\", \"Wong\", \"Parker, May\", \"Green Goblin / Norman\", \"Night Thrasher / Duane\", \"Eternity / Adam Qadmon\", \"Galactus / Galan\", \"Triathlon / Delroy Gar\", \"Beetle / Abner Ronald\", \"Lilandra Neramani [s\", \"Odin [asgardian]\", \"Hogan, Virginia Pepp\", \"Mad Dog / Colonel Buzz\", \"Kincaid, Dr. Jane Fo\", \"Wizard / Bentley Wittm\", \"Charcoal / Charlie Bur\", \"Blob / Fred J. Dukes\", \"Cloak / Tyrone Johnson\", \"Thunderstrike / Eric K\", \"Power Man / Erik Joste\", \"Human Torch Android / \", \"Juggernaut / Cain Mark\", \"Absorbing Man / Carl C\", \"Volstagg\", \"Shaman / Michael Twoyo\", \"Snowbird / Narya / Anne\", \"Dagger / Tandy Bowen\", \"Phoenix Iii / Rachel S\", \"Mandarin\", \"Fandral [asgardian]\", \"Ms. Marvel Ii / Sharon\", \"Pip / Prince Gofern\", \"Enchantress / Amora / He\", \"Jameson, Col. John\", \"Cooper, Dr. Valerie\", \"Nova Ii / Frankie Raye\", \"Darkhawk / Chris Powel\", \"Nomad Iii / Jack Monro\", \"Robertson, Joe\", \"Gargoyle Ii / Isaac Ch\", \"Namorita / Nita Prenti\", \"Iron Man Iv / James R.\", \"Ross, Gen. Thaddeus\", \"Harkness, Agatha\", \"Carter, Peggy\", \"Hyperion\", \"Living Lightning / Mig\", \"Jones, Gabe\", \"Osborn, Liz Allan\", \"Leeds, Betty Brant\", \"Sif\", \"Dazzler Ii / Allison B\", \"Molecule Man / Owen Re\", \"Speedball / Robbie Bal\", \"Lizard / Dr. Curtis Co\", \"Volcana / Marsha Rosen\", \"Lockheed\", \"Titania Ii / Mary Skee\", \"Boomer / Tabitha Smith\", \"Summers, Nathan Chri\", \"Summers, Madelyne Ma\", \"Mactaggert, Moira Ki\", \"Cannonball Ii / Sam Gu\", \"Tilby, Trish / Patrici\", \"Skids / Sally Blevins\", \"Wolfsbane / Rahne Sinc\", \"Leech\", \"Mirage Ii / Danielle M\", \"Gambit / Remy Lebeau\", \"Jubilee / Jubilation L\", \"Strong Guy / Guido Car\", \"Spiral\", \"Banshee / Sean Cassidy\", \"Legion Ii / David Hall\", \"Havok / Alex Summers\", \"Longshot\", \"Forge\", \"Sabretooth / Victor Cr\", \"Maddicks, Arthur Art\", \"Warlock Iii\", \"Rictor / Julio Esteban\", \"Sunspot / Roberto Daco\", \"Firefist / Rusty Colli\", \"Bishop  / \", \"Daytripper / Amanda Se\", \"Wild Child / Kyle Gibn\", \"Thunderbird Ii / James\", \"Sauron / Dr. Karl Lyko\", \"Siryn / Theresa Rourke\", \"Shatterstar Ii / Gavee\", \"Marrow / Sarah\", \"Feral / Maria Callasan\", \"Callisto\", \"Mr. Sinister / Nathan\", \"Raza Longknife\", \"Spider-woman / Jessica\", \"Cypher / Doug Ramsey\", \"Deathbird [shi'ar]\", \"Hudson, Heather\", \"Stryfe\", \"Iron Man Doppelgange\", \"Puck / Eugene Milton J\", \"Silhouette\", \"Cortez, Fabian\", \"Black King / Sebastian\", \"Magik / Illyana Rasput\", \"Zabu\", \"Domino Iii / Beatrice / \", \"Caliban / \", \"Apocalypse / En Sabah\", \"Hunter, Stevie\", \"Corsair\", \"Ch'od\", \"Mam'selle Hepzibah\", \"Zero\", \"X-man / Nathan Grey\", \"Karma / Xi'an Coy Manh\", \"Mr. Fantastic Doppel\", \"Beyonder\", \"Multiple Man / James A\", \"Colossus Ii Doppelga\", \"Scanner Ii\", \"Ka-zar / Kevin Plunder\", \"White Queen / Emma Fro\", \"Magma / Amara Aquilla / \", \"Thanos Doppelganger\", \"Magus\", \"Knight, Misty\", \"Wing, Colleen\", \"Puppet Master / Philli\", \"Maximus [inhuman]\", \"Punisher Ii / Frank Ca\", \"Zeus\", \"Box Iv / Madison Jeffr\", \"Thena\", \"Black Cat / Felicia Ha\", \"Gee / Alex Power\", \"Spider-man Clone / Ben\", \"Ulik\", \"Citizen V Ii / Helmut\", \"High Evolutionary / He\", \"Hobgoblin V / Jason Ph\", \"Ghost Rider Iii / Dan\", \"Cushing, Kate\", \"Katzenberg, Nick\", \"Vizier\", \"Tombstone / Lonnie Tho\", \"Mercado, Joy\", \"Hammerhead\", \"Arranger / \", \"Osborn, Harry\", \"Cobra / Klaus Vorhees\", \"Leeds, Ned\", \"Watson, Anna\", \"Urich, Ben\", \"Robertson, Randy\", \"Page, Karen\", \"Grant, Gloria Glory\", \"Lubenski, Nate\", \"Ikaris / Ike Harris [e\", \"Rosenthal, Bernie\", \"Gladiator Ii\", \"Beta Ray Bill\", \"Bridge, George Washi\", \"Diamond Lil / Lillian\", \"Asp Ii / Cleo\", \"Black Mamba / Tanya Se\", \"Meggan\", \"Austin, Susan\", \"Diamondback Ii / Rache\", \"Makkari / Mike Khary / I\", \"Hodge, Cameron\", \"Skin / Angelo Espinosa\", \"Husk / Paige Guthrie\", \"Deadpool / Jack / Wade W\"], \"textfont\": {\"color\": \"#000000\", \"family\": \"sans serif\", \"size\": 10}, \"textposition\": \"bottom center\", \"type\": \"scatter\", \"x\": [0.9516274076722332, 1.2890091375596642, 0.1943478423035238, -11.35523179221178, -14.298549591592538, -21.274599856221986, 0.12488225080852446, 5.630632279565583, 0.4993340012883331, -22.194250841017755, 0.14717260641706756, 5.073634795881874, 0.7623311550205615, 0.7712160281502946, 0.10913736726927423, 0.31244408369230975, -0.354429226112068, 0.2144486298562283, 0.05705835202899982, 0.3625832820873725, 1.3673633539330612, 0.08631459409374395, 0.3229883669867168, 0.3676723822824758, 0.6065434495823037, 0.25705127368492187, 0.41185977364133053, -17.516100564525946, 0.24618136208157662, 0.5775829575402427, 0.06712635206086111, 0.29962983961582407, 4.97400342030081, 0.1425847146412991, 0.2275801078654269, 0.5336133702047304, 0.11471415789648706, 0.5797198386108591, 60.750623406600454, 2.6246476349451293, -0.024250619517975112, -0.5859362136554841, -0.18837874732886592, -12.663031585234332, -12.132756089558066, 0.459887453703568, 0.8098993577326925, 0.03317567616474152, 0.6272195120039857, -21.315588291497452, 2.049899621027541, -0.6365233193049799, 1.3698881997614574, 0.2602896920339075, 0.6577481062444392, -0.38267250731187097, 0.5187620123205139, 0.3343065780822179, 0.15132231516713984, -0.704778566849566, 0.5325513112642888, 0.20142456381430535, 0.5490359343291206, 6.02077919650977, 2.283922482688968, 11.195804154371197, 2.284478927746205, 0.18066870851193106, 23.01864559541599, 0.6869151038747627, -4.595198825138251, 4.207258193963784, -17.4096086115339, 0.11171440236022939, 0.6151488466440574, 2.782805226593376, 1.4545783028628638, 0.8861961615002056, 0.06786535735165289, 0.6031416596372037, 0.21721178818884748, 0.07702131683037806, 0.761553691640155, 0.5728181310760216, 0.4764175134055645, -0.010553811508002341, 0.06386917170604606, 0.49661098417533084, 0.2765143472709927, 3.3439454927362533, 0.5987340181927863, 7.955764656376693, -0.8225109824537438, -2.004628634327621, -9.146125430018715, 1.4444289012212863, 2.4878935675372142, 0.37279699862823756, 0.13844869505852966, -0.4563739942547133, 4.845173821649674, -14.591089575532546, -0.2072106841830088, 0.15888029534863563, -0.378212922554823, 0.13343436275814236, 0.26902502745826673, 2.7155324750477465, 0.42392243555747083, -1.1032481140709265, -0.007718215915435698, 0.05014345844628165, 0.21996962493672692, -0.5727165452115256, -1.176784790934235, -0.2463835523610858, 21.903797862684897, -2.5488858213966625, -1.3420621084463025, -0.9909425669616547, 0.23471647997267472, 0.13490875312017495, 0.0480515783765908, 0.13280886009632598, 0.1681943783285425, 0.04821627008433433, 0.13411318991758236, 0.1398914124318102, 1.3687420457490813, 1.3711754093591733, 0.10542509303510848, -0.9739913235005517, 0.2999346702911876, 0.28586851394494983, 0.3410118521593904, 0.4083407238244933, 0.29747961756374053, -0.01131740570020831, 0.05309834680590677, -0.4465173184201156, -7.220089326670311, -11.710640026985034, -1.533434748612297, 0.1548144961968556, 0.045618997731983475, 0.04629863792471163, 4.657846784049478, 0.20432948010239896, -5.203204818051313, 0.12481378319888657, 0.7982482473861111, 0.41293554270375055, 10.598560372094665, 0.3497440510896715, 15.076372265144572, 3.3153536622076007, 0.21469953137169484, -0.1875050117870839, -0.20843243235234254, 0.14097778344867518, 0.6203383943165428, -2.35739460080511, 1.6019082096153239, 0.17601827109484028, -0.015737887589452805, 0.46551030777140756, 0.46752046229443284, 0.13605871930155033, -1.9607803961742727, 0.49330846823115576, -0.11758471319994108, 0.44267814622248175, 0.2376555562600861, -0.7603989969306302, 0.15332166846801065, 1.3372123877305708, -1.0834568757521739, -0.45696699445018196, 0.5165341406600281, -2.2666052710878795, 0.13514875800480552, 1.3578165465705228, 0.2430354722790732, -0.3319934953007669, 0.5232345312942277, 2.5504288347345683, -1.8131233326879943, -0.27934091386678184, -0.11145491946665916, 0.222577265154731, 15.404710291605788, -0.10318587767212692, -0.11345242555206236, 0.2515941055755048, 0.435511248474852, -0.06551809848651506, 0.43345102159548216, 0.05143753972585297, -0.33455605585000064, 0.1152448783034394, 6.301830714574466, 11.609133641462755, 1.2921016130663698, -2.0451048509476077, 0.010767008727496358, -0.1972713627333403, 1.471650937090943, -0.019313063366580382, -2.330393263628149, 0.1747377909375208, -5.568951799999447, -5.750029060982513, -1.5737309927470935, -5.446051982115858, -10.261261017020136, -1.24701741250021, -1.65528415938812, -7.272609249371424, -1.3117514556033858, -4.718313931630651, -6.07362664765851, -4.094324213714674, -2.1728289848245477, -0.7197170893085845, -5.179117123152654, -0.664271543487337, -6.505128289730515, -1.4591856920985884, -2.9924884712117112, -1.212428926047924, -1.5097867485780623, -3.08515248524111, -3.1207043892893007, -6.818298524620864, -1.6413393262422082, -3.0966386505605374, -1.0346447348791534, -0.7308152111320544, -3.473715653696669, -0.5774585033068727, -2.910439190385721, -1.9160680371215593, -1.8207086277175017, -1.1067116740111584, -0.9069455565499641, -0.8186487394638767, -1.0753389885761644, -0.0400135287366745, -2.9109496831096844, -0.7553021833339839, -1.6432436305514442, -0.923921321476902, -0.2536444894763986, -1.2090131766306804, -0.0911485215458628, -0.30737428325355126, -1.2115938351502686, -3.5095705809187305, -0.11235541647511929, -1.5057298859354549, -1.9339961032061745, -1.9018674537263331, -1.105518598194346, -1.5427898879702564, -1.1028561969051207, -1.1018302148618926, -0.6322574397499735, -0.48072170927823826, -1.4601130248185807, -0.2679391886555778, -0.2736837448603351, -1.8882384817386382, -0.1853415422201535, -0.22709979079054474, -0.19998519986895047, -2.3237913951512073, -1.9638164272542398, -0.40420237696174977, -0.5759803727621126, -0.23869608936007009, -0.1740417373857955, 0.09074231669996953, 0.22042002335320698, 1.8626313360519016, 0.10720484268575815, -0.4420514420766205, 0.13245514535276512, 3.051946716238091, 0.2595677230046154, 2.942856687348448, 0.18091904015560842, 0.33900643920284, 0.06272714676612044, 2.1533452053856372, 0.16277172884860647, 3.1425805020008593, 1.8143120859079236, 0.57893430344821, 1.3432928550789085, 2.5402454899071714, 1.3323465434024924, 1.788783406155181, 7.85846311917074, 0.2364690148697674, 3.4707804568791842, 5.36571827676057, 5.495513517401721, 2.8338426964115233, 1.1355333155436789, 4.8573752418867535, 2.206401429612641, 0.12027538337153244, 0.24900241790091318, -0.44910423269125227, 0.23190766962782983, -0.28894256378100763, -0.26177046828665423, 0.16887863551195406, 0.1786514729467062, -2.1297266685296115, 0.09342533554087581, 0.42668784643623153, 0.12990088940683123, -1.0840984136822567, -1.0895376471444589, -1.1137019834953459, -0.3425756930961641], \"y\": [3.3288405575863655, 3.781691016307288, 0.729978598422981, -8.906322283754772, -11.56323244706482, -18.351481510321488, 0.19440580592918247, 5.043536082335373, 0.8740898553000545, -20.02495934247787, 0.6338636383971082, 5.81588137544341, 1.387414859631303, 1.4117594650043066, 0.33098077756835587, 0.5824127664419798, 0.21751726396028975, 0.8111275788263342, 0.33032865213841633, 1.0547240367488295, 3.296728072458921, 0.9771214809955815, 0.7442602409844427, 0.46813219926474386, 1.2378815990812257, 0.48910799948224737, 0.24716415231039096, -15.090967350034898, 0.8375252931211764, 1.1961409961241731, 0.20162442080344659, 0.7441031982336522, -1.8564389194982767, 0.731483905243697, 0.6052397273134238, 1.6689812714715795, 0.38050268509263835, 1.9042894455150992, -46.931483031756656, 15.319249622482456, 0.3741124705365705, 0.8238096526468487, 0.47578742433192905, -11.12165880853305, -9.513798017453071, 1.323975230625654, 3.912100606123012, 0.20027676495749705, 0.8397879840550746, -18.55066599359026, 15.257230724210228, -0.37530811022941657, 2.6369021579060954, 0.7783271965985514, 7.2900355871201015, 0.2004330127127491, 0.9371372384836749, 0.972048212889225, 2.5504284713848504, -0.4176236035700905, 1.0534749939361812, 0.6188114631714353, 1.8258167347483825, 19.052852633367877, -1.173457789854769, 38.96556442024303, 5.873358109320756, 1.8983236134247194, -16.97874047662836, 0.833732996261378, -3.678646716789771, 5.7452397851171595, -14.703174456232935, 0.11264211909350007, 1.2830725334893556, 12.06396915352714, -0.18322012592832743, 2.3284491059183723, 0.3716202401710444, 0.8913355720580499, 4.794856947024413, 1.666280280758164, 2.587813731529622, 2.90082234018811, 2.2095083307679384, 0.7740450362756421, 0.3048181283816488, 2.0693208473857045, 0.8164692914964723, 12.318916344355781, 1.6656120355390498, 25.87499814146804, 3.7953148174000764, -1.6294876705592998, -7.782765832638271, 3.115667676508983, 10.359505242447133, 0.19989693462889843, 0.7971309837937945, 1.1818601085232143, 6.2598889524103125, -8.760838502149474, -0.10594303389436437, 0.20904837199643314, 0.07102596790387301, 0.11521021416090083, 0.03832035530524286, -2.0417405651320517, 0.836775718199109, -0.8419041780886304, 0.18478135739336632, 0.832796247212512, 0.5065351352479243, -0.2753121310534615, -0.5050494345774812, 0.42948859039186144, -16.264042714398744, -2.0332139891349588, -1.034588140836775, -0.786849706228961, 0.16256117706798717, -0.10908419307658204, 0.1123512309463947, 0.27884124115110615, 0.28190962457169544, 0.16672375498507977, 0.1371723924448059, 0.5036003737322585, 4.519174244980218, 4.716062726622612, 0.22410840687183825, -0.43347235400429424, 0.4519188688909424, 0.4020358762132023, 0.6976950280402445, 0.839948710759378, 0.5314316162220792, 0.08585775160928445, 0.1366054113750301, -0.08968241665645872, -5.6592189511881745, -9.54458142657654, -0.49526141771889504, 0.5469004628840682, 0.3423213446800339, 0.3461997827220132, -3.095358998369301, 0.27915677204937034, -3.9557427534915126, 0.27867434463167357, 2.712708959447592, 0.8419624831568664, -7.807070831008825, 0.3278485237657358, -11.043076708693048, -2.378757319336983, 0.11366328557464106, 0.05465407539611008, 0.24889672001472324, 0.5905458855472245, 0.5585825953756691, -1.795492004549543, 5.251933348298696, 0.609105521162579, 0.1526771693316648, 1.5784271814362878, 0.20870440241181643, 0.39527344416547494, -1.5319158646409081, -0.3893670674611157, 1.2542538197162751, 0.9266413718869952, 0.882876924132147, -0.7337209912230097, 0.28029252120591763, 4.623525158237046, -0.3332258904634957, -0.2370818634392186, -0.3753078592021065, -1.964792599075561, 0.38517989748607406, 4.672843405168484, 0.2948582133988264, -0.01903571305627315, 1.6404874005047865, -1.2177586718414513, -1.2760103151318958, 0.04627599206135409, -0.007469472367244171, 0.5158342866960616, -11.261481848670025, 0.13659873450706672, 0.3453494995133367, 1.0108933921083842, 0.7339892929102676, 0.5562146488319849, 0.762815557509681, 0.37742045981527483, 0.5918952365203051, 0.4333174721268822, -4.618414743920667, -8.53593233461855, 4.439392577137529, -1.7007853602895813, -0.05385320643448667, 0.04795661189944914, -1.2077021901997136, -0.09562045801154799, -2.0064974736284293, -0.006962887562926838, -4.63015469833575, -4.812408323465183, -1.3226624367916526, -4.583324385730621, -8.835880359987161, -1.087896637922677, -1.3405265024650983, -6.075022444301379, -1.074439566194451, -4.105730478690887, -4.876882100516914, -3.4340992931099814, -1.3352027102409214, -0.5866501641793097, -4.45663486752538, -0.5425760850050755, -5.022613234121048, -1.208501563942752, -2.3954795279123013, -0.9938742092762985, -1.227602055826553, -2.667674152275657, -2.562326985792955, -5.877769359069853, -1.3035551192495536, -2.490119535635502, -0.8830215430287865, -0.35029307700156614, -2.911865093425212, -0.4853696849948133, -2.4283169900168535, -1.5840672875455404, -1.5871361037457579, -0.9027355133856508, -0.7690575863872009, -0.6596562751618492, -0.8798917673382595, -0.12215607166631964, -2.565352555241243, -0.6025667802003575, -0.5513482559244042, -0.7470568013195946, -0.06397910997755318, -0.43410406228166326, -0.037457509795131724, -0.20148234300256576, -1.0297006513868554, -3.082035986846013, -0.5058110469356689, -1.2635751825900137, -1.6031706710094895, -1.4978076557868663, -0.9353461865706005, -1.2705590759997796, -0.9021824142667297, -0.9011523837795694, -0.5123141930774681, -0.4910746580932977, -1.2633063377203875, -0.058065078138268666, -0.26987067414090626, -1.3206115408062995, -0.08999740005370561, -0.13950081606571627, -0.6211997508256969, -1.9726103577702794, -1.7579429329708807, -0.10512617151696123, -0.12518000634097623, -0.28724644373238795, -0.14511842359530283, 0.03722986335892904, 0.48684892983619316, -1.284532440541379, 0.4370180879863605, -0.08291061137471027, 0.4793234574579259, -2.2138745131489337, -0.04859029499498429, -2.1499735927072465, 0.5964810527347286, 0.4565024338972647, 0.4614491006700105, -1.5967698470111862, -0.3314456626397786, -2.3347460685320027, -1.3460735635899874, 1.7938433866423908, -0.9839498192928601, -1.8893871203114878, -0.9703881787506958, -1.3146985420867578, -5.831043744170984, 0.24717593820900402, -2.567766922507901, -3.9528090839243033, -3.9282699011159203, -2.1081365665466647, -0.5529714932281644, -3.618489549561331, -1.6414307239646067, 0.4473655427362017, 0.5509514037904453, -0.34484891422033304, 0.7752980114991801, -0.18563798365101392, -0.02463645617836772, 0.19879568439867173, 0.21176194397968315, -1.8043120847806835, 0.3556558069591701, 0.46682807625073597, 0.524717240470919, -0.8798816862786836, -0.9241543033637507, -0.9435566063480946, -0.2855677215300944]}],\n",
       "                        {\"template\": {\"data\": {\"bar\": [{\"error_x\": {\"color\": \"#2a3f5f\"}, \"error_y\": {\"color\": \"#2a3f5f\"}, \"marker\": {\"line\": {\"color\": \"#E5ECF6\", \"width\": 0.5}}, \"type\": \"bar\"}], \"barpolar\": [{\"marker\": {\"line\": {\"color\": \"#E5ECF6\", \"width\": 0.5}}, \"type\": \"barpolar\"}], \"carpet\": [{\"aaxis\": {\"endlinecolor\": \"#2a3f5f\", \"gridcolor\": \"white\", \"linecolor\": \"white\", \"minorgridcolor\": \"white\", \"startlinecolor\": \"#2a3f5f\"}, \"baxis\": {\"endlinecolor\": \"#2a3f5f\", \"gridcolor\": \"white\", \"linecolor\": \"white\", \"minorgridcolor\": \"white\", \"startlinecolor\": \"#2a3f5f\"}, \"type\": \"carpet\"}], \"choropleth\": [{\"colorbar\": {\"outlinewidth\": 0, \"ticks\": \"\"}, \"type\": \"choropleth\"}], \"contour\": [{\"colorbar\": {\"outlinewidth\": 0, \"ticks\": \"\"}, \"colorscale\": [[0.0, \"#0d0887\"], [0.1111111111111111, \"#46039f\"], [0.2222222222222222, \"#7201a8\"], [0.3333333333333333, \"#9c179e\"], [0.4444444444444444, \"#bd3786\"], [0.5555555555555556, \"#d8576b\"], [0.6666666666666666, \"#ed7953\"], [0.7777777777777778, \"#fb9f3a\"], [0.8888888888888888, \"#fdca26\"], [1.0, \"#f0f921\"]], \"type\": \"contour\"}], \"contourcarpet\": [{\"colorbar\": {\"outlinewidth\": 0, \"ticks\": \"\"}, \"type\": \"contourcarpet\"}], \"heatmap\": [{\"colorbar\": {\"outlinewidth\": 0, \"ticks\": \"\"}, \"colorscale\": [[0.0, \"#0d0887\"], [0.1111111111111111, \"#46039f\"], [0.2222222222222222, \"#7201a8\"], [0.3333333333333333, \"#9c179e\"], [0.4444444444444444, \"#bd3786\"], [0.5555555555555556, \"#d8576b\"], [0.6666666666666666, \"#ed7953\"], [0.7777777777777778, \"#fb9f3a\"], [0.8888888888888888, \"#fdca26\"], [1.0, \"#f0f921\"]], \"type\": \"heatmap\"}], \"heatmapgl\": [{\"colorbar\": {\"outlinewidth\": 0, \"ticks\": \"\"}, \"colorscale\": [[0.0, \"#0d0887\"], [0.1111111111111111, \"#46039f\"], [0.2222222222222222, \"#7201a8\"], [0.3333333333333333, \"#9c179e\"], [0.4444444444444444, \"#bd3786\"], [0.5555555555555556, \"#d8576b\"], [0.6666666666666666, \"#ed7953\"], [0.7777777777777778, \"#fb9f3a\"], [0.8888888888888888, \"#fdca26\"], [1.0, \"#f0f921\"]], \"type\": \"heatmapgl\"}], \"histogram\": [{\"marker\": {\"colorbar\": {\"outlinewidth\": 0, \"ticks\": \"\"}}, \"type\": \"histogram\"}], \"histogram2d\": [{\"colorbar\": {\"outlinewidth\": 0, \"ticks\": \"\"}, \"colorscale\": [[0.0, \"#0d0887\"], [0.1111111111111111, \"#46039f\"], [0.2222222222222222, \"#7201a8\"], [0.3333333333333333, \"#9c179e\"], [0.4444444444444444, \"#bd3786\"], [0.5555555555555556, \"#d8576b\"], [0.6666666666666666, \"#ed7953\"], [0.7777777777777778, \"#fb9f3a\"], [0.8888888888888888, \"#fdca26\"], [1.0, \"#f0f921\"]], \"type\": \"histogram2d\"}], \"histogram2dcontour\": [{\"colorbar\": {\"outlinewidth\": 0, \"ticks\": \"\"}, \"colorscale\": [[0.0, \"#0d0887\"], [0.1111111111111111, \"#46039f\"], [0.2222222222222222, \"#7201a8\"], [0.3333333333333333, \"#9c179e\"], [0.4444444444444444, \"#bd3786\"], [0.5555555555555556, \"#d8576b\"], [0.6666666666666666, \"#ed7953\"], [0.7777777777777778, \"#fb9f3a\"], [0.8888888888888888, \"#fdca26\"], [1.0, \"#f0f921\"]], \"type\": \"histogram2dcontour\"}], \"mesh3d\": [{\"colorbar\": {\"outlinewidth\": 0, \"ticks\": \"\"}, \"type\": \"mesh3d\"}], \"parcoords\": [{\"line\": {\"colorbar\": {\"outlinewidth\": 0, \"ticks\": \"\"}}, \"type\": \"parcoords\"}], \"pie\": [{\"automargin\": true, \"type\": \"pie\"}], \"scatter\": [{\"marker\": {\"colorbar\": {\"outlinewidth\": 0, \"ticks\": \"\"}}, \"type\": \"scatter\"}], \"scatter3d\": [{\"line\": {\"colorbar\": {\"outlinewidth\": 0, \"ticks\": \"\"}}, \"marker\": {\"colorbar\": {\"outlinewidth\": 0, \"ticks\": \"\"}}, \"type\": \"scatter3d\"}], \"scattercarpet\": [{\"marker\": {\"colorbar\": {\"outlinewidth\": 0, \"ticks\": \"\"}}, \"type\": \"scattercarpet\"}], \"scattergeo\": [{\"marker\": {\"colorbar\": {\"outlinewidth\": 0, \"ticks\": \"\"}}, \"type\": \"scattergeo\"}], \"scattergl\": [{\"marker\": {\"colorbar\": {\"outlinewidth\": 0, \"ticks\": \"\"}}, \"type\": \"scattergl\"}], \"scattermapbox\": [{\"marker\": {\"colorbar\": {\"outlinewidth\": 0, \"ticks\": \"\"}}, \"type\": \"scattermapbox\"}], \"scatterpolar\": [{\"marker\": {\"colorbar\": {\"outlinewidth\": 0, \"ticks\": \"\"}}, \"type\": \"scatterpolar\"}], \"scatterpolargl\": [{\"marker\": {\"colorbar\": {\"outlinewidth\": 0, \"ticks\": \"\"}}, \"type\": \"scatterpolargl\"}], \"scatterternary\": [{\"marker\": {\"colorbar\": {\"outlinewidth\": 0, \"ticks\": \"\"}}, \"type\": \"scatterternary\"}], \"surface\": [{\"colorbar\": {\"outlinewidth\": 0, \"ticks\": \"\"}, \"colorscale\": [[0.0, \"#0d0887\"], [0.1111111111111111, \"#46039f\"], [0.2222222222222222, \"#7201a8\"], [0.3333333333333333, \"#9c179e\"], [0.4444444444444444, \"#bd3786\"], [0.5555555555555556, \"#d8576b\"], [0.6666666666666666, \"#ed7953\"], [0.7777777777777778, \"#fb9f3a\"], [0.8888888888888888, \"#fdca26\"], [1.0, \"#f0f921\"]], \"type\": \"surface\"}], \"table\": [{\"cells\": {\"fill\": {\"color\": \"#EBF0F8\"}, \"line\": {\"color\": \"white\"}}, \"header\": {\"fill\": {\"color\": \"#C8D4E3\"}, \"line\": {\"color\": \"white\"}}, \"type\": \"table\"}]}, \"layout\": {\"annotationdefaults\": {\"arrowcolor\": \"#2a3f5f\", \"arrowhead\": 0, \"arrowwidth\": 1}, \"coloraxis\": {\"colorbar\": {\"outlinewidth\": 0, \"ticks\": \"\"}}, \"colorscale\": {\"diverging\": [[0, \"#8e0152\"], [0.1, \"#c51b7d\"], [0.2, \"#de77ae\"], [0.3, \"#f1b6da\"], [0.4, \"#fde0ef\"], [0.5, \"#f7f7f7\"], [0.6, \"#e6f5d0\"], [0.7, \"#b8e186\"], [0.8, \"#7fbc41\"], [0.9, \"#4d9221\"], [1, \"#276419\"]], \"sequential\": [[0.0, \"#0d0887\"], [0.1111111111111111, \"#46039f\"], [0.2222222222222222, \"#7201a8\"], [0.3333333333333333, \"#9c179e\"], [0.4444444444444444, \"#bd3786\"], [0.5555555555555556, \"#d8576b\"], [0.6666666666666666, \"#ed7953\"], [0.7777777777777778, \"#fb9f3a\"], [0.8888888888888888, \"#fdca26\"], [1.0, \"#f0f921\"]], \"sequentialminus\": [[0.0, \"#0d0887\"], [0.1111111111111111, \"#46039f\"], [0.2222222222222222, \"#7201a8\"], [0.3333333333333333, \"#9c179e\"], [0.4444444444444444, \"#bd3786\"], [0.5555555555555556, \"#d8576b\"], [0.6666666666666666, \"#ed7953\"], [0.7777777777777778, \"#fb9f3a\"], [0.8888888888888888, \"#fdca26\"], [1.0, \"#f0f921\"]]}, \"colorway\": [\"#636efa\", \"#EF553B\", \"#00cc96\", \"#ab63fa\", \"#FFA15A\", \"#19d3f3\", \"#FF6692\", \"#B6E880\", \"#FF97FF\", \"#FECB52\"], \"font\": {\"color\": \"#2a3f5f\"}, \"geo\": {\"bgcolor\": \"white\", \"lakecolor\": \"white\", \"landcolor\": \"#E5ECF6\", \"showlakes\": true, \"showland\": true, \"subunitcolor\": \"white\"}, \"hoverlabel\": {\"align\": \"left\"}, \"hovermode\": \"closest\", \"mapbox\": {\"style\": \"light\"}, \"paper_bgcolor\": \"white\", \"plot_bgcolor\": \"#E5ECF6\", \"polar\": {\"angularaxis\": {\"gridcolor\": \"white\", \"linecolor\": \"white\", \"ticks\": \"\"}, \"bgcolor\": \"#E5ECF6\", \"radialaxis\": {\"gridcolor\": \"white\", \"linecolor\": \"white\", \"ticks\": \"\"}}, \"scene\": {\"xaxis\": {\"backgroundcolor\": \"#E5ECF6\", \"gridcolor\": \"white\", \"gridwidth\": 2, \"linecolor\": \"white\", \"showbackground\": true, \"ticks\": \"\", \"zerolinecolor\": \"white\"}, \"yaxis\": {\"backgroundcolor\": \"#E5ECF6\", \"gridcolor\": \"white\", \"gridwidth\": 2, \"linecolor\": \"white\", \"showbackground\": true, \"ticks\": \"\", \"zerolinecolor\": \"white\"}, \"zaxis\": {\"backgroundcolor\": \"#E5ECF6\", \"gridcolor\": \"white\", \"gridwidth\": 2, \"linecolor\": \"white\", \"showbackground\": true, \"ticks\": \"\", \"zerolinecolor\": \"white\"}}, \"shapedefaults\": {\"line\": {\"color\": \"#2a3f5f\"}}, \"ternary\": {\"aaxis\": {\"gridcolor\": \"white\", \"linecolor\": \"white\", \"ticks\": \"\"}, \"baxis\": {\"gridcolor\": \"white\", \"linecolor\": \"white\", \"ticks\": \"\"}, \"bgcolor\": \"#E5ECF6\", \"caxis\": {\"gridcolor\": \"white\", \"linecolor\": \"white\", \"ticks\": \"\"}}, \"title\": {\"x\": 0.05}, \"xaxis\": {\"automargin\": true, \"gridcolor\": \"white\", \"linecolor\": \"white\", \"ticks\": \"\", \"title\": {\"standoff\": 15}, \"zerolinecolor\": \"white\", \"zerolinewidth\": 2}, \"yaxis\": {\"automargin\": true, \"gridcolor\": \"white\", \"linecolor\": \"white\", \"ticks\": \"\", \"title\": {\"standoff\": 15}, \"zerolinecolor\": \"white\", \"zerolinewidth\": 2}}}},\n",
       "                        {\"responsive\": true}\n",
       "                    ).then(function(){\n",
       "                            \n",
       "var gd = document.getElementById('953bdfe0-afff-4a27-9b3d-7f0ed08e5e41');\n",
       "var x = new MutationObserver(function (mutations, observer) {{\n",
       "        var display = window.getComputedStyle(gd).display;\n",
       "        if (!display || display === 'none') {{\n",
       "            console.log([gd, 'removed!']);\n",
       "            Plotly.purge(gd);\n",
       "            observer.disconnect();\n",
       "        }}\n",
       "}});\n",
       "\n",
       "// Listen for the removal of the full notebook cells\n",
       "var notebookContainer = gd.closest('#notebook-container');\n",
       "if (notebookContainer) {{\n",
       "    x.observe(notebookContainer, {childList: true});\n",
       "}}\n",
       "\n",
       "// Listen for the clearing of the current output cell\n",
       "var outputEl = gd.closest('.output');\n",
       "if (outputEl) {{\n",
       "    x.observe(outputEl, {childList: true});\n",
       "}}\n",
       "\n",
       "                        })\n",
       "                };\n",
       "                });\n",
       "            </script>\n",
       "        </div>"
      ]
     },
     "metadata": {},
     "output_type": "display_data"
    }
   ],
   "source": [
    "# Plot as 2D scatter plot\n",
    "scatter = go.Scatter(\n",
    "    x = Y[:,0],\n",
    "    y = Y[:,1],\n",
    "    mode='markers+text',\n",
    "    text= df_nodes.values[:,0],\n",
    "    textposition='bottom center',\n",
    "    textfont=dict(\n",
    "        family='sans serif',\n",
    "        size=10,\n",
    "        color='#000000'\n",
    "    ),\n",
    "    marker=dict(\n",
    "        size=5,\n",
    "        symbol='circle',\n",
    "        opacity=0.5\n",
    "    )\n",
    ")\n",
    "\n",
    "\n",
    "\n",
    "\n",
    "\n",
    "\n",
    "data = [scatter]\n",
    "iplot(data, filename='fig0')"
   ]
  },
  {
   "cell_type": "code",
   "execution_count": null,
   "metadata": {},
   "outputs": [],
   "source": []
  }
 ],
 "metadata": {
  "kernelspec": {
   "display_name": "Python 3",
   "language": "python",
   "name": "python3"
  },
  "language_info": {
   "codemirror_mode": {
    "name": "ipython",
    "version": 3
   },
   "file_extension": ".py",
   "mimetype": "text/x-python",
   "name": "python",
   "nbconvert_exporter": "python",
   "pygments_lexer": "ipython3",
   "version": "3.7.4"
  }
 },
 "nbformat": 4,
 "nbformat_minor": 2
}
