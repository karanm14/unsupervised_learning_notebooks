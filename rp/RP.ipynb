{
 "cells": [
  {
   "cell_type": "code",
   "execution_count": 1,
   "metadata": {},
   "outputs": [
    {
     "ename": "ImportError",
     "evalue": "cannot import name 'imread' from 'scipy.ndimage' (/Users/karanmaheshwari/anaconda3/envs/plotly/lib/python3.7/site-packages/scipy/ndimage/__init__.py)",
     "output_type": "error",
     "traceback": [
      "\u001b[0;31m---------------------------------------------------------------------------\u001b[0m",
      "\u001b[0;31mImportError\u001b[0m                               Traceback (most recent call last)",
      "\u001b[0;32m<ipython-input-1-0ea209f1f44e>\u001b[0m in \u001b[0;36m<module>\u001b[0;34m\u001b[0m\n\u001b[1;32m      1\u001b[0m \u001b[0;32mimport\u001b[0m \u001b[0mnumpy\u001b[0m \u001b[0;32mas\u001b[0m \u001b[0mnp\u001b[0m\u001b[0;34m\u001b[0m\u001b[0;34m\u001b[0m\u001b[0m\n\u001b[1;32m      2\u001b[0m \u001b[0;32mfrom\u001b[0m \u001b[0mscipy\u001b[0m\u001b[0;34m.\u001b[0m\u001b[0msparse\u001b[0m\u001b[0;34m.\u001b[0m\u001b[0mlinalg\u001b[0m \u001b[0;32mimport\u001b[0m \u001b[0meigs\u001b[0m\u001b[0;34m\u001b[0m\u001b[0;34m\u001b[0m\u001b[0m\n\u001b[0;32m----> 3\u001b[0;31m \u001b[0;32mfrom\u001b[0m \u001b[0mscipy\u001b[0m\u001b[0;34m.\u001b[0m\u001b[0mndimage\u001b[0m \u001b[0;32mimport\u001b[0m \u001b[0mimread\u001b[0m\u001b[0;34m\u001b[0m\u001b[0;34m\u001b[0m\u001b[0m\n\u001b[0m\u001b[1;32m      4\u001b[0m \u001b[0;32mfrom\u001b[0m \u001b[0mplotly\u001b[0m\u001b[0;34m.\u001b[0m\u001b[0moffline\u001b[0m \u001b[0;32mimport\u001b[0m \u001b[0mdownload_plotlyjs\u001b[0m\u001b[0;34m,\u001b[0m \u001b[0minit_notebook_mode\u001b[0m\u001b[0;34m,\u001b[0m \u001b[0mplot\u001b[0m\u001b[0;34m,\u001b[0m \u001b[0miplot\u001b[0m\u001b[0;34m\u001b[0m\u001b[0;34m\u001b[0m\u001b[0m\n\u001b[1;32m      5\u001b[0m \u001b[0;32mimport\u001b[0m \u001b[0mplotly\u001b[0m\u001b[0;34m.\u001b[0m\u001b[0mgraph_objs\u001b[0m \u001b[0;32mas\u001b[0m \u001b[0mgo\u001b[0m\u001b[0;34m\u001b[0m\u001b[0;34m\u001b[0m\u001b[0m\n",
      "\u001b[0;31mImportError\u001b[0m: cannot import name 'imread' from 'scipy.ndimage' (/Users/karanmaheshwari/anaconda3/envs/plotly/lib/python3.7/site-packages/scipy/ndimage/__init__.py)"
     ]
    }
   ],
   "source": [
    "import numpy as np\n",
    "from scipy.sparse.linalg import eigs\n",
    "from scipy.ndimage import imread\n",
    "from plotly.offline import download_plotlyjs, init_notebook_mode, plot, iplot\n",
    "import plotly.graph_objs as go\n",
    "from PIL import Image\n",
    "from IPython.display import display\n",
    "init_notebook_mode(connected=True)\n",
    "import math\n"
   ]
  },
  {
   "cell_type": "code",
   "execution_count": 13,
   "metadata": {},
   "outputs": [
    {
     "name": "stdout",
     "output_type": "stream",
     "text": [
      "[[-1.]\n",
      " [-1.]\n",
      " [-1.]\n",
      " ..., \n",
      " [-1.]\n",
      " [ 1.]\n",
      " [-1.]]\n",
      "12362985.0\n",
      "[ 9492561.]\n"
     ]
    },
    {
     "name": "stderr",
     "output_type": "stream",
     "text": [
      "/anaconda3/lib/python3.6/site-packages/ipykernel_launcher.py:5: DeprecationWarning:\n",
      "\n",
      "`imread` is deprecated!\n",
      "`imread` is deprecated in SciPy 1.0.0.\n",
      "Use ``matplotlib.pyplot.imread`` instead.\n",
      "\n"
     ]
    }
   ],
   "source": [
    "I = np.zeros((105,105,28))\n",
    "X = np.zeros((28,11025))\n",
    "# Load images and convert into vector format\n",
    "for t in range(28):\n",
    "    I[:,:,t] = imread(\"./smilie\"+str(t+1)+\".jpeg\",flatten=True)\n",
    "    X[t,:] = I[:,:,t].reshape((1,-1)).astype(float)\n",
    "\n",
    "K = 1\n",
    "\n",
    "\n",
    "\n",
    "W = (np.random.randint(2, size=(11025,K))*2 -1)/math.sqrt(K)\n",
    "\n",
    "print(W)\n",
    "Y = X.dot(W)\n",
    "\n",
    "print(np.linalg.norm(X[1,:]- X[2,:])*np.linalg.norm(X[1,:]- X[2,:]))\n",
    "print((Y[1]- Y[2])*(Y[1]- Y[2]))\n",
    "\n",
    "\n"
   ]
  },
  {
   "cell_type": "code",
   "execution_count": 23,
   "metadata": {},
   "outputs": [],
   "source": [
    "import math\n",
    "K = 5\n",
    "W = (np.random.randint(2, size=(11025,K))*2 -1)/math.sqrt(K)\n",
    "\n"
   ]
  },
  {
   "cell_type": "code",
   "execution_count": 15,
   "metadata": {},
   "outputs": [],
   "source": [
    "np.linalg.norm?"
   ]
  },
  {
   "cell_type": "code",
   "execution_count": 25,
   "metadata": {},
   "outputs": [
    {
     "name": "stdout",
     "output_type": "stream",
     "text": [
      "46.95742752749571\n",
      "46.95742752749571\n",
      "46.95742752749571\n",
      "46.95742752749571\n",
      "46.95742752749571\n"
     ]
    }
   ],
   "source": [
    "for i in range(5):\n",
    "    print(np.linalg.norm(W[:,i]))"
   ]
  },
  {
   "cell_type": "code",
   "execution_count": 14,
   "metadata": {},
   "outputs": [
    {
     "name": "stdout",
     "output_type": "stream",
     "text": [
      "12362985.0\n",
      "12610905.8304\n"
     ]
    }
   ],
   "source": [
    "D = np.zeros((10000,1))\n",
    "for k in range(10000):\n",
    "    W = (np.random.randint(2, size=(11025,K))*2 -1)/math.sqrt(K)\n",
    "    Y = X.dot(W)\n",
    "    D[k] = (Y[1]- Y[2])*(Y[1]- Y[2])\n",
    "\n",
    "print(np.linalg.norm(X[1,:]- X[2,:])*np.linalg.norm(X[1,:]- X[2,:]))\n",
    "print(np.mean(D))"
   ]
  },
  {
   "cell_type": "code",
   "execution_count": 22,
   "metadata": {},
   "outputs": [
    {
     "name": "stdout",
     "output_type": "stream",
     "text": [
      "12362985.0\n",
      "11695308.8\n"
     ]
    }
   ],
   "source": [
    "K = 1000\n",
    "\n",
    "\n",
    "\n",
    "W = (np.random.randint(2, size=(11025,K))*2 -1)/math.sqrt(K)\n",
    "Y = X.dot(W)\n",
    "\n",
    "print(np.linalg.norm(X[1,:]- X[2,:])*np.linalg.norm(X[1,:]- X[2,:]))\n",
    "print(np.dot(Y[1,:]- Y[2,:],Y[1,:]- Y[2,:]))"
   ]
  },
  {
   "cell_type": "code",
   "execution_count": 33,
   "metadata": {},
   "outputs": [
    {
     "name": "stdout",
     "output_type": "stream",
     "text": [
      "105.0\n",
      "74.24621202458748\n",
      "60.62177826491099\n",
      "52.5\n",
      "46.95742752749571\n",
      "42.86607049870582\n",
      "39.68626966596878\n",
      "37.12310601229374\n",
      "35.00000000000026\n",
      "33.203915431768074\n",
      "31.658691180665375\n",
      "30.310889132455497\n",
      "29.121760301824747\n",
      "28.062430400804505\n",
      "27.11088342345209\n",
      "26.25\n",
      "25.466240628815083\n",
      "24.748737341529353\n",
      "24.088652056409156\n",
      "23.478713763747855\n",
      "22.912878474779184\n",
      "22.386075217339233\n",
      "21.89401347599294\n",
      "21.43303524935291\n",
      "20.999999999999844\n",
      "20.592194189509478\n",
      "20.207259421636955\n",
      "19.84313483298439\n",
      "19.498010508590575\n",
      "19.170289512680935\n",
      "18.858556712811374\n",
      "18.56155300614687\n",
      "18.27815387534843\n",
      "18.007351439963514\n",
      "17.74823934929882\n",
      "17.50000000000013\n",
      "17.26189366706248\n",
      "17.033249218730187\n",
      "16.813456149534122\n",
      "16.601957715884037\n",
      "16.398244998303486\n",
      "16.20185174601964\n",
      "16.012349884923502\n",
      "15.829345590332688\n",
      "15.652475842498502\n",
      "15.481405396264263\n",
      "15.315824107278853\n",
      "15.155444566227748\n",
      "15.000000000000078\n",
      "14.849242404917387\n",
      "14.70294088229408\n",
      "14.560880150912373\n",
      "14.422859214612286\n",
      "14.288690166235243\n",
      "14.15819711172804\n",
      "14.031215200402253\n",
      "13.907589749182982\n",
      "13.78717545027096\n",
      "13.6698356529866\n",
      "13.555441711726045\n",
      "13.44387239295401\n",
      "13.33501333502001\n",
      "13.22875655532293\n",
      "13.125\n",
      "13.023647131866868\n",
      "12.924606552830047\n",
      "12.827791657412105\n",
      "12.733120314407541\n",
      "12.640514574005712\n",
      "12.549900398011113\n",
      "12.461207411035566\n",
      "12.374368670764676\n",
      "12.289320455593618\n",
      "12.206002068100998\n",
      "12.124355652982208\n",
      "12.044326028204578\n",
      "11.96586052826202\n",
      "11.888908858518237\n",
      "11.813422959723278\n",
      "11.739356881873928\n",
      "11.666666666666666\n",
      "11.595310237858781\n",
      "11.525247298917538\n",
      "11.456439237389592\n",
      "11.388849035479431\n",
      "11.322441186361042\n",
      "11.257181615796778\n",
      "11.193037608669616\n",
      "11.129977740066817\n",
      "11.06797181058931\n",
      "11.006990785580124\n",
      "10.94700673799647\n",
      "10.887992794669461\n",
      "10.829923085717278\n",
      "10.77277269689403\n",
      "10.716517624676454\n",
      "10.661134733902983\n",
      "10.606601717798268\n",
      "10.55289706022177\n"
     ]
    }
   ],
   "source": [
    "\n",
    "\n",
    "\n",
    "for K in range(1,100):\n",
    "    W = (np.random.randint(2, size=(11025,K))*2 -1)/math.sqrt(K)\n",
    "    l = np.linalg.norm(W[:,0])\n",
    "    print(l)\n",
    "    \n",
    "\n"
   ]
  },
  {
   "cell_type": "code",
   "execution_count": 30,
   "metadata": {},
   "outputs": [
    {
     "data": {
      "text/plain": [
       "44.19999999999998"
      ]
     },
     "execution_count": 30,
     "metadata": {},
     "output_type": "execute_result"
    }
   ],
   "source": [
    "np.dot(W[:,1],W[:,4])"
   ]
  },
  {
   "cell_type": "code",
   "execution_count": null,
   "metadata": {},
   "outputs": [],
   "source": []
  }
 ],
 "metadata": {
  "kernelspec": {
   "display_name": "Python 3",
   "language": "python",
   "name": "python3"
  },
  "language_info": {
   "codemirror_mode": {
    "name": "ipython",
    "version": 3
   },
   "file_extension": ".py",
   "mimetype": "text/x-python",
   "name": "python",
   "nbconvert_exporter": "python",
   "pygments_lexer": "ipython3",
   "version": "3.7.4"
  }
 },
 "nbformat": 4,
 "nbformat_minor": 2
}
